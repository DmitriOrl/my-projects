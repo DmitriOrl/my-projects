{
 "cells": [
  {
   "cell_type": "markdown",
   "metadata": {
    "toc": true
   },
   "source": [
    "<h1>Содержание<span class=\"tocSkip\"></span></h1>\n",
    "<div class=\"toc\"><ul class=\"toc-item\"><li><span><a href=\"#Изучение-данных-из-файлов\" data-toc-modified-id=\"Изучение-данных-из-файлов-1\"><span class=\"toc-item-num\">1&nbsp;&nbsp;</span>Изучение данных из файлов</a></span><ul class=\"toc-item\"><li><span><a href=\"#Вывод\" data-toc-modified-id=\"Вывод-1.1\"><span class=\"toc-item-num\">1.1&nbsp;&nbsp;</span>Вывод</a></span></li></ul></li><li><span><a href=\"#Предобработка-данных\" data-toc-modified-id=\"Предобработка-данных-2\"><span class=\"toc-item-num\">2&nbsp;&nbsp;</span>Предобработка данных</a></span><ul class=\"toc-item\"><li><span><a href=\"#Вывод\" data-toc-modified-id=\"Вывод-2.1\"><span class=\"toc-item-num\">2.1&nbsp;&nbsp;</span>Вывод</a></span></li></ul></li><li><span><a href=\"#Исследовательский-анализ-данных\" data-toc-modified-id=\"Исследовательский-анализ-данных-3\"><span class=\"toc-item-num\">3&nbsp;&nbsp;</span>Исследовательский анализ данных</a></span><ul class=\"toc-item\"><li><span><a href=\"#Вывод\" data-toc-modified-id=\"Вывод-3.1\"><span class=\"toc-item-num\">3.1&nbsp;&nbsp;</span>Вывод</a></span></li></ul></li><li><span><a href=\"#Проверка-гипотез\" data-toc-modified-id=\"Проверка-гипотез-4\"><span class=\"toc-item-num\">4&nbsp;&nbsp;</span>Проверка гипотез</a></span><ul class=\"toc-item\"><li><span><a href=\"#Вывод\" data-toc-modified-id=\"Вывод-4.1\"><span class=\"toc-item-num\">4.1&nbsp;&nbsp;</span>Вывод</a></span></li></ul></li><li><span><a href=\"#Общий-вывод\" data-toc-modified-id=\"Общий-вывод-5\"><span class=\"toc-item-num\">5&nbsp;&nbsp;</span>Общий вывод</a></span></li></ul></div>"
   ]
  },
  {
   "cell_type": "markdown",
   "metadata": {},
   "source": [
    "# Определение перспективного тарифа для телеком-компании\n",
    "\n",
    "\n",
    "«Мегалайн» — компания федерального оператора сотовой связи. Клиентам компании предлагают два тарифных плана: «Смарт» и «Ультра». Чтобы скорректировать рекламный бюджет, коммерческий департамент хочет понять, какой тариф приносит больше денег.\n",
    "Предлагается сделать предварительный анализ тарифов на небольшой выборке клиентов. В нашем распоряжении данные 500 пользователей «Мегалайна»: кто они, откуда, каким тарифом пользуются, сколько звонков и сообщений каждый отправил за 2018 год. Нужно проанализировать поведение клиентов и сделать вывод — какой тариф лучше.    \n",
    "    \n",
    "*Описание тарифов:*    \n",
    "**Тариф «Смарт»**    \n",
    "- Ежемесячная плата: 550 рублей    \n",
    "- Включено 500 минут разговора, 50 сообщений и 15 Гб интернет-трафика    \n",
    "- Стоимость услуг сверх тарифного пакета: 1. минута разговора: 3 рубля («Мегалайн» всегда округляет вверх значения минут и мегабайтов. Если пользователь проговорил всего 1 секунду, в тарифе засчитывается целая минута); 2. сообщение: 3 рубля; 3. 1 Гб интернет-трафика: 200 рублей.    \n",
    "    \n",
    "**Тариф «Ультра»**    \n",
    "- Ежемесячная плата: 1950 рублей    \n",
    "- Включено 3000 минут разговора, 1000 сообщений и 30 Гб интернет-трафика\n",
    "- Стоимость услуг сверх тарифного пакета: 1. минута разговора: 1 рубль; 2. сообщение: 1 рубль; 3. 1 Гб интернет-трафика: 150 рублей.\n"
   ]
  },
  {
   "cell_type": "markdown",
   "metadata": {},
   "source": [
    "## Изучение данных из файлов"
   ]
  },
  {
   "cell_type": "code",
   "execution_count": 16,
   "metadata": {},
   "outputs": [
    {
     "data": {
      "text/html": [
       "<div>\n",
       "<style scoped>\n",
       "    .dataframe tbody tr th:only-of-type {\n",
       "        vertical-align: middle;\n",
       "    }\n",
       "\n",
       "    .dataframe tbody tr th {\n",
       "        vertical-align: top;\n",
       "    }\n",
       "\n",
       "    .dataframe thead th {\n",
       "        text-align: right;\n",
       "    }\n",
       "</style>\n",
       "<table border=\"1\" class=\"dataframe\">\n",
       "  <thead>\n",
       "    <tr style=\"text-align: right;\">\n",
       "      <th></th>\n",
       "      <th>id</th>\n",
       "      <th>call_date</th>\n",
       "      <th>duration</th>\n",
       "      <th>user_id</th>\n",
       "    </tr>\n",
       "  </thead>\n",
       "  <tbody>\n",
       "    <tr>\n",
       "      <td>190049</td>\n",
       "      <td>1468_20</td>\n",
       "      <td>2018-07-17</td>\n",
       "      <td>0.00</td>\n",
       "      <td>1468</td>\n",
       "    </tr>\n",
       "    <tr>\n",
       "      <td>169794</td>\n",
       "      <td>1418_11</td>\n",
       "      <td>2018-12-03</td>\n",
       "      <td>0.00</td>\n",
       "      <td>1418</td>\n",
       "    </tr>\n",
       "    <tr>\n",
       "      <td>155148</td>\n",
       "      <td>1383_61</td>\n",
       "      <td>2018-12-25</td>\n",
       "      <td>5.69</td>\n",
       "      <td>1383</td>\n",
       "    </tr>\n",
       "    <tr>\n",
       "      <td>76093</td>\n",
       "      <td>1189_761</td>\n",
       "      <td>2018-12-28</td>\n",
       "      <td>0.00</td>\n",
       "      <td>1189</td>\n",
       "    </tr>\n",
       "    <tr>\n",
       "      <td>54279</td>\n",
       "      <td>1135_572</td>\n",
       "      <td>2018-06-07</td>\n",
       "      <td>4.24</td>\n",
       "      <td>1135</td>\n",
       "    </tr>\n",
       "  </tbody>\n",
       "</table>\n",
       "</div>"
      ],
      "text/plain": [
       "              id   call_date  duration  user_id\n",
       "190049   1468_20  2018-07-17      0.00     1468\n",
       "169794   1418_11  2018-12-03      0.00     1418\n",
       "155148   1383_61  2018-12-25      5.69     1383\n",
       "76093   1189_761  2018-12-28      0.00     1189\n",
       "54279   1135_572  2018-06-07      4.24     1135"
      ]
     },
     "metadata": {},
     "output_type": "display_data"
    },
    {
     "name": "stdout",
     "output_type": "stream",
     "text": [
      "\n",
      "<class 'pandas.core.frame.DataFrame'>\n",
      "RangeIndex: 202607 entries, 0 to 202606\n",
      "Data columns (total 4 columns):\n",
      "id           202607 non-null object\n",
      "call_date    202607 non-null object\n",
      "duration     202607 non-null float64\n",
      "user_id      202607 non-null int64\n",
      "dtypes: float64(1), int64(1), object(2)\n",
      "memory usage: 6.2+ MB\n"
     ]
    },
    {
     "data": {
      "text/html": [
       "<div>\n",
       "<style scoped>\n",
       "    .dataframe tbody tr th:only-of-type {\n",
       "        vertical-align: middle;\n",
       "    }\n",
       "\n",
       "    .dataframe tbody tr th {\n",
       "        vertical-align: top;\n",
       "    }\n",
       "\n",
       "    .dataframe thead th {\n",
       "        text-align: right;\n",
       "    }\n",
       "</style>\n",
       "<table border=\"1\" class=\"dataframe\">\n",
       "  <thead>\n",
       "    <tr style=\"text-align: right;\">\n",
       "      <th></th>\n",
       "      <th>Unnamed: 0</th>\n",
       "      <th>id</th>\n",
       "      <th>mb_used</th>\n",
       "      <th>session_date</th>\n",
       "      <th>user_id</th>\n",
       "    </tr>\n",
       "  </thead>\n",
       "  <tbody>\n",
       "    <tr>\n",
       "      <td>135077</td>\n",
       "      <td>135077</td>\n",
       "      <td>1453_298</td>\n",
       "      <td>525.90</td>\n",
       "      <td>2018-10-06</td>\n",
       "      <td>1453</td>\n",
       "    </tr>\n",
       "    <tr>\n",
       "      <td>32945</td>\n",
       "      <td>32945</td>\n",
       "      <td>1115_148</td>\n",
       "      <td>577.21</td>\n",
       "      <td>2018-09-27</td>\n",
       "      <td>1115</td>\n",
       "    </tr>\n",
       "    <tr>\n",
       "      <td>140710</td>\n",
       "      <td>140710</td>\n",
       "      <td>1472_384</td>\n",
       "      <td>165.89</td>\n",
       "      <td>2018-11-21</td>\n",
       "      <td>1472</td>\n",
       "    </tr>\n",
       "    <tr>\n",
       "      <td>96854</td>\n",
       "      <td>96854</td>\n",
       "      <td>1326_217</td>\n",
       "      <td>199.53</td>\n",
       "      <td>2018-10-22</td>\n",
       "      <td>1326</td>\n",
       "    </tr>\n",
       "    <tr>\n",
       "      <td>31152</td>\n",
       "      <td>31152</td>\n",
       "      <td>1109_218</td>\n",
       "      <td>123.95</td>\n",
       "      <td>2018-08-05</td>\n",
       "      <td>1109</td>\n",
       "    </tr>\n",
       "  </tbody>\n",
       "</table>\n",
       "</div>"
      ],
      "text/plain": [
       "        Unnamed: 0        id  mb_used session_date  user_id\n",
       "135077      135077  1453_298   525.90   2018-10-06     1453\n",
       "32945        32945  1115_148   577.21   2018-09-27     1115\n",
       "140710      140710  1472_384   165.89   2018-11-21     1472\n",
       "96854        96854  1326_217   199.53   2018-10-22     1326\n",
       "31152        31152  1109_218   123.95   2018-08-05     1109"
      ]
     },
     "metadata": {},
     "output_type": "display_data"
    },
    {
     "name": "stdout",
     "output_type": "stream",
     "text": [
      "\n",
      "<class 'pandas.core.frame.DataFrame'>\n",
      "RangeIndex: 149396 entries, 0 to 149395\n",
      "Data columns (total 5 columns):\n",
      "Unnamed: 0      149396 non-null int64\n",
      "id              149396 non-null object\n",
      "mb_used         149396 non-null float64\n",
      "session_date    149396 non-null object\n",
      "user_id         149396 non-null int64\n",
      "dtypes: float64(1), int64(2), object(2)\n",
      "memory usage: 5.7+ MB\n"
     ]
    },
    {
     "data": {
      "text/html": [
       "<div>\n",
       "<style scoped>\n",
       "    .dataframe tbody tr th:only-of-type {\n",
       "        vertical-align: middle;\n",
       "    }\n",
       "\n",
       "    .dataframe tbody tr th {\n",
       "        vertical-align: top;\n",
       "    }\n",
       "\n",
       "    .dataframe thead th {\n",
       "        text-align: right;\n",
       "    }\n",
       "</style>\n",
       "<table border=\"1\" class=\"dataframe\">\n",
       "  <thead>\n",
       "    <tr style=\"text-align: right;\">\n",
       "      <th></th>\n",
       "      <th>id</th>\n",
       "      <th>message_date</th>\n",
       "      <th>user_id</th>\n",
       "    </tr>\n",
       "  </thead>\n",
       "  <tbody>\n",
       "    <tr>\n",
       "      <td>89792</td>\n",
       "      <td>1374_240</td>\n",
       "      <td>2018-08-28</td>\n",
       "      <td>1374</td>\n",
       "    </tr>\n",
       "    <tr>\n",
       "      <td>13446</td>\n",
       "      <td>1056_28</td>\n",
       "      <td>2018-04-27</td>\n",
       "      <td>1056</td>\n",
       "    </tr>\n",
       "    <tr>\n",
       "      <td>56365</td>\n",
       "      <td>1250_189</td>\n",
       "      <td>2018-08-08</td>\n",
       "      <td>1250</td>\n",
       "    </tr>\n",
       "    <tr>\n",
       "      <td>88552</td>\n",
       "      <td>1369_477</td>\n",
       "      <td>2018-09-02</td>\n",
       "      <td>1369</td>\n",
       "    </tr>\n",
       "    <tr>\n",
       "      <td>8254</td>\n",
       "      <td>1033_5</td>\n",
       "      <td>2018-11-22</td>\n",
       "      <td>1033</td>\n",
       "    </tr>\n",
       "  </tbody>\n",
       "</table>\n",
       "</div>"
      ],
      "text/plain": [
       "             id message_date  user_id\n",
       "89792  1374_240   2018-08-28     1374\n",
       "13446   1056_28   2018-04-27     1056\n",
       "56365  1250_189   2018-08-08     1250\n",
       "88552  1369_477   2018-09-02     1369\n",
       "8254     1033_5   2018-11-22     1033"
      ]
     },
     "metadata": {},
     "output_type": "display_data"
    },
    {
     "name": "stdout",
     "output_type": "stream",
     "text": [
      "\n",
      "<class 'pandas.core.frame.DataFrame'>\n",
      "RangeIndex: 123036 entries, 0 to 123035\n",
      "Data columns (total 3 columns):\n",
      "id              123036 non-null object\n",
      "message_date    123036 non-null object\n",
      "user_id         123036 non-null int64\n",
      "dtypes: int64(1), object(2)\n",
      "memory usage: 2.8+ MB\n"
     ]
    },
    {
     "data": {
      "text/html": [
       "<div>\n",
       "<style scoped>\n",
       "    .dataframe tbody tr th:only-of-type {\n",
       "        vertical-align: middle;\n",
       "    }\n",
       "\n",
       "    .dataframe tbody tr th {\n",
       "        vertical-align: top;\n",
       "    }\n",
       "\n",
       "    .dataframe thead th {\n",
       "        text-align: right;\n",
       "    }\n",
       "</style>\n",
       "<table border=\"1\" class=\"dataframe\">\n",
       "  <thead>\n",
       "    <tr style=\"text-align: right;\">\n",
       "      <th></th>\n",
       "      <th>user_id</th>\n",
       "      <th>age</th>\n",
       "      <th>churn_date</th>\n",
       "      <th>city</th>\n",
       "      <th>first_name</th>\n",
       "      <th>last_name</th>\n",
       "      <th>reg_date</th>\n",
       "      <th>tariff</th>\n",
       "    </tr>\n",
       "  </thead>\n",
       "  <tbody>\n",
       "    <tr>\n",
       "      <td>109</td>\n",
       "      <td>1109</td>\n",
       "      <td>64</td>\n",
       "      <td>NaN</td>\n",
       "      <td>Санкт-Петербург</td>\n",
       "      <td>Екатерина</td>\n",
       "      <td>Андрющенко</td>\n",
       "      <td>2018-02-23</td>\n",
       "      <td>smart</td>\n",
       "    </tr>\n",
       "    <tr>\n",
       "      <td>278</td>\n",
       "      <td>1278</td>\n",
       "      <td>46</td>\n",
       "      <td>NaN</td>\n",
       "      <td>Новокузнецк</td>\n",
       "      <td>Леонид</td>\n",
       "      <td>Троицкий</td>\n",
       "      <td>2018-12-23</td>\n",
       "      <td>smart</td>\n",
       "    </tr>\n",
       "    <tr>\n",
       "      <td>248</td>\n",
       "      <td>1248</td>\n",
       "      <td>51</td>\n",
       "      <td>NaN</td>\n",
       "      <td>Москва</td>\n",
       "      <td>Анатолий</td>\n",
       "      <td>Минаев</td>\n",
       "      <td>2018-05-28</td>\n",
       "      <td>smart</td>\n",
       "    </tr>\n",
       "    <tr>\n",
       "      <td>104</td>\n",
       "      <td>1104</td>\n",
       "      <td>60</td>\n",
       "      <td>NaN</td>\n",
       "      <td>Нижний Тагил</td>\n",
       "      <td>Габриэль</td>\n",
       "      <td>Поляков</td>\n",
       "      <td>2018-02-21</td>\n",
       "      <td>ultra</td>\n",
       "    </tr>\n",
       "    <tr>\n",
       "      <td>39</td>\n",
       "      <td>1039</td>\n",
       "      <td>40</td>\n",
       "      <td>NaN</td>\n",
       "      <td>Ярославль</td>\n",
       "      <td>Агнесса</td>\n",
       "      <td>Андреенко</td>\n",
       "      <td>2018-06-21</td>\n",
       "      <td>ultra</td>\n",
       "    </tr>\n",
       "  </tbody>\n",
       "</table>\n",
       "</div>"
      ],
      "text/plain": [
       "     user_id  age churn_date             city first_name   last_name  \\\n",
       "109     1109   64        NaN  Санкт-Петербург  Екатерина  Андрющенко   \n",
       "278     1278   46        NaN      Новокузнецк     Леонид    Троицкий   \n",
       "248     1248   51        NaN           Москва   Анатолий      Минаев   \n",
       "104     1104   60        NaN     Нижний Тагил   Габриэль     Поляков   \n",
       "39      1039   40        NaN        Ярославль    Агнесса   Андреенко   \n",
       "\n",
       "       reg_date tariff  \n",
       "109  2018-02-23  smart  \n",
       "278  2018-12-23  smart  \n",
       "248  2018-05-28  smart  \n",
       "104  2018-02-21  ultra  \n",
       "39   2018-06-21  ultra  "
      ]
     },
     "metadata": {},
     "output_type": "display_data"
    },
    {
     "name": "stdout",
     "output_type": "stream",
     "text": [
      "\n",
      "<class 'pandas.core.frame.DataFrame'>\n",
      "RangeIndex: 500 entries, 0 to 499\n",
      "Data columns (total 8 columns):\n",
      "user_id       500 non-null int64\n",
      "age           500 non-null int64\n",
      "churn_date    38 non-null object\n",
      "city          500 non-null object\n",
      "first_name    500 non-null object\n",
      "last_name     500 non-null object\n",
      "reg_date      500 non-null object\n",
      "tariff        500 non-null object\n",
      "dtypes: int64(2), object(6)\n",
      "memory usage: 31.4+ KB\n"
     ]
    },
    {
     "data": {
      "text/html": [
       "<div>\n",
       "<style scoped>\n",
       "    .dataframe tbody tr th:only-of-type {\n",
       "        vertical-align: middle;\n",
       "    }\n",
       "\n",
       "    .dataframe tbody tr th {\n",
       "        vertical-align: top;\n",
       "    }\n",
       "\n",
       "    .dataframe thead th {\n",
       "        text-align: right;\n",
       "    }\n",
       "</style>\n",
       "<table border=\"1\" class=\"dataframe\">\n",
       "  <thead>\n",
       "    <tr style=\"text-align: right;\">\n",
       "      <th></th>\n",
       "      <th>messages_included</th>\n",
       "      <th>mb_per_month_included</th>\n",
       "      <th>minutes_included</th>\n",
       "      <th>rub_monthly_fee</th>\n",
       "      <th>rub_per_gb</th>\n",
       "      <th>rub_per_message</th>\n",
       "      <th>rub_per_minute</th>\n",
       "      <th>tariff_name</th>\n",
       "    </tr>\n",
       "  </thead>\n",
       "  <tbody>\n",
       "    <tr>\n",
       "      <td>0</td>\n",
       "      <td>50</td>\n",
       "      <td>15360</td>\n",
       "      <td>500</td>\n",
       "      <td>550</td>\n",
       "      <td>200</td>\n",
       "      <td>3</td>\n",
       "      <td>3</td>\n",
       "      <td>smart</td>\n",
       "    </tr>\n",
       "    <tr>\n",
       "      <td>1</td>\n",
       "      <td>1000</td>\n",
       "      <td>30720</td>\n",
       "      <td>3000</td>\n",
       "      <td>1950</td>\n",
       "      <td>150</td>\n",
       "      <td>1</td>\n",
       "      <td>1</td>\n",
       "      <td>ultra</td>\n",
       "    </tr>\n",
       "  </tbody>\n",
       "</table>\n",
       "</div>"
      ],
      "text/plain": [
       "   messages_included  mb_per_month_included  minutes_included  \\\n",
       "0                 50                  15360               500   \n",
       "1               1000                  30720              3000   \n",
       "\n",
       "   rub_monthly_fee  rub_per_gb  rub_per_message  rub_per_minute tariff_name  \n",
       "0              550         200                3               3       smart  \n",
       "1             1950         150                1               1       ultra  "
      ]
     },
     "metadata": {},
     "output_type": "display_data"
    }
   ],
   "source": [
    "#Загружаем нужные библиотеки\n",
    "import pandas as pd\n",
    "import numpy as np\n",
    "import matplotlib.pyplot as plt\n",
    "from datetime import datetime\n",
    "from scipy import stats as st\n",
    "\n",
    "import warnings\n",
    "warnings.filterwarnings('ignore') #отключим выпадающие сообщения о циклических присваиваниях\n",
    "\n",
    "#Загружаем данные\n",
    "try:\n",
    "    # Локальный путь\n",
    "    data_calls = pd.read_csv('C:/Users/datasets/calls.csv')\n",
    "    data_internet = pd.read_csv('C:/Users/datasets/internet.csv')\n",
    "    data_messages = pd.read_csv('C:/Users/datasets/messages.csv')\n",
    "    data_tariffs = pd.read_csv('C:/Users/datasets/tariffs.csv')\n",
    "    data_users = pd.read_csv('C:/Users/datasets/users.csv')\n",
    "except:\n",
    "    # Серверный путь\n",
    "    data_calls = pd.read_csv('/datasets/calls.csv')\n",
    "    data_internet = pd.read_csv('/datasets/internet.csv')\n",
    "    data_messages = pd.read_csv('/datasets/messages.csv')\n",
    "    data_tariffs = pd.read_csv('/datasets/tariffs.csv')\n",
    "    data_users = pd.read_csv('/datasets/users.csv')\n",
    "\n",
    "#Изучим общую информацию\n",
    "data = [data_calls, data_internet, data_messages, data_users]\n",
    "for i in data:\n",
    "    display(i.sample(5))\n",
    "    #display(i.describe())\n",
    "    print()\n",
    "    i.info()\n",
    "\n",
    "display(data_tariffs) "
   ]
  },
  {
   "cell_type": "markdown",
   "metadata": {},
   "source": [
    "### Вывод"
   ]
  },
  {
   "cell_type": "markdown",
   "metadata": {},
   "source": [
    "Имеем пять исходных датафреймов. Данные о звонках, интернет-трафике, сообщениях, сведения о клиентах и тарифах. Исходные датафреймы имеют разное количество строк и столбцов. Данные в столбцах имеют различные типы: целые и вещественные числа, строчные объекты. Названия столбцов отображены корректно, кроме data_internet['Unnamed: 0']. Столбец data_internet['Unnamed: 0'] отсутствует в описании и его значения пвторяют индексы, скорее всего это техническая ошибка. Только в 1 столбце 'churn_date' имеются пропуски и то по понятной причине. Столбцы с датами необходимо перевести в соответствующий тип. Наличие дубликатов сразу не видно, но обязательно проверим их наличие или отсутствие в столбце с названием городов. Данные требуют минимальной обработки, что не может не радовать. Думаю стоит отметить хорошую работу технической команды, которая готовила исходные данные.    \n",
    "Учитывая специфику данных, метод describe() на данном этапе использовать нет смысла, разве что можно посмотреть реалистичность некоторых данных - например, возраст клиентов (от 18 до 75 лет) и продолжительность разговора (от 0 до 38 минут). Чтобы не перегружать выводимую информацию, метод закоментил."
   ]
  },
  {
   "cell_type": "markdown",
   "metadata": {},
   "source": [
    "## Предобработка данных"
   ]
  },
  {
   "cell_type": "code",
   "execution_count": 17,
   "metadata": {},
   "outputs": [
    {
     "name": "stdout",
     "output_type": "stream",
     "text": [
      "user_id         0\n",
      "age             0\n",
      "churn_date    462\n",
      "city            0\n",
      "first_name      0\n",
      "last_name       0\n",
      "reg_date        0\n",
      "tariff          0\n",
      "dtype: int64\n",
      "\n",
      "['2018-12-30' '2018-12-26' '2018-12-25' '2018-12-24' '2018-12-23'\n",
      " '2018-12-21' '2018-12-20' '2018-12-18' '2018-12-16' '2018-12-14'\n",
      " '2018-12-11' '2018-12-09' '2018-12-03' '2018-11-30' '2018-11-27'\n",
      " '2018-11-26' '2018-11-22' '2018-11-21' '2018-11-16' '2018-11-13'\n",
      " '2018-11-07' '2018-10-28' '2018-10-27' '2018-10-25' '2018-10-14'\n",
      " '2018-10-05' '2018-10-04' '2018-10-03' '2018-09-27' '2018-09-26'\n",
      " '2018-09-02' '2018-08-31' '2018-08-17' nan]\n",
      "\n",
      "Пропусков нет!\n",
      "user_id       0\n",
      "age           0\n",
      "churn_date    0\n",
      "city          0\n",
      "first_name    0\n",
      "last_name     0\n",
      "reg_date      0\n",
      "tariff        0\n",
      "dtype: int64\n",
      "\n"
     ]
    },
    {
     "data": {
      "text/html": [
       "<div>\n",
       "<style scoped>\n",
       "    .dataframe tbody tr th:only-of-type {\n",
       "        vertical-align: middle;\n",
       "    }\n",
       "\n",
       "    .dataframe tbody tr th {\n",
       "        vertical-align: top;\n",
       "    }\n",
       "\n",
       "    .dataframe thead th {\n",
       "        text-align: right;\n",
       "    }\n",
       "</style>\n",
       "<table border=\"1\" class=\"dataframe\">\n",
       "  <thead>\n",
       "    <tr style=\"text-align: right;\">\n",
       "      <th></th>\n",
       "      <th>id</th>\n",
       "      <th>mb_used</th>\n",
       "      <th>session_date</th>\n",
       "      <th>user_id</th>\n",
       "    </tr>\n",
       "  </thead>\n",
       "  <tbody>\n",
       "    <tr>\n",
       "      <td>100851</td>\n",
       "      <td>1338_241</td>\n",
       "      <td>575.07</td>\n",
       "      <td>2018-06-10</td>\n",
       "      <td>1338</td>\n",
       "    </tr>\n",
       "    <tr>\n",
       "      <td>105646</td>\n",
       "      <td>1357_73</td>\n",
       "      <td>0.00</td>\n",
       "      <td>2018-11-30</td>\n",
       "      <td>1357</td>\n",
       "    </tr>\n",
       "    <tr>\n",
       "      <td>116951</td>\n",
       "      <td>1393_437</td>\n",
       "      <td>174.05</td>\n",
       "      <td>2018-02-17</td>\n",
       "      <td>1393</td>\n",
       "    </tr>\n",
       "    <tr>\n",
       "      <td>41054</td>\n",
       "      <td>1144_214</td>\n",
       "      <td>124.04</td>\n",
       "      <td>2018-09-19</td>\n",
       "      <td>1144</td>\n",
       "    </tr>\n",
       "    <tr>\n",
       "      <td>107479</td>\n",
       "      <td>1365_3</td>\n",
       "      <td>207.15</td>\n",
       "      <td>2018-12-28</td>\n",
       "      <td>1365</td>\n",
       "    </tr>\n",
       "  </tbody>\n",
       "</table>\n",
       "</div>"
      ],
      "text/plain": [
       "              id  mb_used session_date  user_id\n",
       "100851  1338_241   575.07   2018-06-10     1338\n",
       "105646   1357_73     0.00   2018-11-30     1357\n",
       "116951  1393_437   174.05   2018-02-17     1393\n",
       "41054   1144_214   124.04   2018-09-19     1144\n",
       "107479    1365_3   207.15   2018-12-28     1365"
      ]
     },
     "metadata": {},
     "output_type": "display_data"
    },
    {
     "name": "stdout",
     "output_type": "stream",
     "text": [
      "\n",
      "Количество найденых явных дубликатов 0\n",
      "\n",
      "['smart' 'ultra']\n",
      "\n",
      "['Архангельск' 'Астрахань' 'Балашиха' 'Барнаул' 'Белгород' 'Брянск'\n",
      " 'Владивосток' 'Владикавказ' 'Владимир' 'Волгоград' 'Волжский' 'Вологда'\n",
      " 'Воронеж' 'Грозный' 'Екатеринбург' 'Иваново' 'Ижевск' 'Иркутск' 'Казань'\n",
      " 'Калининград' 'Калуга' 'Кемерово' 'Киров' 'Кострома' 'Краснодар'\n",
      " 'Красноярск' 'Курган' 'Курск' 'Липецк' 'Магнитогорск' 'Махачкала'\n",
      " 'Москва' 'Мурманск' 'Набережные Челны' 'Нижневартовск' 'Нижний Новгород'\n",
      " 'Нижний Тагил' 'Новокузнецк' 'Новороссийск' 'Новосибирск' 'Омск'\n",
      " 'Оренбург' 'Орёл' 'Пенза' 'Пермь' 'Петрозаводск' 'Подольск'\n",
      " 'Ростов-на-Дону' 'Рязань' 'Самара' 'Санкт-Петербург' 'Саранск' 'Саратов'\n",
      " 'Севастополь' 'Смоленск' 'Сочи' 'Ставрополь' 'Стерлитамак' 'Сургут'\n",
      " 'Тамбов' 'Тверь' 'Тольятти' 'Томск' 'Тула' 'Тюмень' 'Улан-Удэ'\n",
      " 'Ульяновск' 'Уфа' 'Хабаровск' 'Химки' 'Чебоксары' 'Челябинск' 'Череповец'\n",
      " 'Чита' 'Якутск' 'Ярославль']\n",
      "\n",
      "<class 'pandas.core.frame.DataFrame'>\n",
      "RangeIndex: 500 entries, 0 to 499\n",
      "Data columns (total 8 columns):\n",
      "user_id       500 non-null int64\n",
      "age           500 non-null int64\n",
      "churn_date    500 non-null datetime64[ns]\n",
      "city          500 non-null object\n",
      "first_name    500 non-null object\n",
      "last_name     500 non-null object\n",
      "reg_date      500 non-null datetime64[ns]\n",
      "tariff        500 non-null object\n",
      "dtypes: datetime64[ns](2), int64(2), object(4)\n",
      "memory usage: 31.4+ KB\n"
     ]
    }
   ],
   "source": [
    "#убираем пропуски\n",
    "print(data_users.isna().sum()) # посмотрим на пропуски в столбцах\n",
    "print()\n",
    "#взглянем на данные в столбце 'churn_date'\n",
    "print(data_users['churn_date'].sort_values(ascending=False).unique()) \n",
    "print()\n",
    "#пропуски меняем на 2018-12-31\n",
    "data_users['churn_date'] = data_users['churn_date'].fillna('2018-12-31') \n",
    "\n",
    "#проверка результата\n",
    "print('Пропусков нет!')\n",
    "print(data_users.isna().sum()) # проверим результат, от пропусков избавились! \n",
    "print()\n",
    "\n",
    "#удалим столбец 'Unnamed: 0'\n",
    "data_internet = data_internet.drop('Unnamed: 0', 1)\n",
    "display(data_internet.sample(5))\n",
    "print()\n",
    "\n",
    "#проверим на явные дубликаты\n",
    "print('Количество найденых явных дубликатов', data_users.duplicated().sum()) #дубликотов нет\n",
    "print()\n",
    "\n",
    "#проверим есть ли не явные дубликаты\n",
    "print(data_users['tariff'].sort_values().unique()) #все в порядке\n",
    "print()\n",
    "print(data_users['city'].sort_values().unique()) #все в порядке\n",
    "print()\n",
    "\n",
    "#поменяем в соответствующих столбцах типы данных на datetime\n",
    "data_users['churn_date'] = pd.to_datetime(data_users['churn_date'], format='%Y-%m-%dT%H:%M:%S')\n",
    "data_users['reg_date'] = pd.to_datetime(data_users['reg_date'], format='%Y-%m-%dT%H:%M:%S')\n",
    "data_calls['call_date'] = pd.to_datetime(data_calls['call_date'], format='%Y-%m-%dT%H:%M:%S')\n",
    "data_internet['session_date'] = pd.to_datetime(data_internet['session_date'], format='%Y-%m-%dT%H:%M:%S')\n",
    "data_messages['message_date'] = pd.to_datetime(data_messages['message_date'], format='%Y-%m-%dT%H:%M:%S')\n",
    "\n",
    "#for i in [data_users['churn_date'], data_users['reg_date'], data_calls['call_date'], data_internet['session_date'], data_messages['message_date']]:\n",
    "#    i = pd.to_datetime(i, format='%Y-%m-%dT%H:%M:%S')\n",
    "# цикл не заработал, пришел к выводу, что он наверно создает новые объекты\n",
    "\n",
    "data_users.info() #больше ничего менять пока не требуется"
   ]
  },
  {
   "cell_type": "markdown",
   "metadata": {},
   "source": [
    "### Вывод"
   ]
  },
  {
   "cell_type": "markdown",
   "metadata": {},
   "source": [
    "*Пропуски*    \n",
    "Пропуски у нас мы обнаружили только в столбце 'churn_date' где находится дата прекращения пользования тарифом. Если значение там пропущено, то тариф ещё действовал на момент выгрузки данных. Поэтому заполняем пропуски последней датой исследуемого периода, а именно 31 декабря 2018 года.    \n",
    "    \n",
    "*Ошибки*    \n",
    "Столбец data_internet['Unnamed: 0'] отсутствует в описании и его значения повторяют индексы, скорее всего это техническая ошибка, удалим его.   \n",
    "    \n",
    "*Дубликаты*     \n",
    "Проверим в наших датасетах столбцы data_users['city'] и data_users['tariff'] с нечисловыми значениями, содержащие название населенных пунктов и название тарифа соответственно, на наличие дубликатов. Метод duplicated() показывает, что явных дубликатов у нас нет. Выведя соответствующие уникальные значения видим отсутствие неявных дубликатов. \n",
    "    \n",
    "    \n",
    "*Типы данных*    \n",
    "Тип данных в столбцах data_users['churn_date'], data_users['reg_date'], data_calls['call_date'], data_internet['session_date'], data_messages['message_date'] поменяем на тип datetime, т.к. в наших расчетах потребуются эти данные. Остальное оставим без изменений."
   ]
  },
  {
   "cell_type": "markdown",
   "metadata": {},
   "source": [
    "## Исследовательский анализ данных"
   ]
  },
  {
   "cell_type": "code",
   "execution_count": 18,
   "metadata": {
    "scrolled": false
   },
   "outputs": [
    {
     "data": {
      "text/plain": [
       "'Случайная выборка помесячной выручки с каждого пользователя'"
      ]
     },
     "metadata": {},
     "output_type": "display_data"
    },
    {
     "data": {
      "text/html": [
       "<div>\n",
       "<style scoped>\n",
       "    .dataframe tbody tr th:only-of-type {\n",
       "        vertical-align: middle;\n",
       "    }\n",
       "\n",
       "    .dataframe tbody tr th {\n",
       "        vertical-align: top;\n",
       "    }\n",
       "\n",
       "    .dataframe thead th {\n",
       "        text-align: right;\n",
       "    }\n",
       "</style>\n",
       "<table border=\"1\" class=\"dataframe\">\n",
       "  <thead>\n",
       "    <tr style=\"text-align: right;\">\n",
       "      <th></th>\n",
       "      <th>user_id</th>\n",
       "      <th>month</th>\n",
       "      <th>tariff</th>\n",
       "      <th>city</th>\n",
       "      <th>calls_count</th>\n",
       "      <th>calls_sum</th>\n",
       "      <th>messages_count</th>\n",
       "      <th>internet_count</th>\n",
       "      <th>internet_sum</th>\n",
       "      <th>revenue</th>\n",
       "    </tr>\n",
       "  </thead>\n",
       "  <tbody>\n",
       "    <tr>\n",
       "      <td>2912</td>\n",
       "      <td>1458</td>\n",
       "      <td>4.0</td>\n",
       "      <td>ultra</td>\n",
       "      <td>Барнаул</td>\n",
       "      <td>108.0</td>\n",
       "      <td>761.0</td>\n",
       "      <td>4.0</td>\n",
       "      <td>28.0</td>\n",
       "      <td>15.0</td>\n",
       "      <td>1950.0</td>\n",
       "    </tr>\n",
       "    <tr>\n",
       "      <td>1097</td>\n",
       "      <td>1175</td>\n",
       "      <td>7.0</td>\n",
       "      <td>smart</td>\n",
       "      <td>Москва</td>\n",
       "      <td>50.0</td>\n",
       "      <td>366.0</td>\n",
       "      <td>0.0</td>\n",
       "      <td>47.0</td>\n",
       "      <td>14.0</td>\n",
       "      <td>550.0</td>\n",
       "    </tr>\n",
       "    <tr>\n",
       "      <td>641</td>\n",
       "      <td>1102</td>\n",
       "      <td>7.0</td>\n",
       "      <td>smart</td>\n",
       "      <td>Москва</td>\n",
       "      <td>70.0</td>\n",
       "      <td>538.0</td>\n",
       "      <td>40.0</td>\n",
       "      <td>76.0</td>\n",
       "      <td>21.0</td>\n",
       "      <td>1864.0</td>\n",
       "    </tr>\n",
       "    <tr>\n",
       "      <td>101</td>\n",
       "      <td>1014</td>\n",
       "      <td>6.0</td>\n",
       "      <td>smart</td>\n",
       "      <td>Чебоксары</td>\n",
       "      <td>31.0</td>\n",
       "      <td>180.0</td>\n",
       "      <td>48.0</td>\n",
       "      <td>76.0</td>\n",
       "      <td>25.0</td>\n",
       "      <td>2550.0</td>\n",
       "    </tr>\n",
       "    <tr>\n",
       "      <td>2300</td>\n",
       "      <td>1370</td>\n",
       "      <td>5.0</td>\n",
       "      <td>smart</td>\n",
       "      <td>Новороссийск</td>\n",
       "      <td>25.0</td>\n",
       "      <td>208.0</td>\n",
       "      <td>0.0</td>\n",
       "      <td>48.0</td>\n",
       "      <td>14.0</td>\n",
       "      <td>550.0</td>\n",
       "    </tr>\n",
       "    <tr>\n",
       "      <td>2777</td>\n",
       "      <td>1435</td>\n",
       "      <td>4.0</td>\n",
       "      <td>smart</td>\n",
       "      <td>Москва</td>\n",
       "      <td>43.0</td>\n",
       "      <td>309.0</td>\n",
       "      <td>0.0</td>\n",
       "      <td>58.0</td>\n",
       "      <td>18.0</td>\n",
       "      <td>1150.0</td>\n",
       "    </tr>\n",
       "    <tr>\n",
       "      <td>1026</td>\n",
       "      <td>1165</td>\n",
       "      <td>10.0</td>\n",
       "      <td>ultra</td>\n",
       "      <td>Самара</td>\n",
       "      <td>16.0</td>\n",
       "      <td>138.0</td>\n",
       "      <td>107.0</td>\n",
       "      <td>41.0</td>\n",
       "      <td>22.0</td>\n",
       "      <td>1950.0</td>\n",
       "    </tr>\n",
       "    <tr>\n",
       "      <td>1109</td>\n",
       "      <td>1176</td>\n",
       "      <td>7.0</td>\n",
       "      <td>smart</td>\n",
       "      <td>Волгоград</td>\n",
       "      <td>39.0</td>\n",
       "      <td>353.0</td>\n",
       "      <td>64.0</td>\n",
       "      <td>60.0</td>\n",
       "      <td>16.0</td>\n",
       "      <td>792.0</td>\n",
       "    </tr>\n",
       "    <tr>\n",
       "      <td>2980</td>\n",
       "      <td>1468</td>\n",
       "      <td>9.0</td>\n",
       "      <td>smart</td>\n",
       "      <td>Тамбов</td>\n",
       "      <td>30.0</td>\n",
       "      <td>177.0</td>\n",
       "      <td>13.0</td>\n",
       "      <td>33.0</td>\n",
       "      <td>13.0</td>\n",
       "      <td>550.0</td>\n",
       "    </tr>\n",
       "    <tr>\n",
       "      <td>1406</td>\n",
       "      <td>1224</td>\n",
       "      <td>6.0</td>\n",
       "      <td>smart</td>\n",
       "      <td>Магнитогорск</td>\n",
       "      <td>87.0</td>\n",
       "      <td>559.0</td>\n",
       "      <td>0.0</td>\n",
       "      <td>68.0</td>\n",
       "      <td>22.0</td>\n",
       "      <td>2127.0</td>\n",
       "    </tr>\n",
       "  </tbody>\n",
       "</table>\n",
       "</div>"
      ],
      "text/plain": [
       "      user_id  month tariff          city  calls_count  calls_sum  \\\n",
       "2912     1458    4.0  ultra       Барнаул        108.0      761.0   \n",
       "1097     1175    7.0  smart        Москва         50.0      366.0   \n",
       "641      1102    7.0  smart        Москва         70.0      538.0   \n",
       "101      1014    6.0  smart     Чебоксары         31.0      180.0   \n",
       "2300     1370    5.0  smart  Новороссийск         25.0      208.0   \n",
       "2777     1435    4.0  smart        Москва         43.0      309.0   \n",
       "1026     1165   10.0  ultra        Самара         16.0      138.0   \n",
       "1109     1176    7.0  smart     Волгоград         39.0      353.0   \n",
       "2980     1468    9.0  smart        Тамбов         30.0      177.0   \n",
       "1406     1224    6.0  smart  Магнитогорск         87.0      559.0   \n",
       "\n",
       "      messages_count  internet_count  internet_sum  revenue  \n",
       "2912             4.0            28.0          15.0   1950.0  \n",
       "1097             0.0            47.0          14.0    550.0  \n",
       "641             40.0            76.0          21.0   1864.0  \n",
       "101             48.0            76.0          25.0   2550.0  \n",
       "2300             0.0            48.0          14.0    550.0  \n",
       "2777             0.0            58.0          18.0   1150.0  \n",
       "1026           107.0            41.0          22.0   1950.0  \n",
       "1109            64.0            60.0          16.0    792.0  \n",
       "2980            13.0            33.0          13.0    550.0  \n",
       "1406             0.0            68.0          22.0   2127.0  "
      ]
     },
     "metadata": {},
     "output_type": "display_data"
    },
    {
     "name": "stdout",
     "output_type": "stream",
     "text": [
      "\n"
     ]
    },
    {
     "data": {
      "text/plain": [
       "'Тариф Смарт'"
      ]
     },
     "metadata": {},
     "output_type": "display_data"
    },
    {
     "data": {
      "text/html": [
       "<div>\n",
       "<style scoped>\n",
       "    .dataframe tbody tr th:only-of-type {\n",
       "        vertical-align: middle;\n",
       "    }\n",
       "\n",
       "    .dataframe tbody tr th {\n",
       "        vertical-align: top;\n",
       "    }\n",
       "\n",
       "    .dataframe thead th {\n",
       "        text-align: right;\n",
       "    }\n",
       "</style>\n",
       "<table border=\"1\" class=\"dataframe\">\n",
       "  <thead>\n",
       "    <tr style=\"text-align: right;\">\n",
       "      <th></th>\n",
       "      <th>month</th>\n",
       "      <th>calls_count</th>\n",
       "      <th>calls_mean</th>\n",
       "      <th>calls_us_mean</th>\n",
       "      <th>calls_sum</th>\n",
       "      <th>mess_count</th>\n",
       "      <th>inter_count</th>\n",
       "      <th>inter_mean</th>\n",
       "      <th>inter_sum</th>\n",
       "      <th>revenue</th>\n",
       "      <th>us_count</th>\n",
       "      <th>rev_mean</th>\n",
       "    </tr>\n",
       "  </thead>\n",
       "  <tbody>\n",
       "    <tr>\n",
       "      <td>0</td>\n",
       "      <td>1</td>\n",
       "      <td>941.0</td>\n",
       "      <td>7.365569</td>\n",
       "      <td>2.688571</td>\n",
       "      <td>6931.0</td>\n",
       "      <td>871.0</td>\n",
       "      <td>297.0</td>\n",
       "      <td>2.087542</td>\n",
       "      <td>620.0</td>\n",
       "      <td>24525.0</td>\n",
       "      <td>350.0</td>\n",
       "      <td>71.0</td>\n",
       "    </tr>\n",
       "    <tr>\n",
       "      <td>1</td>\n",
       "      <td>2</td>\n",
       "      <td>2331.0</td>\n",
       "      <td>7.432003</td>\n",
       "      <td>6.660000</td>\n",
       "      <td>17324.0</td>\n",
       "      <td>2057.0</td>\n",
       "      <td>687.0</td>\n",
       "      <td>2.033479</td>\n",
       "      <td>1397.0</td>\n",
       "      <td>48001.0</td>\n",
       "      <td>350.0</td>\n",
       "      <td>138.0</td>\n",
       "    </tr>\n",
       "    <tr>\n",
       "      <td>2</td>\n",
       "      <td>3</td>\n",
       "      <td>4183.0</td>\n",
       "      <td>7.180014</td>\n",
       "      <td>11.951429</td>\n",
       "      <td>30034.0</td>\n",
       "      <td>3612.0</td>\n",
       "      <td>1173.0</td>\n",
       "      <td>2.091219</td>\n",
       "      <td>2453.0</td>\n",
       "      <td>89676.0</td>\n",
       "      <td>350.0</td>\n",
       "      <td>257.0</td>\n",
       "    </tr>\n",
       "    <tr>\n",
       "      <td>3</td>\n",
       "      <td>4</td>\n",
       "      <td>5747.0</td>\n",
       "      <td>7.154863</td>\n",
       "      <td>16.420000</td>\n",
       "      <td>41119.0</td>\n",
       "      <td>4682.0</td>\n",
       "      <td>1526.0</td>\n",
       "      <td>2.256225</td>\n",
       "      <td>3443.0</td>\n",
       "      <td>107866.0</td>\n",
       "      <td>350.0</td>\n",
       "      <td>309.0</td>\n",
       "    </tr>\n",
       "    <tr>\n",
       "      <td>4</td>\n",
       "      <td>5</td>\n",
       "      <td>7789.0</td>\n",
       "      <td>7.012197</td>\n",
       "      <td>22.254286</td>\n",
       "      <td>54618.0</td>\n",
       "      <td>6816.0</td>\n",
       "      <td>2243.0</td>\n",
       "      <td>2.123049</td>\n",
       "      <td>4762.0</td>\n",
       "      <td>168849.0</td>\n",
       "      <td>350.0</td>\n",
       "      <td>483.0</td>\n",
       "    </tr>\n",
       "    <tr>\n",
       "      <td>5</td>\n",
       "      <td>6</td>\n",
       "      <td>9110.0</td>\n",
       "      <td>7.122393</td>\n",
       "      <td>26.028571</td>\n",
       "      <td>64885.0</td>\n",
       "      <td>7941.0</td>\n",
       "      <td>2616.0</td>\n",
       "      <td>2.094037</td>\n",
       "      <td>5478.0</td>\n",
       "      <td>197459.0</td>\n",
       "      <td>350.0</td>\n",
       "      <td>565.0</td>\n",
       "    </tr>\n",
       "    <tr>\n",
       "      <td>6</td>\n",
       "      <td>7</td>\n",
       "      <td>11402.0</td>\n",
       "      <td>7.198649</td>\n",
       "      <td>32.577143</td>\n",
       "      <td>82079.0</td>\n",
       "      <td>9865.0</td>\n",
       "      <td>3191.0</td>\n",
       "      <td>2.125979</td>\n",
       "      <td>6784.0</td>\n",
       "      <td>246014.0</td>\n",
       "      <td>350.0</td>\n",
       "      <td>703.0</td>\n",
       "    </tr>\n",
       "    <tr>\n",
       "      <td>7</td>\n",
       "      <td>8</td>\n",
       "      <td>13860.0</td>\n",
       "      <td>7.146104</td>\n",
       "      <td>39.600000</td>\n",
       "      <td>99045.0</td>\n",
       "      <td>11995.0</td>\n",
       "      <td>3933.0</td>\n",
       "      <td>2.009916</td>\n",
       "      <td>7905.0</td>\n",
       "      <td>310340.0</td>\n",
       "      <td>350.0</td>\n",
       "      <td>887.0</td>\n",
       "    </tr>\n",
       "    <tr>\n",
       "      <td>8</td>\n",
       "      <td>9</td>\n",
       "      <td>15482.0</td>\n",
       "      <td>7.197972</td>\n",
       "      <td>44.234286</td>\n",
       "      <td>111439.0</td>\n",
       "      <td>13126.0</td>\n",
       "      <td>4262.0</td>\n",
       "      <td>2.052088</td>\n",
       "      <td>8746.0</td>\n",
       "      <td>324986.0</td>\n",
       "      <td>350.0</td>\n",
       "      <td>929.0</td>\n",
       "    </tr>\n",
       "    <tr>\n",
       "      <td>9</td>\n",
       "      <td>10</td>\n",
       "      <td>17629.0</td>\n",
       "      <td>7.106699</td>\n",
       "      <td>50.368571</td>\n",
       "      <td>125284.0</td>\n",
       "      <td>15183.0</td>\n",
       "      <td>4963.0</td>\n",
       "      <td>2.000201</td>\n",
       "      <td>9927.0</td>\n",
       "      <td>401267.0</td>\n",
       "      <td>350.0</td>\n",
       "      <td>1147.0</td>\n",
       "    </tr>\n",
       "    <tr>\n",
       "      <td>10</td>\n",
       "      <td>11</td>\n",
       "      <td>19435.0</td>\n",
       "      <td>7.077129</td>\n",
       "      <td>55.528571</td>\n",
       "      <td>137544.0</td>\n",
       "      <td>16585.0</td>\n",
       "      <td>5372.0</td>\n",
       "      <td>2.004468</td>\n",
       "      <td>10768.0</td>\n",
       "      <td>424403.0</td>\n",
       "      <td>350.0</td>\n",
       "      <td>1213.0</td>\n",
       "    </tr>\n",
       "    <tr>\n",
       "      <td>11</td>\n",
       "      <td>12</td>\n",
       "      <td>22406.0</td>\n",
       "      <td>7.197849</td>\n",
       "      <td>64.017143</td>\n",
       "      <td>161275.0</td>\n",
       "      <td>18806.0</td>\n",
       "      <td>6134.0</td>\n",
       "      <td>1.977502</td>\n",
       "      <td>12130.0</td>\n",
       "      <td>531965.0</td>\n",
       "      <td>350.0</td>\n",
       "      <td>1520.0</td>\n",
       "    </tr>\n",
       "    <tr>\n",
       "      <td>12</td>\n",
       "      <td>All</td>\n",
       "      <td>130315.0</td>\n",
       "      <td>7.148655</td>\n",
       "      <td>31.027381</td>\n",
       "      <td>931577.0</td>\n",
       "      <td>111539.0</td>\n",
       "      <td>36397.0</td>\n",
       "      <td>2.044482</td>\n",
       "      <td>74413.0</td>\n",
       "      <td>2875351.0</td>\n",
       "      <td>4200.0</td>\n",
       "      <td>685.0</td>\n",
       "    </tr>\n",
       "  </tbody>\n",
       "</table>\n",
       "</div>"
      ],
      "text/plain": [
       "   month  calls_count  calls_mean  calls_us_mean  calls_sum  mess_count  \\\n",
       "0      1        941.0    7.365569       2.688571     6931.0       871.0   \n",
       "1      2       2331.0    7.432003       6.660000    17324.0      2057.0   \n",
       "2      3       4183.0    7.180014      11.951429    30034.0      3612.0   \n",
       "3      4       5747.0    7.154863      16.420000    41119.0      4682.0   \n",
       "4      5       7789.0    7.012197      22.254286    54618.0      6816.0   \n",
       "5      6       9110.0    7.122393      26.028571    64885.0      7941.0   \n",
       "6      7      11402.0    7.198649      32.577143    82079.0      9865.0   \n",
       "7      8      13860.0    7.146104      39.600000    99045.0     11995.0   \n",
       "8      9      15482.0    7.197972      44.234286   111439.0     13126.0   \n",
       "9     10      17629.0    7.106699      50.368571   125284.0     15183.0   \n",
       "10    11      19435.0    7.077129      55.528571   137544.0     16585.0   \n",
       "11    12      22406.0    7.197849      64.017143   161275.0     18806.0   \n",
       "12   All     130315.0    7.148655      31.027381   931577.0    111539.0   \n",
       "\n",
       "    inter_count  inter_mean  inter_sum    revenue  us_count  rev_mean  \n",
       "0         297.0    2.087542      620.0    24525.0     350.0      71.0  \n",
       "1         687.0    2.033479     1397.0    48001.0     350.0     138.0  \n",
       "2        1173.0    2.091219     2453.0    89676.0     350.0     257.0  \n",
       "3        1526.0    2.256225     3443.0   107866.0     350.0     309.0  \n",
       "4        2243.0    2.123049     4762.0   168849.0     350.0     483.0  \n",
       "5        2616.0    2.094037     5478.0   197459.0     350.0     565.0  \n",
       "6        3191.0    2.125979     6784.0   246014.0     350.0     703.0  \n",
       "7        3933.0    2.009916     7905.0   310340.0     350.0     887.0  \n",
       "8        4262.0    2.052088     8746.0   324986.0     350.0     929.0  \n",
       "9        4963.0    2.000201     9927.0   401267.0     350.0    1147.0  \n",
       "10       5372.0    2.004468    10768.0   424403.0     350.0    1213.0  \n",
       "11       6134.0    1.977502    12130.0   531965.0     350.0    1520.0  \n",
       "12      36397.0    2.044482    74413.0  2875351.0    4200.0     685.0  "
      ]
     },
     "metadata": {},
     "output_type": "display_data"
    },
    {
     "name": "stdout",
     "output_type": "stream",
     "text": [
      "\n"
     ]
    },
    {
     "data": {
      "text/plain": [
       "'Тариф Ультра'"
      ]
     },
     "metadata": {},
     "output_type": "display_data"
    },
    {
     "data": {
      "text/html": [
       "<div>\n",
       "<style scoped>\n",
       "    .dataframe tbody tr th:only-of-type {\n",
       "        vertical-align: middle;\n",
       "    }\n",
       "\n",
       "    .dataframe tbody tr th {\n",
       "        vertical-align: top;\n",
       "    }\n",
       "\n",
       "    .dataframe thead th {\n",
       "        text-align: right;\n",
       "    }\n",
       "</style>\n",
       "<table border=\"1\" class=\"dataframe\">\n",
       "  <thead>\n",
       "    <tr style=\"text-align: right;\">\n",
       "      <th></th>\n",
       "      <th>month</th>\n",
       "      <th>calls_count</th>\n",
       "      <th>calls_mean</th>\n",
       "      <th>calls_us_mean</th>\n",
       "      <th>calls_sum</th>\n",
       "      <th>mess_count</th>\n",
       "      <th>inter_count</th>\n",
       "      <th>inter_mean</th>\n",
       "      <th>inter_sum</th>\n",
       "      <th>revenue</th>\n",
       "      <th>us_count</th>\n",
       "      <th>rev_mean</th>\n",
       "    </tr>\n",
       "  </thead>\n",
       "  <tbody>\n",
       "    <tr>\n",
       "      <td>0</td>\n",
       "      <td>1</td>\n",
       "      <td>535.0</td>\n",
       "      <td>7.201869</td>\n",
       "      <td>3.614865</td>\n",
       "      <td>3853.0</td>\n",
       "      <td>246.0</td>\n",
       "      <td>119.0</td>\n",
       "      <td>2.554622</td>\n",
       "      <td>304.0</td>\n",
       "      <td>17550.0</td>\n",
       "      <td>148.0</td>\n",
       "      <td>119.0</td>\n",
       "    </tr>\n",
       "    <tr>\n",
       "      <td>1</td>\n",
       "      <td>2</td>\n",
       "      <td>997.0</td>\n",
       "      <td>7.152457</td>\n",
       "      <td>6.736486</td>\n",
       "      <td>7131.0</td>\n",
       "      <td>584.0</td>\n",
       "      <td>288.0</td>\n",
       "      <td>1.829861</td>\n",
       "      <td>527.0</td>\n",
       "      <td>47400.0</td>\n",
       "      <td>148.0</td>\n",
       "      <td>321.0</td>\n",
       "    </tr>\n",
       "    <tr>\n",
       "      <td>2</td>\n",
       "      <td>3</td>\n",
       "      <td>2504.0</td>\n",
       "      <td>7.235224</td>\n",
       "      <td>16.918919</td>\n",
       "      <td>18117.0</td>\n",
       "      <td>1273.0</td>\n",
       "      <td>653.0</td>\n",
       "      <td>1.830015</td>\n",
       "      <td>1195.0</td>\n",
       "      <td>74550.0</td>\n",
       "      <td>148.0</td>\n",
       "      <td>504.0</td>\n",
       "    </tr>\n",
       "    <tr>\n",
       "      <td>3</td>\n",
       "      <td>4</td>\n",
       "      <td>3525.0</td>\n",
       "      <td>7.146383</td>\n",
       "      <td>23.817568</td>\n",
       "      <td>25191.0</td>\n",
       "      <td>1829.0</td>\n",
       "      <td>933.0</td>\n",
       "      <td>1.860665</td>\n",
       "      <td>1736.0</td>\n",
       "      <td>110100.0</td>\n",
       "      <td>148.0</td>\n",
       "      <td>744.0</td>\n",
       "    </tr>\n",
       "    <tr>\n",
       "      <td>4</td>\n",
       "      <td>5</td>\n",
       "      <td>4858.0</td>\n",
       "      <td>7.038287</td>\n",
       "      <td>32.824324</td>\n",
       "      <td>34192.0</td>\n",
       "      <td>2592.0</td>\n",
       "      <td>1298.0</td>\n",
       "      <td>1.953775</td>\n",
       "      <td>2536.0</td>\n",
       "      <td>138000.0</td>\n",
       "      <td>148.0</td>\n",
       "      <td>933.0</td>\n",
       "    </tr>\n",
       "    <tr>\n",
       "      <td>5</td>\n",
       "      <td>6</td>\n",
       "      <td>5606.0</td>\n",
       "      <td>7.187834</td>\n",
       "      <td>37.878378</td>\n",
       "      <td>40295.0</td>\n",
       "      <td>3116.0</td>\n",
       "      <td>1591.0</td>\n",
       "      <td>2.203017</td>\n",
       "      <td>3505.0</td>\n",
       "      <td>171300.0</td>\n",
       "      <td>148.0</td>\n",
       "      <td>1158.0</td>\n",
       "    </tr>\n",
       "    <tr>\n",
       "      <td>6</td>\n",
       "      <td>7</td>\n",
       "      <td>6896.0</td>\n",
       "      <td>7.202291</td>\n",
       "      <td>46.594595</td>\n",
       "      <td>49667.0</td>\n",
       "      <td>3683.0</td>\n",
       "      <td>1866.0</td>\n",
       "      <td>2.430868</td>\n",
       "      <td>4536.0</td>\n",
       "      <td>192750.0</td>\n",
       "      <td>148.0</td>\n",
       "      <td>1303.0</td>\n",
       "    </tr>\n",
       "    <tr>\n",
       "      <td>7</td>\n",
       "      <td>8</td>\n",
       "      <td>7628.0</td>\n",
       "      <td>7.164788</td>\n",
       "      <td>51.540541</td>\n",
       "      <td>54653.0</td>\n",
       "      <td>4097.0</td>\n",
       "      <td>2097.0</td>\n",
       "      <td>2.471626</td>\n",
       "      <td>5183.0</td>\n",
       "      <td>222900.0</td>\n",
       "      <td>148.0</td>\n",
       "      <td>1507.0</td>\n",
       "    </tr>\n",
       "    <tr>\n",
       "      <td>8</td>\n",
       "      <td>9</td>\n",
       "      <td>8579.0</td>\n",
       "      <td>7.231146</td>\n",
       "      <td>57.966216</td>\n",
       "      <td>62036.0</td>\n",
       "      <td>4386.0</td>\n",
       "      <td>2213.0</td>\n",
       "      <td>2.717126</td>\n",
       "      <td>6013.0</td>\n",
       "      <td>232800.0</td>\n",
       "      <td>148.0</td>\n",
       "      <td>1573.0</td>\n",
       "    </tr>\n",
       "    <tr>\n",
       "      <td>9</td>\n",
       "      <td>10</td>\n",
       "      <td>9517.0</td>\n",
       "      <td>7.212777</td>\n",
       "      <td>64.304054</td>\n",
       "      <td>68644.0</td>\n",
       "      <td>4826.0</td>\n",
       "      <td>2468.0</td>\n",
       "      <td>2.912075</td>\n",
       "      <td>7187.0</td>\n",
       "      <td>254100.0</td>\n",
       "      <td>148.0</td>\n",
       "      <td>1717.0</td>\n",
       "    </tr>\n",
       "    <tr>\n",
       "      <td>10</td>\n",
       "      <td>11</td>\n",
       "      <td>10066.0</td>\n",
       "      <td>7.206934</td>\n",
       "      <td>68.013514</td>\n",
       "      <td>72545.0</td>\n",
       "      <td>5232.0</td>\n",
       "      <td>2654.0</td>\n",
       "      <td>2.816880</td>\n",
       "      <td>7476.0</td>\n",
       "      <td>280350.0</td>\n",
       "      <td>148.0</td>\n",
       "      <td>1895.0</td>\n",
       "    </tr>\n",
       "    <tr>\n",
       "      <td>11</td>\n",
       "      <td>12</td>\n",
       "      <td>11581.0</td>\n",
       "      <td>7.115102</td>\n",
       "      <td>78.250000</td>\n",
       "      <td>82400.0</td>\n",
       "      <td>5993.0</td>\n",
       "      <td>3022.0</td>\n",
       "      <td>2.787889</td>\n",
       "      <td>8425.0</td>\n",
       "      <td>297300.0</td>\n",
       "      <td>148.0</td>\n",
       "      <td>2009.0</td>\n",
       "    </tr>\n",
       "    <tr>\n",
       "      <td>12</td>\n",
       "      <td>All</td>\n",
       "      <td>72292.0</td>\n",
       "      <td>7.175400</td>\n",
       "      <td>40.704955</td>\n",
       "      <td>518724.0</td>\n",
       "      <td>37857.0</td>\n",
       "      <td>19202.0</td>\n",
       "      <td>2.532184</td>\n",
       "      <td>48623.0</td>\n",
       "      <td>2039100.0</td>\n",
       "      <td>1776.0</td>\n",
       "      <td>1149.0</td>\n",
       "    </tr>\n",
       "  </tbody>\n",
       "</table>\n",
       "</div>"
      ],
      "text/plain": [
       "   month  calls_count  calls_mean  calls_us_mean  calls_sum  mess_count  \\\n",
       "0      1        535.0    7.201869       3.614865     3853.0       246.0   \n",
       "1      2        997.0    7.152457       6.736486     7131.0       584.0   \n",
       "2      3       2504.0    7.235224      16.918919    18117.0      1273.0   \n",
       "3      4       3525.0    7.146383      23.817568    25191.0      1829.0   \n",
       "4      5       4858.0    7.038287      32.824324    34192.0      2592.0   \n",
       "5      6       5606.0    7.187834      37.878378    40295.0      3116.0   \n",
       "6      7       6896.0    7.202291      46.594595    49667.0      3683.0   \n",
       "7      8       7628.0    7.164788      51.540541    54653.0      4097.0   \n",
       "8      9       8579.0    7.231146      57.966216    62036.0      4386.0   \n",
       "9     10       9517.0    7.212777      64.304054    68644.0      4826.0   \n",
       "10    11      10066.0    7.206934      68.013514    72545.0      5232.0   \n",
       "11    12      11581.0    7.115102      78.250000    82400.0      5993.0   \n",
       "12   All      72292.0    7.175400      40.704955   518724.0     37857.0   \n",
       "\n",
       "    inter_count  inter_mean  inter_sum    revenue  us_count  rev_mean  \n",
       "0         119.0    2.554622      304.0    17550.0     148.0     119.0  \n",
       "1         288.0    1.829861      527.0    47400.0     148.0     321.0  \n",
       "2         653.0    1.830015     1195.0    74550.0     148.0     504.0  \n",
       "3         933.0    1.860665     1736.0   110100.0     148.0     744.0  \n",
       "4        1298.0    1.953775     2536.0   138000.0     148.0     933.0  \n",
       "5        1591.0    2.203017     3505.0   171300.0     148.0    1158.0  \n",
       "6        1866.0    2.430868     4536.0   192750.0     148.0    1303.0  \n",
       "7        2097.0    2.471626     5183.0   222900.0     148.0    1507.0  \n",
       "8        2213.0    2.717126     6013.0   232800.0     148.0    1573.0  \n",
       "9        2468.0    2.912075     7187.0   254100.0     148.0    1717.0  \n",
       "10       2654.0    2.816880     7476.0   280350.0     148.0    1895.0  \n",
       "11       3022.0    2.787889     8425.0   297300.0     148.0    2009.0  \n",
       "12      19202.0    2.532184    48623.0  2039100.0    1776.0    1149.0  "
      ]
     },
     "metadata": {},
     "output_type": "display_data"
    },
    {
     "name": "stdout",
     "output_type": "stream",
     "text": [
      "\n"
     ]
    }
   ],
   "source": [
    "#посчитаем количество сделанных звонков и израсходованных минут разговора по месяцам для каждого пользователя \n",
    "data_calls = data_calls.merge(data_users, on='user_id', how='outer') #соединим датасеты со звонками и со сведениями о клиентах\n",
    "data_calls['month'] = data_calls['call_date'].dt.month #добавим столбец с месяцем\n",
    "data_calls['duration'] = data_calls['duration'].apply(np.ceil) #округлим минуты до целых согласно билинга \"Мегалайна\"\n",
    "#сгруппируем по пользователю и месяцу\n",
    "data_calls_pivot = data_calls.pivot_table(index=['user_id', 'month','tariff', 'city'], values='duration', aggfunc=['count', 'sum'])\n",
    "data_calls_pivot.columns = ['calls_count', 'calls_sum'] #переименнуем столбцы\n",
    "\n",
    "#посчитаем количество отправленных сообщений по месяцам для каждого пользователя\n",
    "data_messages = data_messages.merge(data_users, on='user_id', how='outer') #объединим сообщения и сведения о клиентах\n",
    "data_messages['month'] = data_messages['message_date'].dt.month #добавим столбец с месяцем\n",
    "#сгруппируем по пользователю и месяцу\n",
    "data_messages = data_messages.pivot_table(index=['user_id', 'month','tariff', 'city'], values='id', aggfunc=['count']) \n",
    "data_messages.columns = ['messages_count'] #переименнуем столбцы\n",
    "#объединим в одну таблицу\n",
    "data = data_calls_pivot.merge(data_messages, on=['user_id', 'month', 'tariff', 'city'], how='outer').reset_index() \n",
    "\n",
    "#посчитаем количество израсходованного интернет трафика по месяцам для каждого пользователя \n",
    "data_internet = data_internet.merge(data_users, on='user_id', how='outer') #объединим интернет-трафик и сведения о клиентах\n",
    "data_internet['month'] = data_internet['session_date'].dt.month #добавим столбец с месяцем\n",
    "#сгруппируем по пользователю и месяцу\n",
    "data_internet_pivot = data_internet.pivot_table(index=['user_id', 'month','tariff', 'city'], values='mb_used', aggfunc=['count', 'sum'])\n",
    "data_internet_pivot.columns = ['internet_count', 'internet_sum'] #переименнуем столбцы\n",
    "data_internet_pivot['internet_sum'] = data_internet_pivot['internet_sum']/1024 #переведем в Гб \n",
    "#округлим до Гб согласно билинга \"Мегалайна\"\n",
    "data_internet_pivot['internet_sum'] = data_internet_pivot['internet_sum'].apply(np.ceil) \n",
    "data = data.merge(data_internet_pivot, on=['user_id', 'month', 'tariff', 'city'], how='outer') #объединим в одну таблицу\n",
    "\n",
    "#посчитаем помесячную выручку с каждого пользователя\n",
    "data = data.fillna(0) #заменим пропуски нулями\n",
    "for index in range(len(data['tariff'])):\n",
    "    if data.loc[index, 'tariff'] == 'smart':\n",
    "        x = data.loc[index, 'calls_sum'] - 500\n",
    "        if x < 0:\n",
    "            x = 0\n",
    "        y = data.loc[index, 'messages_count'] - 50\n",
    "        if y < 0:\n",
    "            y = 0\n",
    "        z = data.loc[index, 'internet_sum'] - 15\n",
    "        if z < 0:\n",
    "            z = 0\n",
    "        data.loc[index, 'revenue'] = x*3 + y*3 + z*200 + 550\n",
    "    else:\n",
    "        x = data.loc[index, 'calls_sum'] - 3000\n",
    "        if x < 0:\n",
    "            x = 0\n",
    "        y = data.loc[index, 'messages_count'] - 1000\n",
    "        if y < 0:\n",
    "            y = 0\n",
    "        z = data.loc[index, 'internet_sum'] - 30\n",
    "        if z < 0:\n",
    "            z = 0\n",
    "        data.loc[index, 'revenue'] = x + y + z*150 + 1950\n",
    "display('Случайная выборка помесячной выручки с каждого пользователя', data.sample(10))\n",
    "print()\n",
    "\n",
    "#срез по тарифу смарт по месяцам\n",
    "data_smart = (data.query(('tariff == \"smart\"'))\n",
    "                  .pivot_table(index=['month'], \n",
    "                             values=['calls_count', 'calls_sum', 'messages_count', 'internet_count', 'internet_sum', 'revenue'],\n",
    "                             aggfunc=['sum'], margins=True).reset_index()\n",
    ")\n",
    "#переименнуем столбцы\n",
    "data_smart.columns = ['month', 'calls_count', 'calls_sum', 'mess_count', 'inter_count', 'inter_sum', 'revenue']\n",
    "#добавим столбец со средним значением продолжительности звонков\n",
    "data_smart.insert(2, 'calls_mean', 0)\n",
    "data_smart['calls_mean'] = data_smart['calls_sum']/data_smart['calls_count']\n",
    "#добавим столбец со средним значением продолжительности сессии\n",
    "data_smart.insert(6, 'inter_mean', 0)\n",
    "data_smart['inter_mean'] = data_smart['inter_sum']/data_smart['inter_count'] \n",
    "#добавим столбец с количеством пользователей\n",
    "for index in range(12):\n",
    "    data_smart.loc[index, 'us_count'] = data.query(('month == index+1') and ('tariff == \"smart\"'))['user_id'].nunique()\n",
    "data_smart.loc[12, 'us_count'] = data_smart.loc[:11, 'us_count'].sum()\n",
    "#добавим столбец со средним значением выручки на одного пользователя\n",
    "data_smart['rev_mean'] = data_smart['revenue']/data_smart['us_count']\n",
    "data_smart['rev_mean'] = data_smart['rev_mean'].apply(np.ceil) #округлим до рублей\n",
    "#добавим столбец со средним значением количества звонков для одного пользователя за месяц\n",
    "data_smart.insert(3, 'calls_us_mean', 0)\n",
    "data_smart['calls_us_mean'] = data_smart['calls_count']/data_smart['us_count']\n",
    "display('Тариф Смарт', data_smart)\n",
    "print()\n",
    "\n",
    "#срез по тарифу ультра по месяцам \n",
    "data_ultra = (data.query(('tariff == \"ultra\"'))\n",
    "                  .pivot_table(index=['month'], \n",
    "                            values=['calls_count', 'calls_sum', 'messages_count', 'internet_count', 'internet_sum', 'revenue'],\n",
    "                            aggfunc=['sum'], margins=True).reset_index()\n",
    ")                    \n",
    "#переименнуем столбцы\n",
    "data_ultra.columns = ['month', 'calls_count', 'calls_sum', 'mess_count', 'inter_count', 'inter_sum', 'revenue'] \n",
    "#добавим столбец со средним значением продолжительности звонков\n",
    "data_ultra.insert(2, 'calls_mean', 0)\n",
    "data_ultra['calls_mean'] = data_ultra['calls_sum']/data_ultra['calls_count'] \n",
    "#добавим столбец со средним значением продолжительности сессии\n",
    "data_ultra.insert(6, 'inter_mean', 0)\n",
    "data_ultra['inter_mean'] = data_ultra['inter_sum']/data_ultra['inter_count'] \n",
    "#добавим столбец с количеством пользователей\n",
    "for index in range(12):\n",
    "    data_ultra.loc[index, 'us_count'] = data.query(('month == index+1') and ('tariff == \"ultra\"'))['user_id'].nunique()\n",
    "data_ultra.loc[12, 'us_count'] = data_ultra.loc[:11, 'us_count'].sum()\n",
    "#добавим столбец со средним значением выручки на одного пользователя\n",
    "data_ultra['rev_mean'] = data_ultra['revenue']/data_ultra['us_count']\n",
    "data_ultra['rev_mean'] = data_ultra['rev_mean'].apply(np.ceil) #округлим до рублей\n",
    "#добавим столбец со средним значением количества звонков для одного пользователя за месяц\n",
    "data_ultra.insert(3, 'calls_us_mean', 0)\n",
    "data_ultra['calls_us_mean'] = data_ultra['calls_count']/data_ultra['us_count']\n",
    "display('Тариф Ультра', data_ultra)\n",
    "print()\n",
    "\n"
   ]
  },
  {
   "cell_type": "code",
   "execution_count": 19,
   "metadata": {},
   "outputs": [
    {
     "data": {
      "image/png": "[encoded data removed]",
      "text/plain": [
       "<Figure size 720x144 with 1 Axes>"
      ]
     },
     "metadata": {
      "needs_background": "light"
     },
     "output_type": "display_data"
    },
    {
     "data": {
      "image/png": "[encoded data removed]",
      "text/plain": [
       "<Figure size 720x144 with 1 Axes>"
      ]
     },
     "metadata": {
      "needs_background": "light"
     },
     "output_type": "display_data"
    }
   ],
   "source": [
    "#построим гистограммы по количеству минут разговоров по месяцам для обоих тарифов\n",
    "data_smart_gis = data_smart.loc[:11, ['month', 'calls_sum']]#сделаем срез по 2 столбцам\n",
    "data_smart_gis.columns = ['month', 'smart'] #переименнуем столбцы\n",
    "data_ultra_gis = data_ultra.loc[:11, ['month', 'calls_sum']]#сделаем срез по 2 столбцам\n",
    "data_ultra_gis.columns = ['month', 'ultra'] #переименнуем столбцы\n",
    "data_smart_gis.merge(data_ultra_gis, on='month').plot.bar(x='month', xlim=(0, 13), ylim=(0, 170000), figsize=(10, 2), grid=True)\n",
    "plt.title('Гистограмма по количеству минут разговоров по месяцам')\n",
    "plt.show()\n",
    "\n",
    "#построим гистограммы по объему израсходованного интернет-трафика по месяцам по месяцам для обоих тарифов\n",
    "data_smart_gis = data_smart.loc[:11, ['month', 'inter_sum']]#сделаем срез по 2 столбцам\n",
    "data_smart_gis.columns = ['month', 'smart'] #переименнуем столбцы\n",
    "data_ultra_gis = data_ultra.loc[:11, ['month', 'inter_sum']]#сделаем срез по 2 столбцам\n",
    "data_ultra_gis.columns = ['month', 'ultra'] #переименнуем столбцы\n",
    "data_smart_gis.merge(data_ultra_gis, on='month').plot.bar(x='month', xlim=(0, 13), ylim=(0, 13000), figsize=(10, 2), grid=True)\n",
    "plt.title('Гистограмма по объему израсходованного интернет-трафика по месяцам')\n",
    "plt.show()\n"
   ]
  },
  {
   "cell_type": "code",
   "execution_count": 20,
   "metadata": {},
   "outputs": [
    {
     "name": "stdout",
     "output_type": "stream",
     "text": [
      "Звонки Дисперсия равна 35.51173924372318 Стандартное отклонение равно 5.959172697927388\n"
     ]
    },
    {
     "data": {
      "image/png": "[encoded data removed]",
      "text/plain": [
       "<Figure size 720x144 with 1 Axes>"
      ]
     },
     "metadata": {
      "needs_background": "light"
     },
     "output_type": "display_data"
    },
    {
     "name": "stdout",
     "output_type": "stream",
     "text": [
      "\n",
      "Интернет трафик Дисперсия равна 0.07386342944616384 Стандартное отклонение равно 0.271778272579255\n"
     ]
    },
    {
     "data": {
      "image/png": "[encoded data removed]",
      "text/plain": [
       "<Figure size 720x144 with 1 Axes>"
      ]
     },
     "metadata": {
      "needs_background": "light"
     },
     "output_type": "display_data"
    },
    {
     "name": "stdout",
     "output_type": "stream",
     "text": [
      "\n"
     ]
    }
   ],
   "source": [
    "#посчитаем дисперсию, стандартное отклонение, построим гистограммы (поскольку это выборка , то ddof=1)\n",
    "print('Звонки', 'Дисперсия равна', np.var(data_calls['duration'], ddof=1), \n",
    "      'Стандартное отклонение равно', np.std(data_calls['duration'], ddof=1)) \n",
    "data_calls = data_calls.query(('duration != 0')) #для наглядности уберем нулевые значения\n",
    "data_calls['duration'].hist(bins=40, range=(0, 40), figsize=(10, 2)) #построим гистограмму\n",
    "plt.title('Гистограмма по количеству звонков')\n",
    "plt.show()\n",
    "print()\n",
    "data_internet['mb_used'] = data_internet['mb_used']/1024 #переведем в Гб \n",
    "print('Интернет трафик', 'Дисперсия равна', np.var(data_internet['mb_used'], ddof=1), \n",
    "      'Стандартное отклонение равно', np.std(data_internet['mb_used'], ddof=1)) \n",
    "#display(data_internet_all)\n",
    "data_internet = data_internet.query(('mb_used != 0')) #для наглядности уберем нулевые значения\n",
    "data_internet['mb_used'].hist(bins=40, range=(0, 2), figsize=(10, 2)) #построим гистограмму\n",
    "plt.title('Гистограмма по объему интернет трафика')\n",
    "plt.show()\n",
    "print()\n"
   ]
  },
  {
   "cell_type": "markdown",
   "metadata": {},
   "source": [
    "### Вывод"
   ]
  },
  {
   "cell_type": "markdown",
   "metadata": {},
   "source": [
    "Для удобства исследовательского анализа данных объединили каждую из таблиц со звонками, сообщениями и интернет-трафиком с таблицей со сведениями о пользователях. В каждой из полученных таблиц сгруппировали данные по пользователю, месяцу и тарифу. Затем все объединили в общий датафрейм. Далее посчитали для каждого пользователя и добавили соответствующий столбец в полученный датафрейм следующие значения:    \n",
    "- количество сделанных звонков и израсходованных минут разговора по месяцам;\n",
    "- количество отправленных сообщений по месяцам;\n",
    "- объем израсходованного интернет-трафика по месяцам;\n",
    "- помесячную выручку.    \n",
    "    \n",
    "Затем сделали срезы по тарифам и получили две новые таблицы с данными в соответствии с используемым тарифом. В полученных таблицах добавили нужные нам стобцы с рассчитанными значениями:    \n",
    "- со средним значением продолжительности звонков;\n",
    "- со средним значением количества звонков для одного пользователя за месяц;\n",
    "- со средним значением продолжительности сессии;\n",
    "- с количеством пользователей;\n",
    "- со средним значением выручки на одного пользователя.    \n",
    "    \n",
    "Для визуализации полученных результатов построили гистограммы по количеству минут разговоров и гистограммы по объему израсходованного интернет-трафика по месяцам для обоих тарифов. Далее построили гистограммы по количеству звонков и по объему интернет трафика. Рассчитали дисперсии и стандартные отклонения.    \n",
    "    \n",
    "В результате указанных расчетов получили, что в целом потребности пользователей в предоставляемых услугах в 2018 году только росли. Причем наблюдался динамичный рост в течении года по всем услугам - и по количеству звонков и смс-сообщений и по объему используемого интернет-трафика. Причем такая тенденция справедлива для обоих тарифов. Это хорошо видно, например, по среднему количеству звонков сделанным одним пользователем в месяц. Если в январе оно составляло на тарифе *смарт* примерно 2,6, то в следующем месяце это уже 6,7, а к концу года в среднем пользователь делал уже 64 звонка. Рост потребностей носил относительно линейный характер, что видно на соответствующих гистограммах. Но при этом стоит отметить, среднее время разговора оставалось примерно одинаковым, около 7 минут и это говорит о том что продолжительность звонков не менялась. Такая же картина складывалась и для использования интернет-трафика. С ростом потребностей в услугах также росла, как сама выручка с предоставляемых услуг, так и ее среднее значение. И это также справедливо для обоих тарифов.    \n",
    "По гистограммам по количеству звонков и по объему интернет трафика видим что они похожи, распределения в обоих случаях носят нормальный характер, это говорит о скорее всего реалистичности наших данных. Видим, что расчитанное среднее совпадает с пиком на гистограмме, около семи минут. Видим также, что правило трех сигм тоже скорее всего выполняется, расчитанное отклонение умноженное на 3 и прибавленне среднее 7 - это будет около 25, что как мы видим на гистограмме большинство значений и находится ниже этой границы. Для данных по интернет-трафику среднее для каждого пользователя не рассчитывали из-за и без того больших объемов рассчытываемых данных и для того, чтобы не перегружать визуализацию. Но там картина складывается в целом такая же.\n"
   ]
  },
  {
   "cell_type": "markdown",
   "metadata": {},
   "source": [
    "## Проверка гипотез"
   ]
  },
  {
   "cell_type": "code",
   "execution_count": 21,
   "metadata": {},
   "outputs": [
    {
     "name": "stdout",
     "output_type": "stream",
     "text": [
      "p-значение:  4.2606313931076085e-250\n",
      "Отвергаем нулевую гипотезу\n"
     ]
    }
   ],
   "source": [
    "#проверим первое утверждение\n",
    "#срез по пользователям по тарифу смарт  \n",
    "data_smart_all = data.query(('tariff == \"smart\"'))\n",
    "#data_smart_all.info()\n",
    "#срез по пользователям по тарифу ультра\n",
    "data_ultra_all = data.query(('tariff == \"ultra\"'))\n",
    "#data_ultra_all.info()\n",
    "\n",
    "alpha = .01 # критический уровень статистической значимости\n",
    "# если p-value окажется меньше него - отвергнем гипотезу\n",
    "\n",
    "results = st.ttest_ind(data_smart_all['revenue'], data_ultra_all['revenue'], equal_var=False)\n",
    "\n",
    "print('p-значение: ', results.pvalue)\n",
    "\n",
    "if results.pvalue < alpha:\n",
    "    print(\"Отвергаем нулевую гипотезу\")\n",
    "else:\n",
    "    print(\"Не получилось отвергнуть нулевую гипотезу\") "
   ]
  },
  {
   "cell_type": "code",
   "execution_count": 22,
   "metadata": {},
   "outputs": [
    {
     "name": "stdout",
     "output_type": "stream",
     "text": [
      "p-значение:  0.5257376663729298\n",
      "Не получилось отвергнуть нулевую гипотезу\n"
     ]
    }
   ],
   "source": [
    "#проверим второе утверждение\n",
    "#срез по пользователям из Москвы  \n",
    "data_moscow = data.query(('city == \"Москва\"'))\n",
    "#data_moscow.info()\n",
    "#срез по пользователям из других городов\n",
    "data_another = data.query(('city != \"Москва\"'))\n",
    "#data_another.info()\n",
    "\n",
    "alpha = .01 # критический уровень статистической значимости\n",
    "# если p-value окажется меньше него - отвергнем гипотезу\n",
    "\n",
    "results = st.ttest_ind(data_moscow['revenue'], data_another['revenue'], equal_var=False)\n",
    "\n",
    "print('p-значение: ', results.pvalue)\n",
    "\n",
    "if results.pvalue < alpha:\n",
    "    print(\"Отвергаем нулевую гипотезу\")\n",
    "else:\n",
    "    print(\"Не получилось отвергнуть нулевую гипотезу\") "
   ]
  },
  {
   "cell_type": "markdown",
   "metadata": {},
   "source": [
    "### Вывод"
   ]
  },
  {
   "cell_type": "markdown",
   "metadata": {},
   "source": [
    "По условию проекта имеем две гипотезы о равенстве средних двух генеральных совокупностей. Воспользуемся специальным методом для проверки гипотез о равенстве среднего по взятым из них выборкам st.ttest_ind(). Имеем достаточно большие, но не равные по размеру выборки в обоих случаях. Количество жителей Москвы и других городов не равно и количество пользователей тарифами тоже разное. Это видно из срезов методом info() (закомметил, чтобы не перегружать визуализацию). Сравним средние t-тестом, указав параметр equal_var = False, чтобы тест посчитал дисперсии выборок по отдельности. Пороговое значение alpha зададим 0,01.    \n",
    "    \n",
    "**Первое утверждение - средняя выручка пользователей тарифов «Ультра» и «Смарт» различаются.**    \n",
    "*Нулевая гипотеза:*\n",
    "- средняя выручка пользователей тарифов «Ультра» и «Смарт» равна    \n",
    "    \n",
    "*Альтернативная гипотеза:*\n",
    "- средняя выручка пользователей тарифов «Ультра» и «Смарт» различается    \n",
    "\n",
    "В результате расчетов отвергаем нулевую гипотезу, это говорит о том, что с большой вероятностью средняя выручка у обоих тарифов возможно различается. Чтобы сделать вывод какой тариф лучше был на тот период попробуем понять из данных, полученных в исследовательском анализе.    \n",
    "    \n",
    "**Второе утверждение - средняя выручка пользователей из Москвы отличается от выручки пользователей из других регионов.**    \n",
    "*Нулевая гипотеза:*\n",
    "- средняя выручка пользователей из Москвы равна выручке пользователей из других регионов    \n",
    "    \n",
    "*Альтернативная гипотеза:*\n",
    "- средняя выручка пользователей из Москвы отличается от выручки пользователей из других регионов    \n",
    "    \n",
    "В результате расчетов отвергнуть нулевую гипотезу не получилось, это говорит о том, что действительно с большой вероятностью средняя выручка пользователей из Москвы не отличается от выручки пользователей из других регионов. \n"
   ]
  },
  {
   "cell_type": "markdown",
   "metadata": {},
   "source": [
    "## Общий вывод"
   ]
  },
  {
   "cell_type": "markdown",
   "metadata": {},
   "source": [
    "\n",
    "**Цель** данного исследования, определить лучший тарифный план федерального оператора сотовой связи компании «Мегалайн».    \n",
    "   \n",
    " \n",
    "Клиентам компании предлагают два тарифных плана: «Смарт» и «Ультра». Чтобы скорректировать рекламный бюджет, коммерческий департамент хочет понять, какой тариф приносит больше денег.    \n",
    "Предлагается сделать предварительный анализ тарифов на небольшой выборке клиентов. В нашем распоряжении данные 500 пользователей «Мегалайна»: кто они, откуда, каким тарифом пользуются, сколько звонков и сообщений каждый отправил за 2018 год. Нужно проанализировать поведение клиентов и сделать вывод — какой тариф лучше. \n",
    "   \n",
    "\n",
    "**Предобработка данных**    \n",
    "\n",
    "В первой части анализа - *Предобработка данных*  столкнулись с минимум проблем. Предлагаю этот момент отметить руководству компании. Техническая команда осуществляющая выгрузку данных справилась с работой отлично. Но тем не менее было обнаружено следующее:    \n",
    "- *В исходных данных пропуски мы обнаружили только в столбце 'churn_date' где находится дата прекращения пользования тарифом. Значение там было пропущено из-за того, что тариф ещё действовал на момент выгрузки данных. Нам пришлось заполнить его последней датой исследуемого периода.*\n",
    "- *Столбец data_internet['Unnamed: 0'] отсутствует в описании и его значения повторяют индексы, скорее всего это техническая ошибка.*\n",
    "- *Тип данных в столбцах с датами data_users['churn_date'], data_users['reg_date'], data_calls['call_date'], data_internet['session_date'], data_messages['message_date'] поменяли на соответствующий тип datetime.*   \n",
    "\n",
    "\n",
    "**Исследовательский анализ данных**    \n",
    "\n",
    "Для удобства исследовательского анализа данных объединили каждую из исходных таблиц в общую таблицу. Далее посчитали для каждого пользователя и добавили соответствующий столбец в полученный датафрейм следующие значения:    \n",
    "- количество сделанных звонков и израсходованных минут разговора по месяцам;\n",
    "- количество отправленных сообщений по месяцам;\n",
    "- объем израсходованного интернет-трафика по месяцам;\n",
    "- помесячную выручку.    \n",
    "    \n",
    "Затем сделали срезы по тарифам и получили две новые таблицы с данными в соответствии с используемым тарифом. В полученных таблицах добавили нужные нам стобцы с рассчитанными значениями:    \n",
    "- со средним значением продолжительности звонков;\n",
    "- со средним значением количества звонков для одного пользователя за месяц;\n",
    "- со средним значением продолжительности сессии;\n",
    "- с количеством пользователей;\n",
    "- со средним значением выручки на одного пользователя.    \n",
    "    \n",
    "Для визуализации полученных результатов построили гистограммы по количеству минут разговоров и гистограммы по объему израсходованного интернет-трафика по месяцам для обоих тарифов. Далее построили гистограммы по количеству звонков и по объему интернет трафика. Рассчитали дисперсии и стандартные отклонения.    \n",
    "    \n",
    "В результате указанных расчетов получили, что в целом потребности пользователей в предоставляемых услугах в 2018 году только росли. Причем наблюдался динамичный рост в течении года по всем услугам - и по количеству звонков и смс-сообщений и по объему используемого интернет-трафика. Причем такая тенденция справедлива для обоих тарифов. Это хорошо видно, например, по среднему количеству звонков сделанным одним пользователем в месяц. Если в январе оно составляло на тарифе *смарт* примерно 2,6, то в следующем месяце это уже 6,7, а к концу года в среднем пользователь делал уже 64 звонка. Рост потребностей носил относительно линейный характер, что видно на соответствующих гистограммах. Но при этом стоит отметить, среднее время разговора оставалось примерно одинаковым, около 7 минут и это говорит о том что продолжительность звонков не менялась. Такая же картина складывалась и для использования интернет-трафика. С ростом потребностей в услугах также росла, как сама выручка с предоставляемых услуг, так и ее среднее значение. И это также справедливо для обоих тарифов.    \n",
    "По гистограммам по количеству звонков и по объему интернет трафика видим что они похожи, распределения в обоих случаях носят нормальный характер, это говорит о скорее всего реалистичности наших данных. Видим, что расчитанное среднее совпадает с пиком на гистограмме, около семи минут. Для данных по сообщениям и по интернет-трафику картина складывается в целом такая же.\n",
    "\n",
    "    \n",
    "**Проверка гипотез**\n",
    "\n",
    "В процессе исследования изучили две гипотезы о равенстве средних двух генеральных совокупностей по взятым из них выборкам. Выборки были достаточно большие, но не равные по размеру в обоих случаях. Количество жителей Москвы и других городов не равно и количество пользователей тарифами тоже разное. Сравнивали средние t-тестом, указав пороговым значением alpha 0,01.    \n",
    "  \n",
    "В первом случае, в результате расчетов отвергли гипотезу, что *средняя выручка пользователей тарифов «Ультра» и «Смарт» равна*. Это говорит о том, что с большой вероятностью средняя выручка у обоих тарифов возможно различается.     \n",
    "    \n",
    "Во втором случае, отвергнуть гипотезу, что *средняя выручка пользователей из Москвы равна выручке пользователей из других регионов* не получилось, это говорит о том, что действительно с большой вероятностью средняя выручка пользователей из Москвы не отличается от выручки пользователей из других регионов. \n",
    "    \n",
    "**Подведя итог всему вышесказанному делаем вывод, что с одной стороны, с большой вероятностью средняя выручка у обоих тарифов возможно различается (хотя наверняка конечно это утверждать нельзя). С другой стороны, разными тарифами пользовалось разное количество клиентов. Количество пользователей тарифа \"Смарт\" в 2,4 раза больше, чем тарифа \"Ультра\". Но суммарную выручку за год тариф \"Смарт\" принес больше чем \"Ультра\" всего лишь в 1,4 раза. Исходя из этих соображений, тариф \"Ультра\" более прибыльный и возможно, дополнительная рекламная компания увеличила бы количество его пользователей. Но как правило, клиенты не хотят платить сразу много. Они предпочитают доплачивать за услуги сверх установленных лимитов, что тоже отлично. Также отметим, что потребности пользователей обоих тарифов в течении года одинаково динамично росли и в итоге принесли хорошую выручку компании.  Считаю, что оба тарифа показали себя хорошо и не надо давать предпочтение какому то одному из них. Наоборот они себя дополняют и охватывают более широкую часть потребительского рынка.**\n",
    " "
   ]
  },
  {
   "cell_type": "code",
   "execution_count": null,
   "metadata": {},
   "outputs": [],
   "source": []
  }
 ],
 "metadata": {
  "ExecuteTimeLog": [
   {
    "duration": 1129,
    "start_time": "2022-01-03T18:53:37.916Z"
   },
   {
    "duration": 103,
    "start_time": "2022-01-03T19:04:09.815Z"
   },
   {
    "duration": 403,
    "start_time": "2022-01-03T19:19:20.596Z"
   },
   {
    "duration": 3696,
    "start_time": "2022-01-03T19:28:20.548Z"
   },
   {
    "duration": 234,
    "start_time": "2022-01-03T19:28:36.420Z"
   },
   {
    "duration": 404,
    "start_time": "2022-01-03T19:29:25.052Z"
   },
   {
    "duration": 1022,
    "start_time": "2022-01-03T19:32:26.183Z"
   },
   {
    "duration": 1401,
    "start_time": "2022-01-03T19:33:07.559Z"
   },
   {
    "duration": 3810,
    "start_time": "2022-01-03T19:36:10.045Z"
   },
   {
    "duration": 3937,
    "start_time": "2022-01-03T19:36:39.060Z"
   },
   {
    "duration": -148,
    "start_time": "2022-01-03T19:36:43.148Z"
   },
   {
    "duration": -152,
    "start_time": "2022-01-03T19:36:43.154Z"
   },
   {
    "duration": -166,
    "start_time": "2022-01-03T19:36:43.169Z"
   },
   {
    "duration": -167,
    "start_time": "2022-01-03T19:36:43.172Z"
   },
   {
    "duration": -171,
    "start_time": "2022-01-03T19:36:43.178Z"
   },
   {
    "duration": 2639,
    "start_time": "2022-01-03T19:38:05.451Z"
   },
   {
    "duration": 4019,
    "start_time": "2022-01-03T19:38:28.247Z"
   },
   {
    "duration": 2855,
    "start_time": "2022-01-03T19:39:46.680Z"
   },
   {
    "duration": 2860,
    "start_time": "2022-01-03T19:41:00.143Z"
   },
   {
    "duration": 2953,
    "start_time": "2022-01-03T19:41:55.006Z"
   },
   {
    "duration": 2930,
    "start_time": "2022-01-03T19:42:39.964Z"
   },
   {
    "duration": 2003,
    "start_time": "2022-01-03T19:43:13.132Z"
   },
   {
    "duration": 2031,
    "start_time": "2022-01-03T19:43:28.436Z"
   },
   {
    "duration": 133,
    "start_time": "2022-01-03T19:43:30.470Z"
   },
   {
    "duration": 209,
    "start_time": "2022-01-03T19:43:30.605Z"
   },
   {
    "duration": 1018,
    "start_time": "2022-01-03T19:43:30.816Z"
   },
   {
    "duration": 1536,
    "start_time": "2022-01-03T19:43:31.836Z"
   },
   {
    "duration": 3060,
    "start_time": "2022-01-03T19:43:33.374Z"
   },
   {
    "duration": 2902,
    "start_time": "2022-01-03T19:45:23.905Z"
   },
   {
    "duration": 2956,
    "start_time": "2022-01-03T19:45:34.385Z"
   },
   {
    "duration": 3083,
    "start_time": "2022-01-03T19:48:42.284Z"
   },
   {
    "duration": 4,
    "start_time": "2022-01-03T19:50:34.036Z"
   },
   {
    "duration": 3136,
    "start_time": "2022-01-03T19:50:34.043Z"
   },
   {
    "duration": 417,
    "start_time": "2022-01-03T19:50:37.183Z"
   },
   {
    "duration": -158,
    "start_time": "2022-01-03T19:50:37.762Z"
   },
   {
    "duration": -161,
    "start_time": "2022-01-03T19:50:37.767Z"
   },
   {
    "duration": -167,
    "start_time": "2022-01-03T19:50:37.776Z"
   },
   {
    "duration": -169,
    "start_time": "2022-01-03T19:50:37.780Z"
   },
   {
    "duration": 2982,
    "start_time": "2022-01-03T19:52:43.617Z"
   },
   {
    "duration": 153,
    "start_time": "2022-01-03T19:53:26.591Z"
   },
   {
    "duration": 277,
    "start_time": "2022-01-03T19:54:00.224Z"
   },
   {
    "duration": 164,
    "start_time": "2022-01-03T19:54:10.519Z"
   },
   {
    "duration": 164,
    "start_time": "2022-01-03T19:54:23.670Z"
   },
   {
    "duration": 100,
    "start_time": "2022-01-03T19:55:07.470Z"
   },
   {
    "duration": 228,
    "start_time": "2022-01-03T19:55:15.565Z"
   },
   {
    "duration": 162,
    "start_time": "2022-01-03T19:56:27.868Z"
   },
   {
    "duration": 3045,
    "start_time": "2022-01-03T19:57:22.564Z"
   },
   {
    "duration": 3172,
    "start_time": "2022-01-03T20:24:37.411Z"
   },
   {
    "duration": 3026,
    "start_time": "2022-01-03T20:25:38.018Z"
   },
   {
    "duration": 850,
    "start_time": "2022-01-03T20:31:47.964Z"
   },
   {
    "duration": 853,
    "start_time": "2022-01-03T20:58:36.676Z"
   },
   {
    "duration": 303,
    "start_time": "2022-01-03T21:28:49.710Z"
   },
   {
    "duration": 290,
    "start_time": "2022-01-03T21:40:49.056Z"
   },
   {
    "duration": 25,
    "start_time": "2022-01-03T21:47:16.310Z"
   },
   {
    "duration": 914,
    "start_time": "2022-01-03T21:47:35.461Z"
   },
   {
    "duration": 24,
    "start_time": "2022-01-03T21:47:36.378Z"
   },
   {
    "duration": 270,
    "start_time": "2022-01-03T21:47:36.406Z"
   },
   {
    "duration": -267,
    "start_time": "2022-01-03T21:47:36.945Z"
   },
   {
    "duration": -274,
    "start_time": "2022-01-03T21:47:36.954Z"
   },
   {
    "duration": -279,
    "start_time": "2022-01-03T21:47:36.960Z"
   },
   {
    "duration": 1176,
    "start_time": "2022-01-03T21:49:34.451Z"
   },
   {
    "duration": 38,
    "start_time": "2022-01-03T21:49:35.630Z"
   },
   {
    "duration": 331,
    "start_time": "2022-01-03T21:49:35.671Z"
   },
   {
    "duration": -285,
    "start_time": "2022-01-03T21:49:36.291Z"
   },
   {
    "duration": -295,
    "start_time": "2022-01-03T21:49:36.303Z"
   },
   {
    "duration": -320,
    "start_time": "2022-01-03T21:49:36.330Z"
   },
   {
    "duration": 298,
    "start_time": "2022-01-03T21:50:10.416Z"
   },
   {
    "duration": 889,
    "start_time": "2022-01-03T21:50:22.626Z"
   },
   {
    "duration": 280,
    "start_time": "2022-01-03T21:50:23.518Z"
   },
   {
    "duration": -272,
    "start_time": "2022-01-03T21:50:24.073Z"
   },
   {
    "duration": -276,
    "start_time": "2022-01-03T21:50:24.078Z"
   },
   {
    "duration": -283,
    "start_time": "2022-01-03T21:50:24.086Z"
   },
   {
    "duration": -289,
    "start_time": "2022-01-03T21:50:24.094Z"
   },
   {
    "duration": 293,
    "start_time": "2022-01-03T21:50:57.151Z"
   },
   {
    "duration": 834,
    "start_time": "2022-01-03T21:51:05.305Z"
   },
   {
    "duration": 311,
    "start_time": "2022-01-03T21:51:06.142Z"
   },
   {
    "duration": -282,
    "start_time": "2022-01-03T21:51:06.737Z"
   },
   {
    "duration": -288,
    "start_time": "2022-01-03T21:51:06.745Z"
   },
   {
    "duration": -289,
    "start_time": "2022-01-03T21:51:06.747Z"
   },
   {
    "duration": -290,
    "start_time": "2022-01-03T21:51:06.750Z"
   },
   {
    "duration": 263,
    "start_time": "2022-01-03T21:52:25.399Z"
   },
   {
    "duration": 825,
    "start_time": "2022-01-03T21:52:28.903Z"
   },
   {
    "duration": 41,
    "start_time": "2022-01-03T21:52:29.730Z"
   },
   {
    "duration": 271,
    "start_time": "2022-01-03T21:52:29.774Z"
   },
   {
    "duration": -278,
    "start_time": "2022-01-03T21:52:30.326Z"
   },
   {
    "duration": -287,
    "start_time": "2022-01-03T21:52:30.336Z"
   },
   {
    "duration": -287,
    "start_time": "2022-01-03T21:52:30.338Z"
   },
   {
    "duration": 21,
    "start_time": "2022-01-03T21:56:20.417Z"
   },
   {
    "duration": 14,
    "start_time": "2022-01-03T21:57:28.224Z"
   },
   {
    "duration": 841,
    "start_time": "2022-01-03T21:58:33.568Z"
   },
   {
    "duration": 14,
    "start_time": "2022-01-03T21:58:34.412Z"
   },
   {
    "duration": 548,
    "start_time": "2022-01-03T21:58:34.430Z"
   },
   {
    "duration": -294,
    "start_time": "2022-01-03T21:58:35.274Z"
   },
   {
    "duration": -300,
    "start_time": "2022-01-03T21:58:35.282Z"
   },
   {
    "duration": -302,
    "start_time": "2022-01-03T21:58:35.285Z"
   },
   {
    "duration": 362,
    "start_time": "2022-01-03T22:03:29.759Z"
   },
   {
    "duration": 296,
    "start_time": "2022-01-03T22:04:59.575Z"
   },
   {
    "duration": 274,
    "start_time": "2022-01-03T22:06:23.373Z"
   },
   {
    "duration": 309,
    "start_time": "2022-01-03T22:07:02.468Z"
   },
   {
    "duration": 298,
    "start_time": "2022-01-03T22:08:40.595Z"
   },
   {
    "duration": 287,
    "start_time": "2022-01-03T22:08:52.074Z"
   },
   {
    "duration": 95,
    "start_time": "2022-01-03T22:09:35.706Z"
   },
   {
    "duration": 272,
    "start_time": "2022-01-03T22:10:08.457Z"
   },
   {
    "duration": 290,
    "start_time": "2022-01-03T22:10:57.512Z"
   },
   {
    "duration": 271,
    "start_time": "2022-01-03T22:12:12.087Z"
   },
   {
    "duration": 287,
    "start_time": "2022-01-03T22:13:02.742Z"
   },
   {
    "duration": 285,
    "start_time": "2022-01-03T22:13:12.581Z"
   },
   {
    "duration": 279,
    "start_time": "2022-01-03T22:13:26.469Z"
   },
   {
    "duration": 668,
    "start_time": "2022-01-03T22:13:39.845Z"
   },
   {
    "duration": 916,
    "start_time": "2022-01-03T22:17:11.403Z"
   },
   {
    "duration": 296,
    "start_time": "2022-01-03T22:17:12.322Z"
   },
   {
    "duration": -297,
    "start_time": "2022-01-03T22:17:12.918Z"
   },
   {
    "duration": -300,
    "start_time": "2022-01-03T22:17:12.922Z"
   },
   {
    "duration": -301,
    "start_time": "2022-01-03T22:17:12.925Z"
   },
   {
    "duration": -301,
    "start_time": "2022-01-03T22:17:12.927Z"
   },
   {
    "duration": 858,
    "start_time": "2022-01-03T22:24:09.987Z"
   },
   {
    "duration": 27,
    "start_time": "2022-01-03T22:24:10.868Z"
   },
   {
    "duration": 257,
    "start_time": "2022-01-03T22:24:10.898Z"
   },
   {
    "duration": -322,
    "start_time": "2022-01-03T22:24:11.479Z"
   },
   {
    "duration": -324,
    "start_time": "2022-01-03T22:24:11.483Z"
   },
   {
    "duration": 32,
    "start_time": "2022-01-03T22:25:45.269Z"
   },
   {
    "duration": 916,
    "start_time": "2022-01-03T22:25:50.001Z"
   },
   {
    "duration": 59,
    "start_time": "2022-01-03T22:25:50.920Z"
   },
   {
    "duration": 279,
    "start_time": "2022-01-03T22:25:50.982Z"
   },
   {
    "duration": -311,
    "start_time": "2022-01-03T22:25:51.574Z"
   },
   {
    "duration": -315,
    "start_time": "2022-01-03T22:25:51.580Z"
   },
   {
    "duration": 836,
    "start_time": "2022-01-03T22:27:44.694Z"
   },
   {
    "duration": 46,
    "start_time": "2022-01-03T22:27:45.533Z"
   },
   {
    "duration": 295,
    "start_time": "2022-01-03T22:27:45.583Z"
   },
   {
    "duration": -312,
    "start_time": "2022-01-03T22:27:46.193Z"
   },
   {
    "duration": -320,
    "start_time": "2022-01-03T22:27:46.202Z"
   },
   {
    "duration": 25,
    "start_time": "2022-01-03T22:28:15.068Z"
   },
   {
    "duration": 903,
    "start_time": "2022-01-03T22:28:25.278Z"
   },
   {
    "duration": 24,
    "start_time": "2022-01-03T22:28:26.184Z"
   },
   {
    "duration": 269,
    "start_time": "2022-01-03T22:28:26.211Z"
   },
   {
    "duration": -328,
    "start_time": "2022-01-03T22:28:26.810Z"
   },
   {
    "duration": -329,
    "start_time": "2022-01-03T22:28:26.813Z"
   },
   {
    "duration": 832,
    "start_time": "2022-01-03T22:28:48.509Z"
   },
   {
    "duration": 44,
    "start_time": "2022-01-03T22:28:49.345Z"
   },
   {
    "duration": 273,
    "start_time": "2022-01-03T22:28:49.393Z"
   },
   {
    "duration": -321,
    "start_time": "2022-01-03T22:28:49.990Z"
   },
   {
    "duration": -326,
    "start_time": "2022-01-03T22:28:49.997Z"
   },
   {
    "duration": 853,
    "start_time": "2022-01-03T22:29:50.044Z"
   },
   {
    "duration": 92,
    "start_time": "2022-01-03T22:29:50.900Z"
   },
   {
    "duration": -319,
    "start_time": "2022-01-03T22:29:51.314Z"
   },
   {
    "duration": -324,
    "start_time": "2022-01-03T22:29:51.321Z"
   },
   {
    "duration": -329,
    "start_time": "2022-01-03T22:29:51.328Z"
   },
   {
    "duration": 875,
    "start_time": "2022-01-03T22:30:45.131Z"
   },
   {
    "duration": 847,
    "start_time": "2022-01-03T22:30:46.009Z"
   },
   {
    "duration": -329,
    "start_time": "2022-01-03T22:30:47.188Z"
   },
   {
    "duration": -338,
    "start_time": "2022-01-03T22:30:47.199Z"
   },
   {
    "duration": -346,
    "start_time": "2022-01-03T22:30:47.208Z"
   },
   {
    "duration": 868,
    "start_time": "2022-01-03T22:31:12.915Z"
   },
   {
    "duration": 25,
    "start_time": "2022-01-03T22:31:13.786Z"
   },
   {
    "duration": 266,
    "start_time": "2022-01-03T22:31:13.814Z"
   },
   {
    "duration": -329,
    "start_time": "2022-01-03T22:31:14.411Z"
   },
   {
    "duration": -330,
    "start_time": "2022-01-03T22:31:14.414Z"
   },
   {
    "duration": 283,
    "start_time": "2022-01-03T22:42:07.156Z"
   },
   {
    "duration": 875,
    "start_time": "2022-01-03T22:42:33.235Z"
   },
   {
    "duration": 101,
    "start_time": "2022-01-03T22:43:09.555Z"
   },
   {
    "duration": 850,
    "start_time": "2022-01-03T22:43:53.651Z"
   },
   {
    "duration": 838,
    "start_time": "2022-01-03T22:43:56.244Z"
   },
   {
    "duration": 98,
    "start_time": "2022-01-03T22:43:57.085Z"
   },
   {
    "duration": -338,
    "start_time": "2022-01-03T22:43:57.524Z"
   },
   {
    "duration": -346,
    "start_time": "2022-01-03T22:43:57.533Z"
   },
   {
    "duration": -352,
    "start_time": "2022-01-03T22:43:57.541Z"
   },
   {
    "duration": 94,
    "start_time": "2022-01-03T22:44:25.450Z"
   },
   {
    "duration": 110,
    "start_time": "2022-01-03T22:44:52.569Z"
   },
   {
    "duration": 92,
    "start_time": "2022-01-03T22:45:04.217Z"
   },
   {
    "duration": 92,
    "start_time": "2022-01-03T22:45:13.264Z"
   },
   {
    "duration": 884,
    "start_time": "2022-01-03T22:48:35.437Z"
   },
   {
    "duration": 114,
    "start_time": "2022-01-03T22:48:51.660Z"
   },
   {
    "duration": 29,
    "start_time": "2022-01-03T22:49:20.356Z"
   },
   {
    "duration": 25,
    "start_time": "2022-01-03T22:56:25.074Z"
   },
   {
    "duration": 851,
    "start_time": "2022-01-03T22:56:32.062Z"
   },
   {
    "duration": 59,
    "start_time": "2022-01-03T22:56:32.916Z"
   },
   {
    "duration": 302,
    "start_time": "2022-01-03T22:56:32.978Z"
   },
   {
    "duration": -368,
    "start_time": "2022-01-03T22:56:33.651Z"
   },
   {
    "duration": -377,
    "start_time": "2022-01-03T22:56:33.661Z"
   },
   {
    "duration": 853,
    "start_time": "2022-01-03T22:57:14.541Z"
   },
   {
    "duration": 28,
    "start_time": "2022-01-03T22:57:15.397Z"
   },
   {
    "duration": 332,
    "start_time": "2022-01-03T22:57:15.428Z"
   },
   {
    "duration": -639,
    "start_time": "2022-01-03T22:57:16.402Z"
   },
   {
    "duration": -645,
    "start_time": "2022-01-03T22:57:16.409Z"
   },
   {
    "duration": 29,
    "start_time": "2022-01-03T23:02:10.760Z"
   },
   {
    "duration": 31,
    "start_time": "2022-01-03T23:02:23.001Z"
   },
   {
    "duration": 307,
    "start_time": "2022-01-03T23:04:11.520Z"
   },
   {
    "duration": 856,
    "start_time": "2022-01-03T23:04:15.722Z"
   },
   {
    "duration": 278,
    "start_time": "2022-01-03T23:04:16.580Z"
   },
   {
    "duration": -370,
    "start_time": "2022-01-03T23:04:17.231Z"
   },
   {
    "duration": -375,
    "start_time": "2022-01-03T23:04:17.237Z"
   },
   {
    "duration": -375,
    "start_time": "2022-01-03T23:04:17.239Z"
   },
   {
    "duration": 108,
    "start_time": "2022-01-03T23:05:16.126Z"
   },
   {
    "duration": 30,
    "start_time": "2022-01-03T23:11:48.982Z"
   },
   {
    "duration": 33,
    "start_time": "2022-01-03T23:12:12.036Z"
   },
   {
    "duration": 1035,
    "start_time": "2022-01-03T23:12:23.537Z"
   },
   {
    "duration": 30,
    "start_time": "2022-01-03T23:12:24.575Z"
   },
   {
    "duration": 271,
    "start_time": "2022-01-03T23:12:24.608Z"
   },
   {
    "duration": -370,
    "start_time": "2022-01-03T23:12:25.251Z"
   },
   {
    "duration": -378,
    "start_time": "2022-01-03T23:12:25.260Z"
   },
   {
    "duration": 860,
    "start_time": "2022-01-03T23:32:57.713Z"
   },
   {
    "duration": 8807,
    "start_time": "2022-01-03T23:32:58.576Z"
   },
   {
    "duration": -434,
    "start_time": "2022-01-03T23:33:07.820Z"
   },
   {
    "duration": -455,
    "start_time": "2022-01-03T23:33:07.842Z"
   },
   {
    "duration": -468,
    "start_time": "2022-01-03T23:33:07.856Z"
   },
   {
    "duration": 6640,
    "start_time": "2022-01-03T23:33:36.581Z"
   },
   {
    "duration": 894,
    "start_time": "2022-01-03T23:35:30.245Z"
   },
   {
    "duration": 355,
    "start_time": "2022-01-03T23:35:31.143Z"
   },
   {
    "duration": -396,
    "start_time": "2022-01-03T23:35:31.897Z"
   },
   {
    "duration": -404,
    "start_time": "2022-01-03T23:35:31.906Z"
   },
   {
    "duration": -411,
    "start_time": "2022-01-03T23:35:31.915Z"
   },
   {
    "duration": 845,
    "start_time": "2022-01-03T23:36:21.781Z"
   },
   {
    "duration": 159,
    "start_time": "2022-01-03T23:36:22.629Z"
   },
   {
    "duration": 274,
    "start_time": "2022-01-03T23:36:22.791Z"
   },
   {
    "duration": -403,
    "start_time": "2022-01-03T23:36:23.471Z"
   },
   {
    "duration": -411,
    "start_time": "2022-01-03T23:36:23.480Z"
   },
   {
    "duration": 103,
    "start_time": "2022-01-03T23:39:49.628Z"
   },
   {
    "duration": 97,
    "start_time": "2022-01-03T23:40:27.685Z"
   },
   {
    "duration": 97,
    "start_time": "2022-01-03T23:41:00.044Z"
   },
   {
    "duration": 48,
    "start_time": "2022-01-03T23:44:41.312Z"
   },
   {
    "duration": 843,
    "start_time": "2022-01-03T23:44:57.402Z"
   },
   {
    "duration": 137,
    "start_time": "2022-01-03T23:44:58.268Z"
   },
   {
    "duration": 415,
    "start_time": "2022-01-03T23:44:58.408Z"
   },
   {
    "duration": -416,
    "start_time": "2022-01-03T23:44:59.242Z"
   },
   {
    "duration": -418,
    "start_time": "2022-01-03T23:44:59.246Z"
   },
   {
    "duration": 904,
    "start_time": "2022-01-03T23:46:18.136Z"
   },
   {
    "duration": 150,
    "start_time": "2022-01-03T23:46:19.043Z"
   },
   {
    "duration": 288,
    "start_time": "2022-01-03T23:46:19.197Z"
   },
   {
    "duration": -411,
    "start_time": "2022-01-03T23:46:19.898Z"
   },
   {
    "duration": -410,
    "start_time": "2022-01-03T23:46:19.899Z"
   },
   {
    "duration": 52,
    "start_time": "2022-01-03T23:48:37.049Z"
   },
   {
    "duration": 869,
    "start_time": "2022-01-03T23:49:00.661Z"
   },
   {
    "duration": 148,
    "start_time": "2022-01-03T23:49:01.532Z"
   },
   {
    "duration": 294,
    "start_time": "2022-01-03T23:49:01.683Z"
   },
   {
    "duration": -420,
    "start_time": "2022-01-03T23:49:02.399Z"
   },
   {
    "duration": -429,
    "start_time": "2022-01-03T23:49:02.409Z"
   },
   {
    "duration": 869,
    "start_time": "2022-01-03T23:50:31.348Z"
   },
   {
    "duration": 127,
    "start_time": "2022-01-03T23:50:32.219Z"
   },
   {
    "duration": 328,
    "start_time": "2022-01-03T23:50:32.349Z"
   },
   {
    "duration": -418,
    "start_time": "2022-01-03T23:50:33.098Z"
   },
   {
    "duration": -419,
    "start_time": "2022-01-03T23:50:33.100Z"
   },
   {
    "duration": 864,
    "start_time": "2022-01-03T23:51:21.114Z"
   },
   {
    "duration": 125,
    "start_time": "2022-01-03T23:51:21.981Z"
   },
   {
    "duration": 268,
    "start_time": "2022-01-03T23:51:22.109Z"
   },
   {
    "duration": -1482,
    "start_time": "2022-01-03T23:51:23.862Z"
   },
   {
    "duration": -1485,
    "start_time": "2022-01-03T23:51:23.866Z"
   },
   {
    "duration": 103,
    "start_time": "2022-01-03T23:52:04.183Z"
   },
   {
    "duration": 111,
    "start_time": "2022-01-03T23:53:25.326Z"
   },
   {
    "duration": 140,
    "start_time": "2022-01-03T23:55:50.964Z"
   },
   {
    "duration": 303,
    "start_time": "2022-01-03T23:57:38.769Z"
   },
   {
    "duration": 133,
    "start_time": "2022-01-03T23:57:59.233Z"
   },
   {
    "duration": 837,
    "start_time": "2022-01-03T23:59:46.704Z"
   },
   {
    "duration": 300,
    "start_time": "2022-01-03T23:59:47.567Z"
   },
   {
    "duration": 268,
    "start_time": "2022-01-03T23:59:47.870Z"
   },
   {
    "duration": -436,
    "start_time": "2022-01-03T23:59:48.577Z"
   },
   {
    "duration": -443,
    "start_time": "2022-01-03T23:59:48.586Z"
   },
   {
    "duration": 871,
    "start_time": "2022-01-04T00:01:48.215Z"
   },
   {
    "duration": 6,
    "start_time": "2022-01-04T00:01:49.089Z"
   },
   {
    "duration": -442,
    "start_time": "2022-01-04T00:01:49.539Z"
   },
   {
    "duration": -453,
    "start_time": "2022-01-04T00:01:49.552Z"
   },
   {
    "duration": -462,
    "start_time": "2022-01-04T00:01:49.563Z"
   },
   {
    "duration": 830,
    "start_time": "2022-01-04T00:02:09.093Z"
   },
   {
    "duration": 156,
    "start_time": "2022-01-04T00:02:09.925Z"
   },
   {
    "duration": 285,
    "start_time": "2022-01-04T00:02:10.084Z"
   },
   {
    "duration": -434,
    "start_time": "2022-01-04T00:02:10.806Z"
   },
   {
    "duration": -440,
    "start_time": "2022-01-04T00:02:10.814Z"
   },
   {
    "duration": 128,
    "start_time": "2022-01-04T00:04:47.927Z"
   },
   {
    "duration": 863,
    "start_time": "2022-01-04T00:08:09.319Z"
   },
   {
    "duration": 142,
    "start_time": "2022-01-04T00:08:10.185Z"
   },
   {
    "duration": 274,
    "start_time": "2022-01-04T00:08:10.330Z"
   },
   {
    "duration": -437,
    "start_time": "2022-01-04T00:08:11.044Z"
   },
   {
    "duration": -438,
    "start_time": "2022-01-04T00:08:11.046Z"
   },
   {
    "duration": 862,
    "start_time": "2022-01-04T00:22:39.046Z"
   },
   {
    "duration": 7426,
    "start_time": "2022-01-04T00:22:39.910Z"
   },
   {
    "duration": -467,
    "start_time": "2022-01-04T00:22:47.806Z"
   },
   {
    "duration": -469,
    "start_time": "2022-01-04T00:22:47.810Z"
   },
   {
    "duration": -473,
    "start_time": "2022-01-04T00:22:47.815Z"
   },
   {
    "duration": 132,
    "start_time": "2022-01-04T00:23:43.873Z"
   },
   {
    "duration": 850,
    "start_time": "2022-01-04T00:45:14.668Z"
   },
   {
    "duration": 150,
    "start_time": "2022-01-04T00:45:15.521Z"
   },
   {
    "duration": 330,
    "start_time": "2022-01-04T00:45:15.674Z"
   },
   {
    "duration": -480,
    "start_time": "2022-01-04T00:45:16.487Z"
   },
   {
    "duration": -483,
    "start_time": "2022-01-04T00:45:16.491Z"
   },
   {
    "duration": 107,
    "start_time": "2022-01-04T14:58:24.347Z"
   },
   {
    "duration": 360,
    "start_time": "2022-01-04T15:02:22.822Z"
   },
   {
    "duration": 1593,
    "start_time": "2022-01-04T15:26:51.267Z"
   },
   {
    "duration": 799,
    "start_time": "2022-01-04T15:34:04.325Z"
   },
   {
    "duration": 150,
    "start_time": "2022-01-04T15:34:05.127Z"
   },
   {
    "duration": 95,
    "start_time": "2022-01-04T15:34:05.280Z"
   },
   {
    "duration": -490,
    "start_time": "2022-01-04T15:34:05.868Z"
   },
   {
    "duration": -496,
    "start_time": "2022-01-04T15:34:05.875Z"
   },
   {
    "duration": 108,
    "start_time": "2022-01-04T15:41:07.357Z"
   },
   {
    "duration": 109,
    "start_time": "2022-01-04T15:41:26.315Z"
   },
   {
    "duration": 538,
    "start_time": "2022-01-04T15:41:36.883Z"
   },
   {
    "duration": 643,
    "start_time": "2022-01-04T15:42:56.050Z"
   },
   {
    "duration": 810,
    "start_time": "2022-01-04T15:44:59.221Z"
   },
   {
    "duration": 859,
    "start_time": "2022-01-04T15:45:21.793Z"
   },
   {
    "duration": 212,
    "start_time": "2022-01-04T15:45:22.655Z"
   },
   {
    "duration": 519,
    "start_time": "2022-01-04T15:45:22.870Z"
   },
   {
    "duration": -494,
    "start_time": "2022-01-04T15:45:23.886Z"
   },
   {
    "duration": -520,
    "start_time": "2022-01-04T15:45:23.913Z"
   },
   {
    "duration": 780,
    "start_time": "2022-01-04T15:47:04.518Z"
   },
   {
    "duration": 146,
    "start_time": "2022-01-04T15:47:05.324Z"
   },
   {
    "duration": 465,
    "start_time": "2022-01-04T15:47:05.474Z"
   },
   {
    "duration": -495,
    "start_time": "2022-01-04T15:47:06.437Z"
   },
   {
    "duration": -496,
    "start_time": "2022-01-04T15:47:06.440Z"
   },
   {
    "duration": 428,
    "start_time": "2022-01-04T15:51:59.229Z"
   },
   {
    "duration": 813,
    "start_time": "2022-01-04T15:52:02.833Z"
   },
   {
    "duration": 174,
    "start_time": "2022-01-04T15:52:03.649Z"
   },
   {
    "duration": 393,
    "start_time": "2022-01-04T15:52:03.826Z"
   },
   {
    "duration": -512,
    "start_time": "2022-01-04T15:52:04.734Z"
   },
   {
    "duration": -518,
    "start_time": "2022-01-04T15:52:04.741Z"
   },
   {
    "duration": 777,
    "start_time": "2022-01-04T15:53:36.583Z"
   },
   {
    "duration": 159,
    "start_time": "2022-01-04T15:53:37.364Z"
   },
   {
    "duration": 480,
    "start_time": "2022-01-04T15:53:37.526Z"
   },
   {
    "duration": -502,
    "start_time": "2022-01-04T15:53:38.511Z"
   },
   {
    "duration": -514,
    "start_time": "2022-01-04T15:53:38.525Z"
   },
   {
    "duration": 768,
    "start_time": "2022-01-04T15:57:38.978Z"
   },
   {
    "duration": 161,
    "start_time": "2022-01-04T15:57:39.749Z"
   },
   {
    "duration": 7887,
    "start_time": "2022-01-04T15:57:39.913Z"
   },
   {
    "duration": -541,
    "start_time": "2022-01-04T15:57:48.344Z"
   },
   {
    "duration": -546,
    "start_time": "2022-01-04T15:57:48.350Z"
   },
   {
    "duration": 756,
    "start_time": "2022-01-04T15:59:18.336Z"
   },
   {
    "duration": 173,
    "start_time": "2022-01-04T15:59:19.095Z"
   },
   {
    "duration": 821,
    "start_time": "2022-01-04T15:59:19.271Z"
   },
   {
    "duration": -505,
    "start_time": "2022-01-04T15:59:20.600Z"
   },
   {
    "duration": -506,
    "start_time": "2022-01-04T15:59:20.602Z"
   },
   {
    "duration": 793,
    "start_time": "2022-01-04T16:20:52.679Z"
   },
   {
    "duration": 160,
    "start_time": "2022-01-04T16:20:53.475Z"
   },
   {
    "duration": 803,
    "start_time": "2022-01-04T16:20:53.639Z"
   },
   {
    "duration": -552,
    "start_time": "2022-01-04T16:20:54.996Z"
   },
   {
    "duration": -560,
    "start_time": "2022-01-04T16:20:55.006Z"
   },
   {
    "duration": 839,
    "start_time": "2022-01-04T16:21:36.601Z"
   },
   {
    "duration": 156,
    "start_time": "2022-01-04T16:21:37.442Z"
   },
   {
    "duration": 852,
    "start_time": "2022-01-04T16:21:37.601Z"
   },
   {
    "duration": -550,
    "start_time": "2022-01-04T16:21:39.006Z"
   },
   {
    "duration": -553,
    "start_time": "2022-01-04T16:21:39.010Z"
   },
   {
    "duration": 763,
    "start_time": "2022-01-04T16:22:54.108Z"
   },
   {
    "duration": 165,
    "start_time": "2022-01-04T16:22:54.874Z"
   },
   {
    "duration": 785,
    "start_time": "2022-01-04T16:22:55.043Z"
   },
   {
    "duration": -550,
    "start_time": "2022-01-04T16:22:56.380Z"
   },
   {
    "duration": -553,
    "start_time": "2022-01-04T16:22:56.384Z"
   },
   {
    "duration": 568,
    "start_time": "2022-01-04T18:17:39.647Z"
   },
   {
    "duration": 1292,
    "start_time": "2022-01-04T18:20:20.720Z"
   },
   {
    "duration": 830,
    "start_time": "2022-01-04T18:20:23.201Z"
   },
   {
    "duration": 160,
    "start_time": "2022-01-04T18:20:24.034Z"
   },
   {
    "duration": 801,
    "start_time": "2022-01-04T18:20:24.197Z"
   },
   {
    "duration": -713,
    "start_time": "2022-01-04T18:20:25.713Z"
   },
   {
    "duration": -720,
    "start_time": "2022-01-04T18:20:25.722Z"
   },
   {
    "duration": 832,
    "start_time": "2022-01-04T18:22:34.807Z"
   },
   {
    "duration": 172,
    "start_time": "2022-01-04T18:22:35.643Z"
   },
   {
    "duration": 835,
    "start_time": "2022-01-04T18:22:35.825Z"
   },
   {
    "duration": -699,
    "start_time": "2022-01-04T18:22:37.362Z"
   },
   {
    "duration": -706,
    "start_time": "2022-01-04T18:22:37.371Z"
   },
   {
    "duration": 801,
    "start_time": "2022-01-04T18:40:00.964Z"
   },
   {
    "duration": 177,
    "start_time": "2022-01-04T18:40:01.768Z"
   },
   {
    "duration": 798,
    "start_time": "2022-01-04T18:40:01.949Z"
   },
   {
    "duration": -744,
    "start_time": "2022-01-04T18:40:03.495Z"
   },
   {
    "duration": -752,
    "start_time": "2022-01-04T18:40:03.505Z"
   },
   {
    "duration": 875,
    "start_time": "2022-01-04T18:40:34.217Z"
   },
   {
    "duration": 165,
    "start_time": "2022-01-04T18:40:35.095Z"
   },
   {
    "duration": 653,
    "start_time": "2022-01-04T18:40:35.264Z"
   },
   {
    "duration": -720,
    "start_time": "2022-01-04T18:40:36.641Z"
   },
   {
    "duration": -721,
    "start_time": "2022-01-04T18:40:36.643Z"
   },
   {
    "duration": 825,
    "start_time": "2022-01-04T18:48:05.569Z"
   },
   {
    "duration": 169,
    "start_time": "2022-01-04T18:48:06.396Z"
   },
   {
    "duration": 809,
    "start_time": "2022-01-04T18:48:06.568Z"
   },
   {
    "duration": -736,
    "start_time": "2022-01-04T18:48:08.116Z"
   },
   {
    "duration": -738,
    "start_time": "2022-01-04T18:48:08.119Z"
   },
   {
    "duration": 805,
    "start_time": "2022-01-04T19:07:44.103Z"
   },
   {
    "duration": 165,
    "start_time": "2022-01-04T19:07:44.923Z"
   },
   {
    "duration": 466,
    "start_time": "2022-01-04T19:07:45.091Z"
   },
   {
    "duration": -740,
    "start_time": "2022-01-04T19:07:46.300Z"
   },
   {
    "duration": -749,
    "start_time": "2022-01-04T19:07:46.312Z"
   },
   {
    "duration": 935,
    "start_time": "2022-01-04T19:08:54.525Z"
   },
   {
    "duration": 214,
    "start_time": "2022-01-04T19:08:55.464Z"
   },
   {
    "duration": 509,
    "start_time": "2022-01-04T19:08:55.682Z"
   },
   {
    "duration": -755,
    "start_time": "2022-01-04T19:08:56.949Z"
   },
   {
    "duration": -758,
    "start_time": "2022-01-04T19:08:56.954Z"
   },
   {
    "duration": 841,
    "start_time": "2022-01-04T19:09:22.404Z"
   },
   {
    "duration": 161,
    "start_time": "2022-01-04T19:09:23.248Z"
   },
   {
    "duration": 416,
    "start_time": "2022-01-04T19:09:23.412Z"
   },
   {
    "duration": -770,
    "start_time": "2022-01-04T19:09:24.600Z"
   },
   {
    "duration": -773,
    "start_time": "2022-01-04T19:09:24.605Z"
   },
   {
    "duration": 794,
    "start_time": "2022-01-04T19:09:35.862Z"
   },
   {
    "duration": 166,
    "start_time": "2022-01-04T19:09:36.659Z"
   },
   {
    "duration": 415,
    "start_time": "2022-01-04T19:09:36.828Z"
   },
   {
    "duration": -758,
    "start_time": "2022-01-04T19:09:38.003Z"
   },
   {
    "duration": -758,
    "start_time": "2022-01-04T19:09:38.005Z"
   },
   {
    "duration": 842,
    "start_time": "2022-01-04T19:10:06.117Z"
   },
   {
    "duration": 182,
    "start_time": "2022-01-04T19:10:06.962Z"
   },
   {
    "duration": 730,
    "start_time": "2022-01-04T19:10:07.148Z"
   },
   {
    "duration": -745,
    "start_time": "2022-01-04T19:10:08.626Z"
   },
   {
    "duration": -749,
    "start_time": "2022-01-04T19:10:08.632Z"
   },
   {
    "duration": 929,
    "start_time": "2022-01-04T19:11:44.819Z"
   },
   {
    "duration": 165,
    "start_time": "2022-01-04T19:11:45.751Z"
   },
   {
    "duration": 677,
    "start_time": "2022-01-04T19:11:45.923Z"
   },
   {
    "duration": -758,
    "start_time": "2022-01-04T19:11:47.362Z"
   },
   {
    "duration": -758,
    "start_time": "2022-01-04T19:11:47.364Z"
   },
   {
    "duration": 1036,
    "start_time": "2022-01-04T19:18:11.715Z"
   },
   {
    "duration": 180,
    "start_time": "2022-01-04T19:18:12.754Z"
   },
   {
    "duration": 779,
    "start_time": "2022-01-04T19:18:12.937Z"
   },
   {
    "duration": -853,
    "start_time": "2022-01-04T19:18:14.572Z"
   },
   {
    "duration": -853,
    "start_time": "2022-01-04T19:18:14.574Z"
   },
   {
    "duration": 841,
    "start_time": "2022-01-04T19:23:42.216Z"
   },
   {
    "duration": 203,
    "start_time": "2022-01-04T19:23:43.060Z"
   },
   {
    "duration": 742,
    "start_time": "2022-01-04T19:23:43.266Z"
   },
   {
    "duration": -757,
    "start_time": "2022-01-04T19:23:44.768Z"
   },
   {
    "duration": -758,
    "start_time": "2022-01-04T19:23:44.770Z"
   },
   {
    "duration": 111,
    "start_time": "2022-01-04T19:24:25.059Z"
   },
   {
    "duration": 495,
    "start_time": "2022-01-04T19:26:23.001Z"
   },
   {
    "duration": 817,
    "start_time": "2022-01-04T19:26:30.620Z"
   },
   {
    "duration": 159,
    "start_time": "2022-01-04T19:26:31.441Z"
   },
   {
    "duration": 743,
    "start_time": "2022-01-04T19:26:31.603Z"
   },
   {
    "duration": -778,
    "start_time": "2022-01-04T19:26:33.127Z"
   },
   {
    "duration": -779,
    "start_time": "2022-01-04T19:26:33.131Z"
   },
   {
    "duration": 822,
    "start_time": "2022-01-04T19:27:06.139Z"
   },
   {
    "duration": 192,
    "start_time": "2022-01-04T19:27:06.963Z"
   },
   {
    "duration": 754,
    "start_time": "2022-01-04T19:27:07.158Z"
   },
   {
    "duration": -780,
    "start_time": "2022-01-04T19:27:08.695Z"
   },
   {
    "duration": -780,
    "start_time": "2022-01-04T19:27:08.697Z"
   },
   {
    "duration": 836,
    "start_time": "2022-01-04T19:27:45.098Z"
   },
   {
    "duration": 154,
    "start_time": "2022-01-04T19:27:45.937Z"
   },
   {
    "duration": 140,
    "start_time": "2022-01-04T19:27:46.094Z"
   },
   {
    "duration": -764,
    "start_time": "2022-01-04T19:27:47.001Z"
   },
   {
    "duration": -770,
    "start_time": "2022-01-04T19:27:47.009Z"
   },
   {
    "duration": 767,
    "start_time": "2022-01-04T19:31:06.926Z"
   },
   {
    "duration": 843,
    "start_time": "2022-01-04T19:37:08.200Z"
   },
   {
    "duration": 176,
    "start_time": "2022-01-04T19:37:09.047Z"
   },
   {
    "duration": 843,
    "start_time": "2022-01-04T19:37:09.227Z"
   },
   {
    "duration": -795,
    "start_time": "2022-01-04T19:37:10.867Z"
   },
   {
    "duration": -795,
    "start_time": "2022-01-04T19:37:10.869Z"
   },
   {
    "duration": 526,
    "start_time": "2022-01-04T19:41:59.705Z"
   },
   {
    "duration": 875,
    "start_time": "2022-01-04T19:42:27.510Z"
   },
   {
    "duration": 183,
    "start_time": "2022-01-04T19:42:28.388Z"
   },
   {
    "duration": 938,
    "start_time": "2022-01-04T19:42:28.574Z"
   },
   {
    "duration": -1306,
    "start_time": "2022-01-04T19:42:30.820Z"
   },
   {
    "duration": -1307,
    "start_time": "2022-01-04T19:42:30.823Z"
   },
   {
    "duration": 973,
    "start_time": "2022-01-04T19:45:34.562Z"
   },
   {
    "duration": 153,
    "start_time": "2022-01-04T19:45:35.538Z"
   },
   {
    "duration": 799,
    "start_time": "2022-01-04T19:45:35.695Z"
   },
   {
    "duration": -798,
    "start_time": "2022-01-04T19:45:37.295Z"
   },
   {
    "duration": -801,
    "start_time": "2022-01-04T19:45:37.300Z"
   },
   {
    "duration": 975,
    "start_time": "2022-01-04T19:48:43.263Z"
   },
   {
    "duration": 165,
    "start_time": "2022-01-04T19:48:44.242Z"
   },
   {
    "duration": 999,
    "start_time": "2022-01-04T19:48:44.423Z"
   },
   {
    "duration": -799,
    "start_time": "2022-01-04T19:48:46.225Z"
   },
   {
    "duration": -800,
    "start_time": "2022-01-04T19:48:46.227Z"
   },
   {
    "duration": 780,
    "start_time": "2022-01-04T19:50:45.524Z"
   },
   {
    "duration": 163,
    "start_time": "2022-01-04T19:50:46.306Z"
   },
   {
    "duration": 707,
    "start_time": "2022-01-04T19:50:46.473Z"
   },
   {
    "duration": -806,
    "start_time": "2022-01-04T19:50:47.989Z"
   },
   {
    "duration": -813,
    "start_time": "2022-01-04T19:50:47.997Z"
   },
   {
    "duration": 901,
    "start_time": "2022-01-04T20:05:27.963Z"
   },
   {
    "duration": 168,
    "start_time": "2022-01-04T20:05:28.866Z"
   },
   {
    "duration": 630,
    "start_time": "2022-01-04T20:05:29.037Z"
   },
   {
    "duration": -870,
    "start_time": "2022-01-04T20:05:30.540Z"
   },
   {
    "duration": -874,
    "start_time": "2022-01-04T20:05:30.546Z"
   },
   {
    "duration": 734,
    "start_time": "2022-01-04T20:06:19.841Z"
   },
   {
    "duration": 165,
    "start_time": "2022-01-04T20:06:20.578Z"
   },
   {
    "duration": 1985,
    "start_time": "2022-01-04T20:06:20.747Z"
   },
   {
    "duration": -839,
    "start_time": "2022-01-04T20:06:23.574Z"
   },
   {
    "duration": -841,
    "start_time": "2022-01-04T20:06:23.577Z"
   },
   {
    "duration": 770,
    "start_time": "2022-01-04T20:11:31.388Z"
   },
   {
    "duration": 155,
    "start_time": "2022-01-04T20:11:32.160Z"
   },
   {
    "duration": 760,
    "start_time": "2022-01-04T20:11:32.317Z"
   },
   {
    "duration": -835,
    "start_time": "2022-01-04T20:11:33.914Z"
   },
   {
    "duration": -835,
    "start_time": "2022-01-04T20:11:33.916Z"
   },
   {
    "duration": 773,
    "start_time": "2022-01-04T20:13:45.177Z"
   },
   {
    "duration": 160,
    "start_time": "2022-01-04T20:13:45.953Z"
   },
   {
    "duration": 763,
    "start_time": "2022-01-04T20:13:46.116Z"
   },
   {
    "duration": -828,
    "start_time": "2022-01-04T20:13:47.710Z"
   },
   {
    "duration": -843,
    "start_time": "2022-01-04T20:13:47.727Z"
   },
   {
    "duration": 748,
    "start_time": "2022-01-04T20:34:32.362Z"
   },
   {
    "duration": 156,
    "start_time": "2022-01-04T20:34:33.124Z"
   },
   {
    "duration": 810,
    "start_time": "2022-01-04T20:34:33.283Z"
   },
   {
    "duration": -862,
    "start_time": "2022-01-04T20:34:34.958Z"
   },
   {
    "duration": -862,
    "start_time": "2022-01-04T20:34:34.960Z"
   },
   {
    "duration": 772,
    "start_time": "2022-01-04T20:41:56.809Z"
   },
   {
    "duration": 169,
    "start_time": "2022-01-04T20:41:57.583Z"
   },
   {
    "duration": 868,
    "start_time": "2022-01-04T20:41:57.754Z"
   },
   {
    "duration": -878,
    "start_time": "2022-01-04T20:41:59.503Z"
   },
   {
    "duration": -878,
    "start_time": "2022-01-04T20:41:59.505Z"
   },
   {
    "duration": 510,
    "start_time": "2022-01-04T20:43:02.012Z"
   },
   {
    "duration": 744,
    "start_time": "2022-01-04T20:45:33.596Z"
   },
   {
    "duration": 155,
    "start_time": "2022-01-04T20:45:34.342Z"
   },
   {
    "duration": 818,
    "start_time": "2022-01-04T20:45:34.500Z"
   },
   {
    "duration": -861,
    "start_time": "2022-01-04T20:45:36.182Z"
   },
   {
    "duration": -874,
    "start_time": "2022-01-04T20:45:36.197Z"
   },
   {
    "duration": 733,
    "start_time": "2022-01-04T20:46:45.763Z"
   },
   {
    "duration": 156,
    "start_time": "2022-01-04T20:46:46.498Z"
   },
   {
    "duration": 838,
    "start_time": "2022-01-04T20:46:46.657Z"
   },
   {
    "duration": -870,
    "start_time": "2022-01-04T20:46:48.369Z"
   },
   {
    "duration": -871,
    "start_time": "2022-01-04T20:46:48.371Z"
   },
   {
    "duration": 744,
    "start_time": "2022-01-04T20:56:46.022Z"
   },
   {
    "duration": 170,
    "start_time": "2022-01-04T20:56:46.768Z"
   },
   {
    "duration": 115,
    "start_time": "2022-01-04T20:56:46.943Z"
   },
   {
    "duration": -882,
    "start_time": "2022-01-04T20:56:47.943Z"
   },
   {
    "duration": -887,
    "start_time": "2022-01-04T20:56:47.949Z"
   },
   {
    "duration": 759,
    "start_time": "2022-01-04T20:57:41.901Z"
   },
   {
    "duration": 160,
    "start_time": "2022-01-04T20:57:42.663Z"
   },
   {
    "duration": 933,
    "start_time": "2022-01-04T20:57:42.826Z"
   },
   {
    "duration": -886,
    "start_time": "2022-01-04T20:57:44.647Z"
   },
   {
    "duration": -894,
    "start_time": "2022-01-04T20:57:44.657Z"
   },
   {
    "duration": 797,
    "start_time": "2022-01-04T21:04:23.365Z"
   },
   {
    "duration": 162,
    "start_time": "2022-01-04T21:04:24.165Z"
   },
   {
    "duration": 916,
    "start_time": "2022-01-04T21:04:24.330Z"
   },
   {
    "duration": -898,
    "start_time": "2022-01-04T21:04:26.146Z"
   },
   {
    "duration": -898,
    "start_time": "2022-01-04T21:04:26.148Z"
   },
   {
    "duration": 789,
    "start_time": "2022-01-04T21:14:47.202Z"
   },
   {
    "duration": 165,
    "start_time": "2022-01-04T21:14:47.994Z"
   },
   {
    "duration": 612,
    "start_time": "2022-01-04T21:14:48.162Z"
   },
   {
    "duration": 302,
    "start_time": "2022-01-04T21:14:48.776Z"
   },
   {
    "duration": -914,
    "start_time": "2022-01-04T21:14:49.994Z"
   },
   {
    "duration": 757,
    "start_time": "2022-01-04T21:22:36.167Z"
   },
   {
    "duration": 154,
    "start_time": "2022-01-04T21:22:36.927Z"
   },
   {
    "duration": 648,
    "start_time": "2022-01-04T21:22:37.084Z"
   },
   {
    "duration": 297,
    "start_time": "2022-01-04T21:22:37.735Z"
   },
   {
    "duration": -912,
    "start_time": "2022-01-04T21:22:38.946Z"
   },
   {
    "duration": 1193,
    "start_time": "2022-01-04T21:24:42.732Z"
   },
   {
    "duration": 153,
    "start_time": "2022-01-04T21:24:43.927Z"
   },
   {
    "duration": 767,
    "start_time": "2022-01-04T21:24:44.083Z"
   },
   {
    "duration": 490,
    "start_time": "2022-01-04T21:24:44.853Z"
   },
   {
    "duration": -912,
    "start_time": "2022-01-04T21:24:46.258Z"
   },
   {
    "duration": 764,
    "start_time": "2022-01-04T21:26:28.170Z"
   },
   {
    "duration": 142,
    "start_time": "2022-01-04T21:26:28.936Z"
   },
   {
    "duration": 681,
    "start_time": "2022-01-04T21:26:29.081Z"
   },
   {
    "duration": 280,
    "start_time": "2022-01-04T21:26:29.765Z"
   },
   {
    "duration": -921,
    "start_time": "2022-01-04T21:26:30.969Z"
   },
   {
    "duration": 790,
    "start_time": "2022-01-04T21:28:56.368Z"
   },
   {
    "duration": 168,
    "start_time": "2022-01-04T21:28:57.160Z"
   },
   {
    "duration": 646,
    "start_time": "2022-01-04T21:28:57.331Z"
   },
   {
    "duration": 290,
    "start_time": "2022-01-04T21:28:57.980Z"
   },
   {
    "duration": -928,
    "start_time": "2022-01-04T21:28:59.200Z"
   },
   {
    "duration": 1053,
    "start_time": "2022-01-04T21:41:14.714Z"
   },
   {
    "duration": 166,
    "start_time": "2022-01-04T21:41:15.770Z"
   },
   {
    "duration": 220,
    "start_time": "2022-01-04T21:41:15.939Z"
   },
   {
    "duration": -936,
    "start_time": "2022-01-04T21:41:17.097Z"
   },
   {
    "duration": -943,
    "start_time": "2022-01-04T21:41:17.106Z"
   },
   {
    "duration": 835,
    "start_time": "2022-01-04T21:41:38.129Z"
   },
   {
    "duration": 183,
    "start_time": "2022-01-04T21:41:38.968Z"
   },
   {
    "duration": 752,
    "start_time": "2022-01-04T21:41:39.154Z"
   },
   {
    "duration": 309,
    "start_time": "2022-01-04T21:41:39.909Z"
   },
   {
    "duration": -931,
    "start_time": "2022-01-04T21:41:41.151Z"
   },
   {
    "duration": 751,
    "start_time": "2022-01-04T22:07:51.272Z"
   },
   {
    "duration": 153,
    "start_time": "2022-01-04T22:07:52.026Z"
   },
   {
    "duration": 102,
    "start_time": "2022-01-04T22:07:52.183Z"
   },
   {
    "duration": -965,
    "start_time": "2022-01-04T22:07:53.253Z"
   },
   {
    "duration": -980,
    "start_time": "2022-01-04T22:07:53.269Z"
   },
   {
    "duration": 967,
    "start_time": "2022-01-04T22:08:06.073Z"
   },
   {
    "duration": 161,
    "start_time": "2022-01-04T22:08:07.043Z"
   },
   {
    "duration": 134,
    "start_time": "2022-01-04T22:08:07.207Z"
   },
   {
    "duration": -972,
    "start_time": "2022-01-04T22:08:08.316Z"
   },
   {
    "duration": -979,
    "start_time": "2022-01-04T22:08:08.325Z"
   },
   {
    "duration": 762,
    "start_time": "2022-01-04T22:08:48.280Z"
   },
   {
    "duration": 156,
    "start_time": "2022-01-04T22:08:49.045Z"
   },
   {
    "duration": 722,
    "start_time": "2022-01-04T22:08:49.204Z"
   },
   {
    "duration": 327,
    "start_time": "2022-01-04T22:08:49.928Z"
   },
   {
    "duration": -970,
    "start_time": "2022-01-04T22:08:51.229Z"
   },
   {
    "duration": 747,
    "start_time": "2022-01-04T22:12:20.341Z"
   },
   {
    "duration": 164,
    "start_time": "2022-01-04T22:12:21.090Z"
   },
   {
    "duration": 718,
    "start_time": "2022-01-04T22:12:21.257Z"
   },
   {
    "duration": 317,
    "start_time": "2022-01-04T22:12:21.978Z"
   },
   {
    "duration": -977,
    "start_time": "2022-01-04T22:12:23.275Z"
   },
   {
    "duration": 741,
    "start_time": "2022-01-04T22:27:59.309Z"
   },
   {
    "duration": 159,
    "start_time": "2022-01-04T22:28:00.053Z"
   },
   {
    "duration": 469,
    "start_time": "2022-01-04T22:28:00.215Z"
   },
   {
    "duration": -1002,
    "start_time": "2022-01-04T22:28:01.689Z"
   },
   {
    "duration": -1007,
    "start_time": "2022-01-04T22:28:01.695Z"
   },
   {
    "duration": 811,
    "start_time": "2022-01-04T22:28:46.260Z"
   },
   {
    "duration": 170,
    "start_time": "2022-01-04T22:28:47.074Z"
   },
   {
    "duration": 510,
    "start_time": "2022-01-04T22:28:47.247Z"
   },
   {
    "duration": -991,
    "start_time": "2022-01-04T22:28:48.752Z"
   },
   {
    "duration": -991,
    "start_time": "2022-01-04T22:28:48.754Z"
   },
   {
    "duration": 878,
    "start_time": "2022-01-04T22:29:08.717Z"
   },
   {
    "duration": 172,
    "start_time": "2022-01-04T22:29:09.598Z"
   },
   {
    "duration": 776,
    "start_time": "2022-01-04T22:29:09.773Z"
   },
   {
    "duration": 309,
    "start_time": "2022-01-04T22:29:10.552Z"
   },
   {
    "duration": -997,
    "start_time": "2022-01-04T22:29:11.860Z"
   },
   {
    "duration": 361,
    "start_time": "2022-01-04T22:39:38.631Z"
   },
   {
    "duration": 2495,
    "start_time": "2022-01-04T22:40:04.650Z"
   },
   {
    "duration": 180,
    "start_time": "2022-01-04T22:40:07.148Z"
   },
   {
    "duration": 746,
    "start_time": "2022-01-04T22:40:07.331Z"
   },
   {
    "duration": 2274,
    "start_time": "2022-01-04T22:51:14.398Z"
   },
   {
    "duration": 177,
    "start_time": "2022-01-04T22:51:16.675Z"
   },
   {
    "duration": 770,
    "start_time": "2022-01-04T22:51:16.855Z"
   },
   {
    "duration": 96,
    "start_time": "2022-01-04T22:51:17.628Z"
   },
   {
    "duration": -1007,
    "start_time": "2022-01-04T22:51:18.734Z"
   },
   {
    "duration": -1009,
    "start_time": "2022-01-04T22:51:18.737Z"
   },
   {
    "duration": 752,
    "start_time": "2022-01-04T22:51:51.891Z"
   },
   {
    "duration": 155,
    "start_time": "2022-01-04T22:51:52.646Z"
   },
   {
    "duration": 671,
    "start_time": "2022-01-04T22:51:52.804Z"
   },
   {
    "duration": 110,
    "start_time": "2022-01-04T22:51:53.477Z"
   },
   {
    "duration": -1011,
    "start_time": "2022-01-04T22:51:54.601Z"
   },
   {
    "duration": -1010,
    "start_time": "2022-01-04T22:51:54.602Z"
   },
   {
    "duration": 763,
    "start_time": "2022-01-04T22:52:17.331Z"
   },
   {
    "duration": 172,
    "start_time": "2022-01-04T22:52:18.097Z"
   },
   {
    "duration": 702,
    "start_time": "2022-01-04T22:52:18.273Z"
   },
   {
    "duration": 2386,
    "start_time": "2022-01-04T22:52:35.556Z"
   },
   {
    "duration": 167,
    "start_time": "2022-01-04T22:52:37.945Z"
   },
   {
    "duration": 731,
    "start_time": "2022-01-04T22:52:38.115Z"
   },
   {
    "duration": 2232,
    "start_time": "2022-01-04T22:54:45.929Z"
   },
   {
    "duration": 179,
    "start_time": "2022-01-04T22:54:48.164Z"
   },
   {
    "duration": 2240,
    "start_time": "2022-01-04T22:55:16.719Z"
   },
   {
    "duration": 174,
    "start_time": "2022-01-04T22:55:18.962Z"
   },
   {
    "duration": 2251,
    "start_time": "2022-01-04T22:55:38.592Z"
   },
   {
    "duration": 179,
    "start_time": "2022-01-04T22:55:40.846Z"
   },
   {
    "duration": 2250,
    "start_time": "2022-01-04T22:56:25.181Z"
   },
   {
    "duration": 168,
    "start_time": "2022-01-04T22:56:27.434Z"
   },
   {
    "duration": 95,
    "start_time": "2022-01-04T22:56:27.605Z"
   },
   {
    "duration": -1037,
    "start_time": "2022-01-04T22:56:28.740Z"
   },
   {
    "duration": -1038,
    "start_time": "2022-01-04T22:56:28.742Z"
   },
   {
    "duration": 777,
    "start_time": "2022-01-04T22:57:28.980Z"
   },
   {
    "duration": 155,
    "start_time": "2022-01-04T22:57:29.760Z"
   },
   {
    "duration": 728,
    "start_time": "2022-01-04T22:57:29.924Z"
   },
   {
    "duration": 4,
    "start_time": "2022-01-04T22:57:30.654Z"
   },
   {
    "duration": 388,
    "start_time": "2022-01-04T22:57:30.660Z"
   },
   {
    "duration": -1034,
    "start_time": "2022-01-04T22:57:32.084Z"
   },
   {
    "duration": 870,
    "start_time": "2022-01-04T23:00:14.389Z"
   },
   {
    "duration": 168,
    "start_time": "2022-01-04T23:00:15.261Z"
   },
   {
    "duration": 798,
    "start_time": "2022-01-04T23:00:15.432Z"
   },
   {
    "duration": -1044,
    "start_time": "2022-01-04T23:00:17.276Z"
   },
   {
    "duration": -1084,
    "start_time": "2022-01-04T23:00:17.318Z"
   },
   {
    "duration": -1113,
    "start_time": "2022-01-04T23:00:17.348Z"
   },
   {
    "duration": 777,
    "start_time": "2022-01-04T23:01:03.005Z"
   },
   {
    "duration": 167,
    "start_time": "2022-01-04T23:01:03.785Z"
   },
   {
    "duration": 786,
    "start_time": "2022-01-04T23:01:03.955Z"
   },
   {
    "duration": -1035,
    "start_time": "2022-01-04T23:01:05.779Z"
   },
   {
    "duration": -1045,
    "start_time": "2022-01-04T23:01:05.790Z"
   },
   {
    "duration": -1047,
    "start_time": "2022-01-04T23:01:05.793Z"
   },
   {
    "duration": 807,
    "start_time": "2022-01-04T23:19:11.899Z"
   },
   {
    "duration": 148,
    "start_time": "2022-01-04T23:19:12.723Z"
   },
   {
    "duration": 778,
    "start_time": "2022-01-04T23:19:12.874Z"
   },
   {
    "duration": -1072,
    "start_time": "2022-01-04T23:19:14.726Z"
   },
   {
    "duration": -1072,
    "start_time": "2022-01-04T23:19:14.728Z"
   },
   {
    "duration": -1073,
    "start_time": "2022-01-04T23:19:14.730Z"
   },
   {
    "duration": 831,
    "start_time": "2022-01-04T23:21:24.954Z"
   },
   {
    "duration": 159,
    "start_time": "2022-01-04T23:21:25.788Z"
   },
   {
    "duration": 878,
    "start_time": "2022-01-04T23:21:25.951Z"
   },
   {
    "duration": 3,
    "start_time": "2022-01-04T23:21:26.831Z"
   },
   {
    "duration": 282,
    "start_time": "2022-01-04T23:21:26.837Z"
   },
   {
    "duration": -1046,
    "start_time": "2022-01-04T23:21:28.168Z"
   },
   {
    "duration": 793,
    "start_time": "2022-01-04T23:22:55.272Z"
   },
   {
    "duration": 146,
    "start_time": "2022-01-04T23:22:56.068Z"
   },
   {
    "duration": 7371,
    "start_time": "2022-01-04T23:22:56.224Z"
   },
   {
    "duration": -1192,
    "start_time": "2022-01-04T23:23:04.790Z"
   },
   {
    "duration": -1191,
    "start_time": "2022-01-04T23:23:04.791Z"
   },
   {
    "duration": -1192,
    "start_time": "2022-01-04T23:23:04.793Z"
   },
   {
    "duration": 766,
    "start_time": "2022-01-04T23:24:12.326Z"
   },
   {
    "duration": 187,
    "start_time": "2022-01-04T23:24:13.095Z"
   },
   {
    "duration": 7516,
    "start_time": "2022-01-04T23:24:13.285Z"
   },
   {
    "duration": -1071,
    "start_time": "2022-01-04T23:24:21.875Z"
   },
   {
    "duration": -1070,
    "start_time": "2022-01-04T23:24:21.876Z"
   },
   {
    "duration": -1070,
    "start_time": "2022-01-04T23:24:21.878Z"
   },
   {
    "duration": 770,
    "start_time": "2022-01-04T23:26:19.156Z"
   },
   {
    "duration": 151,
    "start_time": "2022-01-04T23:26:19.929Z"
   },
   {
    "duration": 589,
    "start_time": "2022-01-04T23:26:20.083Z"
   },
   {
    "duration": -1069,
    "start_time": "2022-01-04T23:26:21.744Z"
   },
   {
    "duration": -1069,
    "start_time": "2022-01-04T23:26:21.745Z"
   },
   {
    "duration": -1069,
    "start_time": "2022-01-04T23:26:21.747Z"
   },
   {
    "duration": 131,
    "start_time": "2022-01-04T23:32:06.227Z"
   },
   {
    "duration": 131,
    "start_time": "2022-01-04T23:32:33.474Z"
   },
   {
    "duration": 787,
    "start_time": "2022-01-04T23:33:04.291Z"
   },
   {
    "duration": 164,
    "start_time": "2022-01-04T23:33:05.081Z"
   },
   {
    "duration": 102,
    "start_time": "2022-01-04T23:33:05.248Z"
   },
   {
    "duration": -1060,
    "start_time": "2022-01-04T23:33:06.413Z"
   },
   {
    "duration": -1067,
    "start_time": "2022-01-04T23:33:06.421Z"
   },
   {
    "duration": -1072,
    "start_time": "2022-01-04T23:33:06.428Z"
   },
   {
    "duration": 760,
    "start_time": "2022-01-04T23:34:03.482Z"
   },
   {
    "duration": 150,
    "start_time": "2022-01-04T23:34:04.245Z"
   },
   {
    "duration": 120,
    "start_time": "2022-01-04T23:34:04.398Z"
   },
   {
    "duration": -1074,
    "start_time": "2022-01-04T23:34:05.594Z"
   },
   {
    "duration": -1081,
    "start_time": "2022-01-04T23:34:05.602Z"
   },
   {
    "duration": -1081,
    "start_time": "2022-01-04T23:34:05.604Z"
   },
   {
    "duration": 760,
    "start_time": "2022-01-04T23:35:26.496Z"
   },
   {
    "duration": 164,
    "start_time": "2022-01-04T23:35:27.259Z"
   },
   {
    "duration": 100,
    "start_time": "2022-01-04T23:35:27.426Z"
   },
   {
    "duration": -1066,
    "start_time": "2022-01-04T23:35:28.595Z"
   },
   {
    "duration": -1069,
    "start_time": "2022-01-04T23:35:28.599Z"
   },
   {
    "duration": -1077,
    "start_time": "2022-01-04T23:35:28.609Z"
   },
   {
    "duration": 745,
    "start_time": "2022-01-04T23:37:02.343Z"
   },
   {
    "duration": 169,
    "start_time": "2022-01-04T23:37:03.090Z"
   },
   {
    "duration": 423,
    "start_time": "2022-01-04T23:37:03.262Z"
   },
   {
    "duration": -1125,
    "start_time": "2022-01-04T23:37:04.813Z"
   },
   {
    "duration": -1126,
    "start_time": "2022-01-04T23:37:04.816Z"
   },
   {
    "duration": -1128,
    "start_time": "2022-01-04T23:37:04.820Z"
   },
   {
    "duration": 737,
    "start_time": "2022-01-04T23:37:43.493Z"
   },
   {
    "duration": 145,
    "start_time": "2022-01-04T23:37:44.233Z"
   },
   {
    "duration": 91,
    "start_time": "2022-01-04T23:37:44.382Z"
   },
   {
    "duration": -1074,
    "start_time": "2022-01-04T23:37:45.550Z"
   },
   {
    "duration": -1080,
    "start_time": "2022-01-04T23:37:45.557Z"
   },
   {
    "duration": -1080,
    "start_time": "2022-01-04T23:37:45.559Z"
   },
   {
    "duration": 791,
    "start_time": "2022-01-04T23:39:20.956Z"
   },
   {
    "duration": 161,
    "start_time": "2022-01-04T23:39:21.750Z"
   },
   {
    "duration": 109,
    "start_time": "2022-01-04T23:39:21.923Z"
   },
   {
    "duration": -1070,
    "start_time": "2022-01-04T23:39:23.105Z"
   },
   {
    "duration": -1079,
    "start_time": "2022-01-04T23:39:23.116Z"
   },
   {
    "duration": -1081,
    "start_time": "2022-01-04T23:39:23.120Z"
   },
   {
    "duration": 758,
    "start_time": "2022-01-04T23:39:58.619Z"
   },
   {
    "duration": 158,
    "start_time": "2022-01-04T23:39:59.380Z"
   },
   {
    "duration": 435,
    "start_time": "2022-01-04T23:39:59.541Z"
   },
   {
    "duration": -1113,
    "start_time": "2022-01-04T23:40:01.092Z"
   },
   {
    "duration": -1117,
    "start_time": "2022-01-04T23:40:01.097Z"
   },
   {
    "duration": -1128,
    "start_time": "2022-01-04T23:40:01.110Z"
   },
   {
    "duration": 821,
    "start_time": "2022-01-04T23:40:33.202Z"
   },
   {
    "duration": 162,
    "start_time": "2022-01-04T23:40:34.026Z"
   },
   {
    "duration": 847,
    "start_time": "2022-01-04T23:40:34.192Z"
   },
   {
    "duration": 4,
    "start_time": "2022-01-04T23:40:35.041Z"
   },
   {
    "duration": 279,
    "start_time": "2022-01-04T23:40:35.047Z"
   },
   {
    "duration": -1082,
    "start_time": "2022-01-04T23:40:36.411Z"
   },
   {
    "duration": 778,
    "start_time": "2022-01-04T23:41:59.168Z"
   },
   {
    "duration": 165,
    "start_time": "2022-01-04T23:41:59.948Z"
   },
   {
    "duration": 835,
    "start_time": "2022-01-04T23:42:00.123Z"
   },
   {
    "duration": 3,
    "start_time": "2022-01-04T23:42:00.961Z"
   },
   {
    "duration": 330,
    "start_time": "2022-01-04T23:42:00.967Z"
   },
   {
    "duration": -1083,
    "start_time": "2022-01-04T23:42:02.383Z"
   },
   {
    "duration": 772,
    "start_time": "2022-01-05T00:00:35.627Z"
   },
   {
    "duration": 144,
    "start_time": "2022-01-05T00:00:36.423Z"
   },
   {
    "duration": 869,
    "start_time": "2022-01-05T00:00:36.570Z"
   },
   {
    "duration": 3,
    "start_time": "2022-01-05T00:00:37.442Z"
   },
   {
    "duration": 290,
    "start_time": "2022-01-05T00:00:37.448Z"
   },
   {
    "duration": -1226,
    "start_time": "2022-01-05T00:00:38.967Z"
   },
   {
    "duration": 771,
    "start_time": "2022-01-05T00:01:48.456Z"
   },
   {
    "duration": 146,
    "start_time": "2022-01-05T00:01:49.230Z"
   },
   {
    "duration": 751,
    "start_time": "2022-01-05T00:01:49.379Z"
   },
   {
    "duration": -1100,
    "start_time": "2022-01-05T00:01:51.233Z"
   },
   {
    "duration": -1114,
    "start_time": "2022-01-05T00:01:51.248Z"
   },
   {
    "duration": -1114,
    "start_time": "2022-01-05T00:01:51.250Z"
   },
   {
    "duration": 790,
    "start_time": "2022-01-05T00:02:10.397Z"
   },
   {
    "duration": 125,
    "start_time": "2022-01-05T00:03:25.629Z"
   },
   {
    "duration": 738,
    "start_time": "2022-01-05T00:17:04.196Z"
   },
   {
    "duration": 750,
    "start_time": "2022-01-05T00:22:47.850Z"
   },
   {
    "duration": 144,
    "start_time": "2022-01-05T00:22:48.623Z"
   },
   {
    "duration": 871,
    "start_time": "2022-01-05T00:22:48.770Z"
   },
   {
    "duration": -1126,
    "start_time": "2022-01-05T00:22:50.770Z"
   },
   {
    "duration": -1128,
    "start_time": "2022-01-05T00:22:50.773Z"
   },
   {
    "duration": -1136,
    "start_time": "2022-01-05T00:22:50.783Z"
   },
   {
    "duration": 776,
    "start_time": "2022-01-05T00:23:06.985Z"
   },
   {
    "duration": 163,
    "start_time": "2022-01-05T00:23:07.764Z"
   },
   {
    "duration": 793,
    "start_time": "2022-01-05T00:23:07.930Z"
   },
   {
    "duration": 3,
    "start_time": "2022-01-05T00:23:08.726Z"
   },
   {
    "duration": 350,
    "start_time": "2022-01-05T00:23:08.731Z"
   },
   {
    "duration": -1137,
    "start_time": "2022-01-05T00:23:10.221Z"
   },
   {
    "duration": 761,
    "start_time": "2022-01-05T00:27:35.893Z"
   },
   {
    "duration": 166,
    "start_time": "2022-01-05T00:27:36.657Z"
   },
   {
    "duration": 712,
    "start_time": "2022-01-05T00:27:36.826Z"
   },
   {
    "duration": 4,
    "start_time": "2022-01-05T00:27:37.541Z"
   },
   {
    "duration": 281,
    "start_time": "2022-01-05T00:27:37.547Z"
   },
   {
    "duration": -1137,
    "start_time": "2022-01-05T00:27:38.968Z"
   },
   {
    "duration": 725,
    "start_time": "2022-01-05T00:29:36.074Z"
   },
   {
    "duration": 147,
    "start_time": "2022-01-05T00:29:36.823Z"
   },
   {
    "duration": 632,
    "start_time": "2022-01-05T00:29:36.974Z"
   },
   {
    "duration": 16,
    "start_time": "2022-01-05T00:29:37.608Z"
   },
   {
    "duration": 294,
    "start_time": "2022-01-05T00:29:37.627Z"
   },
   {
    "duration": -1127,
    "start_time": "2022-01-05T00:29:39.051Z"
   },
   {
    "duration": 2246,
    "start_time": "2022-01-05T00:39:24.699Z"
   },
   {
    "duration": 170,
    "start_time": "2022-01-05T00:39:26.947Z"
   },
   {
    "duration": 708,
    "start_time": "2022-01-05T00:39:27.124Z"
   },
   {
    "duration": 234,
    "start_time": "2022-01-05T00:39:27.835Z"
   },
   {
    "duration": 387,
    "start_time": "2022-01-05T00:39:28.071Z"
   },
   {
    "duration": -1162,
    "start_time": "2022-01-05T00:39:29.622Z"
   },
   {
    "duration": 203,
    "start_time": "2022-01-05T00:42:06.681Z"
   },
   {
    "duration": 860,
    "start_time": "2022-01-05T00:44:17.776Z"
   },
   {
    "duration": 157,
    "start_time": "2022-01-05T00:44:18.639Z"
   },
   {
    "duration": 724,
    "start_time": "2022-01-05T00:44:18.799Z"
   },
   {
    "duration": 3,
    "start_time": "2022-01-05T00:44:19.526Z"
   },
   {
    "duration": 296,
    "start_time": "2022-01-05T00:44:19.532Z"
   },
   {
    "duration": -1166,
    "start_time": "2022-01-05T00:44:20.997Z"
   },
   {
    "duration": 519,
    "start_time": "2022-01-05T00:55:38.753Z"
   },
   {
    "duration": 1319,
    "start_time": "2022-01-05T00:56:28.624Z"
   },
   {
    "duration": 754,
    "start_time": "2022-01-05T00:57:35.584Z"
   },
   {
    "duration": 153,
    "start_time": "2022-01-05T00:57:36.341Z"
   },
   {
    "duration": 1102,
    "start_time": "2022-01-05T00:57:36.497Z"
   },
   {
    "duration": 4,
    "start_time": "2022-01-05T00:57:37.602Z"
   },
   {
    "duration": 289,
    "start_time": "2022-01-05T00:57:37.608Z"
   },
   {
    "duration": -1166,
    "start_time": "2022-01-05T00:57:39.066Z"
   },
   {
    "duration": 767,
    "start_time": "2022-01-05T01:00:48.211Z"
   },
   {
    "duration": 167,
    "start_time": "2022-01-05T01:00:48.980Z"
   },
   {
    "duration": 1095,
    "start_time": "2022-01-05T01:00:49.151Z"
   },
   {
    "duration": 4,
    "start_time": "2022-01-05T01:00:50.250Z"
   },
   {
    "duration": 278,
    "start_time": "2022-01-05T01:00:50.257Z"
   },
   {
    "duration": -1192,
    "start_time": "2022-01-05T01:00:51.731Z"
   },
   {
    "duration": 765,
    "start_time": "2022-01-05T01:01:49.131Z"
   },
   {
    "duration": 160,
    "start_time": "2022-01-05T01:01:49.899Z"
   },
   {
    "duration": 994,
    "start_time": "2022-01-05T01:01:50.062Z"
   },
   {
    "duration": 4,
    "start_time": "2022-01-05T01:01:51.058Z"
   },
   {
    "duration": 304,
    "start_time": "2022-01-05T01:01:51.064Z"
   },
   {
    "duration": -1183,
    "start_time": "2022-01-05T01:01:52.553Z"
   },
   {
    "duration": 796,
    "start_time": "2022-01-05T01:04:00.296Z"
   },
   {
    "duration": 167,
    "start_time": "2022-01-05T01:04:01.095Z"
   },
   {
    "duration": 1237,
    "start_time": "2022-01-05T01:04:01.265Z"
   },
   {
    "duration": 3,
    "start_time": "2022-01-05T01:04:02.505Z"
   },
   {
    "duration": 286,
    "start_time": "2022-01-05T01:04:02.510Z"
   },
   {
    "duration": -1179,
    "start_time": "2022-01-05T01:04:03.978Z"
   },
   {
    "duration": 588,
    "start_time": "2022-01-05T01:05:07.173Z"
   },
   {
    "duration": 737,
    "start_time": "2022-01-05T01:05:11.990Z"
   },
   {
    "duration": 154,
    "start_time": "2022-01-05T01:05:12.730Z"
   },
   {
    "duration": 1346,
    "start_time": "2022-01-05T01:05:12.888Z"
   },
   {
    "duration": 5,
    "start_time": "2022-01-05T01:05:14.237Z"
   },
   {
    "duration": 292,
    "start_time": "2022-01-05T01:05:14.244Z"
   },
   {
    "duration": -1187,
    "start_time": "2022-01-05T01:05:15.726Z"
   },
   {
    "duration": 759,
    "start_time": "2022-01-05T01:05:46.070Z"
   },
   {
    "duration": 147,
    "start_time": "2022-01-05T01:05:46.832Z"
   },
   {
    "duration": 1217,
    "start_time": "2022-01-05T01:05:46.982Z"
   },
   {
    "duration": 3,
    "start_time": "2022-01-05T01:05:48.202Z"
   },
   {
    "duration": 285,
    "start_time": "2022-01-05T01:05:48.208Z"
   },
   {
    "duration": -1192,
    "start_time": "2022-01-05T01:05:49.687Z"
   },
   {
    "duration": 777,
    "start_time": "2022-01-05T01:08:28.682Z"
   },
   {
    "duration": 167,
    "start_time": "2022-01-05T01:08:29.462Z"
   },
   {
    "duration": 1072,
    "start_time": "2022-01-05T01:08:29.632Z"
   },
   {
    "duration": 3,
    "start_time": "2022-01-05T01:08:30.707Z"
   },
   {
    "duration": 292,
    "start_time": "2022-01-05T01:08:30.724Z"
   },
   {
    "duration": -1182,
    "start_time": "2022-01-05T01:08:32.202Z"
   },
   {
    "duration": 504,
    "start_time": "2022-01-05T01:09:22.016Z"
   },
   {
    "duration": 796,
    "start_time": "2022-01-05T01:09:25.633Z"
   },
   {
    "duration": 167,
    "start_time": "2022-01-05T01:09:26.432Z"
   },
   {
    "duration": 1330,
    "start_time": "2022-01-05T01:09:26.603Z"
   },
   {
    "duration": 4,
    "start_time": "2022-01-05T01:09:27.936Z"
   },
   {
    "duration": 312,
    "start_time": "2022-01-05T01:09:27.943Z"
   },
   {
    "duration": -1185,
    "start_time": "2022-01-05T01:09:29.442Z"
   },
   {
    "duration": 819,
    "start_time": "2022-01-05T01:11:01.879Z"
   },
   {
    "duration": 161,
    "start_time": "2022-01-05T01:11:02.701Z"
   },
   {
    "duration": 1321,
    "start_time": "2022-01-05T01:11:02.866Z"
   },
   {
    "duration": 3,
    "start_time": "2022-01-05T01:11:04.190Z"
   },
   {
    "duration": 374,
    "start_time": "2022-01-05T01:11:04.196Z"
   },
   {
    "duration": -1195,
    "start_time": "2022-01-05T01:11:05.768Z"
   },
   {
    "duration": 771,
    "start_time": "2022-01-05T01:11:59.606Z"
   },
   {
    "duration": 169,
    "start_time": "2022-01-05T01:12:00.381Z"
   },
   {
    "duration": 2306,
    "start_time": "2022-01-05T01:12:00.554Z"
   },
   {
    "duration": 4,
    "start_time": "2022-01-05T01:12:02.863Z"
   },
   {
    "duration": 292,
    "start_time": "2022-01-05T01:12:02.870Z"
   },
   {
    "duration": -1182,
    "start_time": "2022-01-05T01:12:04.347Z"
   },
   {
    "duration": 775,
    "start_time": "2022-01-05T01:12:26.384Z"
   },
   {
    "duration": 161,
    "start_time": "2022-01-05T01:12:27.162Z"
   },
   {
    "duration": 1198,
    "start_time": "2022-01-05T01:12:27.327Z"
   },
   {
    "duration": 3,
    "start_time": "2022-01-05T01:12:28.528Z"
   },
   {
    "duration": 289,
    "start_time": "2022-01-05T01:12:28.534Z"
   },
   {
    "duration": -1200,
    "start_time": "2022-01-05T01:12:30.025Z"
   },
   {
    "duration": 748,
    "start_time": "2022-01-05T01:13:18.453Z"
   },
   {
    "duration": 155,
    "start_time": "2022-01-05T01:13:19.224Z"
   },
   {
    "duration": 1189,
    "start_time": "2022-01-05T01:13:19.383Z"
   },
   {
    "duration": 5,
    "start_time": "2022-01-05T01:13:20.575Z"
   },
   {
    "duration": 285,
    "start_time": "2022-01-05T01:13:20.583Z"
   },
   {
    "duration": -1188,
    "start_time": "2022-01-05T01:13:22.059Z"
   },
   {
    "duration": 751,
    "start_time": "2022-01-05T01:14:51.588Z"
   },
   {
    "duration": 157,
    "start_time": "2022-01-05T01:14:52.342Z"
   },
   {
    "duration": 1137,
    "start_time": "2022-01-05T01:14:52.502Z"
   },
   {
    "duration": 4,
    "start_time": "2022-01-05T01:14:53.642Z"
   },
   {
    "duration": 278,
    "start_time": "2022-01-05T01:14:53.648Z"
   },
   {
    "duration": -1191,
    "start_time": "2022-01-05T01:14:55.120Z"
   },
   {
    "duration": 776,
    "start_time": "2022-01-05T01:15:32.890Z"
   },
   {
    "duration": 157,
    "start_time": "2022-01-05T01:15:33.668Z"
   },
   {
    "duration": 1179,
    "start_time": "2022-01-05T01:15:33.828Z"
   },
   {
    "duration": 3,
    "start_time": "2022-01-05T01:15:35.010Z"
   },
   {
    "duration": 323,
    "start_time": "2022-01-05T01:15:35.024Z"
   },
   {
    "duration": -1202,
    "start_time": "2022-01-05T01:15:36.552Z"
   },
   {
    "duration": 734,
    "start_time": "2022-01-05T01:16:38.920Z"
   },
   {
    "duration": 173,
    "start_time": "2022-01-05T01:16:39.658Z"
   },
   {
    "duration": 1118,
    "start_time": "2022-01-05T01:16:39.835Z"
   },
   {
    "duration": 5,
    "start_time": "2022-01-05T01:16:40.956Z"
   },
   {
    "duration": 316,
    "start_time": "2022-01-05T01:16:40.963Z"
   },
   {
    "duration": -1194,
    "start_time": "2022-01-05T01:16:42.476Z"
   },
   {
    "duration": 771,
    "start_time": "2022-01-05T01:17:23.919Z"
   },
   {
    "duration": 164,
    "start_time": "2022-01-05T01:17:24.693Z"
   },
   {
    "duration": 1107,
    "start_time": "2022-01-05T01:17:24.860Z"
   },
   {
    "duration": 4,
    "start_time": "2022-01-05T01:17:25.969Z"
   },
   {
    "duration": 279,
    "start_time": "2022-01-05T01:17:25.975Z"
   },
   {
    "duration": -1201,
    "start_time": "2022-01-05T01:17:27.458Z"
   },
   {
    "duration": 786,
    "start_time": "2022-01-05T01:18:06.710Z"
   },
   {
    "duration": 180,
    "start_time": "2022-01-05T01:18:07.499Z"
   },
   {
    "duration": 1085,
    "start_time": "2022-01-05T01:18:07.682Z"
   },
   {
    "duration": 4,
    "start_time": "2022-01-05T01:18:08.770Z"
   },
   {
    "duration": 287,
    "start_time": "2022-01-05T01:18:08.777Z"
   },
   {
    "duration": -1197,
    "start_time": "2022-01-05T01:18:10.264Z"
   },
   {
    "duration": 746,
    "start_time": "2022-01-05T01:18:39.390Z"
   },
   {
    "duration": 164,
    "start_time": "2022-01-05T01:18:40.138Z"
   },
   {
    "duration": 1171,
    "start_time": "2022-01-05T01:18:40.305Z"
   },
   {
    "duration": 3,
    "start_time": "2022-01-05T01:18:41.478Z"
   },
   {
    "duration": 279,
    "start_time": "2022-01-05T01:18:41.484Z"
   },
   {
    "duration": -1204,
    "start_time": "2022-01-05T01:18:42.969Z"
   },
   {
    "duration": 732,
    "start_time": "2022-01-05T01:22:55.065Z"
   },
   {
    "duration": 164,
    "start_time": "2022-01-05T01:22:55.799Z"
   },
   {
    "duration": 842,
    "start_time": "2022-01-05T01:22:55.966Z"
   },
   {
    "duration": -1196,
    "start_time": "2022-01-05T01:22:58.006Z"
   },
   {
    "duration": -1197,
    "start_time": "2022-01-05T01:22:58.009Z"
   },
   {
    "duration": -1204,
    "start_time": "2022-01-05T01:22:58.017Z"
   },
   {
    "duration": 744,
    "start_time": "2022-01-05T01:23:27.408Z"
   },
   {
    "duration": 210,
    "start_time": "2022-01-05T01:23:28.155Z"
   },
   {
    "duration": 1162,
    "start_time": "2022-01-05T01:23:28.368Z"
   },
   {
    "duration": 4,
    "start_time": "2022-01-05T01:23:29.533Z"
   },
   {
    "duration": 297,
    "start_time": "2022-01-05T01:23:29.539Z"
   },
   {
    "duration": -1216,
    "start_time": "2022-01-05T01:23:31.056Z"
   },
   {
    "duration": 472,
    "start_time": "2022-01-05T01:25:46.172Z"
   },
   {
    "duration": 724,
    "start_time": "2022-01-05T01:25:49.358Z"
   },
   {
    "duration": 180,
    "start_time": "2022-01-05T01:25:50.085Z"
   },
   {
    "duration": 1203,
    "start_time": "2022-01-05T01:25:50.269Z"
   },
   {
    "duration": 4,
    "start_time": "2022-01-05T01:25:51.476Z"
   },
   {
    "duration": 300,
    "start_time": "2022-01-05T01:25:51.483Z"
   },
   {
    "duration": -1210,
    "start_time": "2022-01-05T01:25:52.996Z"
   },
   {
    "duration": 791,
    "start_time": "2022-01-05T01:27:18.964Z"
   },
   {
    "duration": 166,
    "start_time": "2022-01-05T01:27:19.757Z"
   },
   {
    "duration": 1015,
    "start_time": "2022-01-05T01:27:19.926Z"
   },
   {
    "duration": -1221,
    "start_time": "2022-01-05T01:27:22.164Z"
   },
   {
    "duration": -1221,
    "start_time": "2022-01-05T01:27:22.166Z"
   },
   {
    "duration": -1222,
    "start_time": "2022-01-05T01:27:22.168Z"
   },
   {
    "duration": 759,
    "start_time": "2022-01-05T01:28:31.339Z"
   },
   {
    "duration": 172,
    "start_time": "2022-01-05T01:28:32.101Z"
   },
   {
    "duration": 1646,
    "start_time": "2022-01-05T01:28:32.278Z"
   },
   {
    "duration": 3,
    "start_time": "2022-01-05T01:28:33.927Z"
   },
   {
    "duration": 288,
    "start_time": "2022-01-05T01:28:33.933Z"
   },
   {
    "duration": -1208,
    "start_time": "2022-01-05T01:28:35.432Z"
   },
   {
    "duration": 746,
    "start_time": "2022-01-05T01:29:44.097Z"
   },
   {
    "duration": 150,
    "start_time": "2022-01-05T01:29:44.846Z"
   },
   {
    "duration": 1507,
    "start_time": "2022-01-05T01:29:45.000Z"
   },
   {
    "duration": 4,
    "start_time": "2022-01-05T01:29:46.509Z"
   },
   {
    "duration": 282,
    "start_time": "2022-01-05T01:29:46.515Z"
   },
   {
    "duration": -1213,
    "start_time": "2022-01-05T01:29:48.012Z"
   },
   {
    "duration": 762,
    "start_time": "2022-01-05T01:30:22.545Z"
   },
   {
    "duration": 151,
    "start_time": "2022-01-05T01:30:23.324Z"
   },
   {
    "duration": 1538,
    "start_time": "2022-01-05T01:30:23.478Z"
   },
   {
    "duration": 4,
    "start_time": "2022-01-05T01:30:25.019Z"
   },
   {
    "duration": 358,
    "start_time": "2022-01-05T01:30:25.025Z"
   },
   {
    "duration": -1387,
    "start_time": "2022-01-05T01:30:26.773Z"
   },
   {
    "duration": 770,
    "start_time": "2022-01-05T01:31:42.687Z"
   },
   {
    "duration": 151,
    "start_time": "2022-01-05T01:31:43.459Z"
   },
   {
    "duration": 1464,
    "start_time": "2022-01-05T01:31:43.613Z"
   },
   {
    "duration": 4,
    "start_time": "2022-01-05T01:31:45.080Z"
   },
   {
    "duration": 272,
    "start_time": "2022-01-05T01:31:45.086Z"
   },
   {
    "duration": -1229,
    "start_time": "2022-01-05T01:31:46.589Z"
   },
   {
    "duration": 864,
    "start_time": "2022-01-05T01:33:12.589Z"
   },
   {
    "duration": 160,
    "start_time": "2022-01-05T01:33:13.456Z"
   },
   {
    "duration": 1448,
    "start_time": "2022-01-05T01:33:13.625Z"
   },
   {
    "duration": 4,
    "start_time": "2022-01-05T01:33:15.075Z"
   },
   {
    "duration": 334,
    "start_time": "2022-01-05T01:33:15.081Z"
   },
   {
    "duration": -1220,
    "start_time": "2022-01-05T01:33:16.638Z"
   },
   {
    "duration": 744,
    "start_time": "2022-01-05T01:35:44.917Z"
   },
   {
    "duration": 160,
    "start_time": "2022-01-05T01:35:45.663Z"
   },
   {
    "duration": 1320,
    "start_time": "2022-01-05T01:35:45.826Z"
   },
   {
    "duration": 4,
    "start_time": "2022-01-05T01:35:47.149Z"
   },
   {
    "duration": 294,
    "start_time": "2022-01-05T01:35:47.156Z"
   },
   {
    "duration": -1215,
    "start_time": "2022-01-05T01:35:48.668Z"
   },
   {
    "duration": 748,
    "start_time": "2022-01-05T01:43:04.630Z"
   },
   {
    "duration": 168,
    "start_time": "2022-01-05T01:43:05.381Z"
   },
   {
    "duration": 1360,
    "start_time": "2022-01-05T01:43:05.552Z"
   },
   {
    "duration": 3,
    "start_time": "2022-01-05T01:43:06.923Z"
   },
   {
    "duration": 302,
    "start_time": "2022-01-05T01:43:06.928Z"
   },
   {
    "duration": -1229,
    "start_time": "2022-01-05T01:43:08.461Z"
   },
   {
    "duration": 1241,
    "start_time": "2022-01-05T01:44:25.284Z"
   },
   {
    "duration": 165,
    "start_time": "2022-01-05T01:44:26.528Z"
   },
   {
    "duration": 1463,
    "start_time": "2022-01-05T01:44:26.697Z"
   },
   {
    "duration": 3,
    "start_time": "2022-01-05T01:44:28.168Z"
   },
   {
    "duration": 307,
    "start_time": "2022-01-05T01:44:28.173Z"
   },
   {
    "duration": -1224,
    "start_time": "2022-01-05T01:44:29.707Z"
   },
   {
    "duration": 777,
    "start_time": "2022-01-05T01:50:30.502Z"
   },
   {
    "duration": 170,
    "start_time": "2022-01-05T01:50:31.282Z"
   },
   {
    "duration": 1155,
    "start_time": "2022-01-05T01:50:31.455Z"
   },
   {
    "duration": -1260,
    "start_time": "2022-01-05T01:50:33.873Z"
   },
   {
    "duration": -1263,
    "start_time": "2022-01-05T01:50:33.877Z"
   },
   {
    "duration": -1271,
    "start_time": "2022-01-05T01:50:33.887Z"
   },
   {
    "duration": 750,
    "start_time": "2022-01-05T01:53:58.753Z"
   },
   {
    "duration": 150,
    "start_time": "2022-01-05T01:53:59.524Z"
   },
   {
    "duration": 1516,
    "start_time": "2022-01-05T01:53:59.677Z"
   },
   {
    "duration": 4,
    "start_time": "2022-01-05T01:54:01.195Z"
   },
   {
    "duration": 317,
    "start_time": "2022-01-05T01:54:01.201Z"
   },
   {
    "duration": -1237,
    "start_time": "2022-01-05T01:54:02.758Z"
   },
   {
    "duration": 1099,
    "start_time": "2022-01-05T01:57:27.765Z"
   },
   {
    "duration": 163,
    "start_time": "2022-01-05T01:57:28.867Z"
   },
   {
    "duration": 8144,
    "start_time": "2022-01-05T01:57:29.033Z"
   },
   {
    "duration": -1266,
    "start_time": "2022-01-05T01:57:38.446Z"
   },
   {
    "duration": -1283,
    "start_time": "2022-01-05T01:57:38.465Z"
   },
   {
    "duration": -1325,
    "start_time": "2022-01-05T01:57:38.508Z"
   },
   {
    "duration": 726,
    "start_time": "2022-01-05T01:58:33.620Z"
   },
   {
    "duration": 158,
    "start_time": "2022-01-05T01:58:34.348Z"
   },
   {
    "duration": 1419,
    "start_time": "2022-01-05T01:58:34.509Z"
   },
   {
    "duration": 3,
    "start_time": "2022-01-05T01:58:35.931Z"
   },
   {
    "duration": 486,
    "start_time": "2022-01-05T01:58:35.936Z"
   },
   {
    "duration": -1247,
    "start_time": "2022-01-05T01:58:37.671Z"
   },
   {
    "duration": 776,
    "start_time": "2022-01-05T02:03:19.766Z"
   },
   {
    "duration": 165,
    "start_time": "2022-01-05T02:03:20.546Z"
   },
   {
    "duration": 1467,
    "start_time": "2022-01-05T02:03:20.716Z"
   },
   {
    "duration": 4,
    "start_time": "2022-01-05T02:03:22.186Z"
   },
   {
    "duration": 262,
    "start_time": "2022-01-05T02:03:22.192Z"
   },
   {
    "duration": -1252,
    "start_time": "2022-01-05T02:03:23.708Z"
   },
   {
    "duration": 744,
    "start_time": "2022-01-05T02:05:28.180Z"
   },
   {
    "duration": 154,
    "start_time": "2022-01-05T02:05:28.927Z"
   },
   {
    "duration": 1500,
    "start_time": "2022-01-05T02:05:29.085Z"
   },
   {
    "duration": 3,
    "start_time": "2022-01-05T02:05:30.588Z"
   },
   {
    "duration": 300,
    "start_time": "2022-01-05T02:05:30.593Z"
   },
   {
    "duration": -1257,
    "start_time": "2022-01-05T02:05:32.152Z"
   },
   {
    "duration": 754,
    "start_time": "2022-01-05T02:09:19.624Z"
   },
   {
    "duration": 160,
    "start_time": "2022-01-05T02:09:20.381Z"
   },
   {
    "duration": 1414,
    "start_time": "2022-01-05T02:09:20.544Z"
   },
   {
    "duration": 4,
    "start_time": "2022-01-05T02:09:21.961Z"
   },
   {
    "duration": 306,
    "start_time": "2022-01-05T02:09:21.967Z"
   },
   {
    "duration": -1267,
    "start_time": "2022-01-05T02:09:23.543Z"
   },
   {
    "duration": 781,
    "start_time": "2022-01-05T02:09:44.856Z"
   },
   {
    "duration": 159,
    "start_time": "2022-01-05T02:09:45.640Z"
   },
   {
    "duration": 1399,
    "start_time": "2022-01-05T02:09:45.802Z"
   },
   {
    "duration": 19,
    "start_time": "2022-01-05T02:09:47.204Z"
   },
   {
    "duration": 282,
    "start_time": "2022-01-05T02:09:47.226Z"
   },
   {
    "duration": -1255,
    "start_time": "2022-01-05T02:09:48.765Z"
   },
   {
    "duration": 739,
    "start_time": "2022-01-05T02:11:14.406Z"
   },
   {
    "duration": 167,
    "start_time": "2022-01-05T02:11:15.148Z"
   },
   {
    "duration": 1467,
    "start_time": "2022-01-05T02:11:15.322Z"
   },
   {
    "duration": 3,
    "start_time": "2022-01-05T02:11:16.792Z"
   },
   {
    "duration": 283,
    "start_time": "2022-01-05T02:11:16.797Z"
   },
   {
    "duration": -1262,
    "start_time": "2022-01-05T02:11:18.345Z"
   },
   {
    "duration": 748,
    "start_time": "2022-01-05T02:12:16.212Z"
   },
   {
    "duration": 169,
    "start_time": "2022-01-05T02:12:16.963Z"
   },
   {
    "duration": 1429,
    "start_time": "2022-01-05T02:12:17.136Z"
   },
   {
    "duration": 3,
    "start_time": "2022-01-05T02:12:18.568Z"
   },
   {
    "duration": 277,
    "start_time": "2022-01-05T02:12:18.575Z"
   },
   {
    "duration": -1257,
    "start_time": "2022-01-05T02:12:20.112Z"
   },
   {
    "duration": 731,
    "start_time": "2022-01-05T02:30:41.027Z"
   },
   {
    "duration": 164,
    "start_time": "2022-01-05T02:30:41.761Z"
   },
   {
    "duration": 1411,
    "start_time": "2022-01-05T02:30:41.929Z"
   },
   {
    "duration": 4,
    "start_time": "2022-01-05T02:30:43.342Z"
   },
   {
    "duration": 279,
    "start_time": "2022-01-05T02:30:43.349Z"
   },
   {
    "duration": -1286,
    "start_time": "2022-01-05T02:30:44.916Z"
   },
   {
    "duration": 726,
    "start_time": "2022-01-05T02:33:48.816Z"
   },
   {
    "duration": 141,
    "start_time": "2022-01-05T02:33:49.545Z"
   },
   {
    "duration": 1383,
    "start_time": "2022-01-05T02:33:49.689Z"
   },
   {
    "duration": 4,
    "start_time": "2022-01-05T02:33:51.075Z"
   },
   {
    "duration": 287,
    "start_time": "2022-01-05T02:33:51.082Z"
   },
   {
    "duration": -1298,
    "start_time": "2022-01-05T02:33:52.670Z"
   },
   {
    "duration": 742,
    "start_time": "2022-01-05T02:35:24.654Z"
   },
   {
    "duration": 168,
    "start_time": "2022-01-05T02:35:25.398Z"
   },
   {
    "duration": 1539,
    "start_time": "2022-01-05T02:35:25.569Z"
   },
   {
    "duration": 14,
    "start_time": "2022-01-05T02:35:27.110Z"
   },
   {
    "duration": 276,
    "start_time": "2022-01-05T02:35:27.126Z"
   },
   {
    "duration": -1293,
    "start_time": "2022-01-05T02:35:28.698Z"
   },
   {
    "duration": 752,
    "start_time": "2022-01-05T02:38:20.202Z"
   },
   {
    "duration": 170,
    "start_time": "2022-01-05T02:38:20.957Z"
   },
   {
    "duration": 1458,
    "start_time": "2022-01-05T02:38:21.132Z"
   },
   {
    "duration": 3,
    "start_time": "2022-01-05T02:38:22.593Z"
   },
   {
    "duration": 339,
    "start_time": "2022-01-05T02:38:22.599Z"
   },
   {
    "duration": -1299,
    "start_time": "2022-01-05T02:38:24.240Z"
   },
   {
    "duration": 757,
    "start_time": "2022-01-05T02:41:37.773Z"
   },
   {
    "duration": 141,
    "start_time": "2022-01-05T02:41:38.533Z"
   },
   {
    "duration": 1374,
    "start_time": "2022-01-05T02:41:38.677Z"
   },
   {
    "duration": 3,
    "start_time": "2022-01-05T02:41:40.054Z"
   },
   {
    "duration": 275,
    "start_time": "2022-01-05T02:41:40.059Z"
   },
   {
    "duration": -1302,
    "start_time": "2022-01-05T02:41:41.639Z"
   },
   {
    "duration": 733,
    "start_time": "2022-01-05T02:42:46.163Z"
   },
   {
    "duration": 154,
    "start_time": "2022-01-05T02:42:46.898Z"
   },
   {
    "duration": 1360,
    "start_time": "2022-01-05T02:42:47.055Z"
   },
   {
    "duration": 4,
    "start_time": "2022-01-05T02:42:48.424Z"
   },
   {
    "duration": 279,
    "start_time": "2022-01-05T02:42:48.431Z"
   },
   {
    "duration": -1303,
    "start_time": "2022-01-05T02:42:50.016Z"
   },
   {
    "duration": 746,
    "start_time": "2022-01-05T02:43:52.178Z"
   },
   {
    "duration": 158,
    "start_time": "2022-01-05T02:43:52.927Z"
   },
   {
    "duration": 1494,
    "start_time": "2022-01-05T02:43:53.089Z"
   },
   {
    "duration": 4,
    "start_time": "2022-01-05T02:43:54.586Z"
   },
   {
    "duration": 268,
    "start_time": "2022-01-05T02:43:54.593Z"
   },
   {
    "duration": -1303,
    "start_time": "2022-01-05T02:43:56.166Z"
   },
   {
    "duration": 763,
    "start_time": "2022-01-05T02:45:16.160Z"
   },
   {
    "duration": 153,
    "start_time": "2022-01-05T02:45:16.926Z"
   },
   {
    "duration": 1430,
    "start_time": "2022-01-05T02:45:17.083Z"
   },
   {
    "duration": 3,
    "start_time": "2022-01-05T02:45:18.524Z"
   },
   {
    "duration": 282,
    "start_time": "2022-01-05T02:45:18.529Z"
   },
   {
    "duration": -1314,
    "start_time": "2022-01-05T02:45:20.127Z"
   },
   {
    "duration": 744,
    "start_time": "2022-01-05T02:57:47.180Z"
   },
   {
    "duration": 151,
    "start_time": "2022-01-05T02:57:47.927Z"
   },
   {
    "duration": 1361,
    "start_time": "2022-01-05T02:57:48.081Z"
   },
   {
    "duration": 3,
    "start_time": "2022-01-05T02:57:49.444Z"
   },
   {
    "duration": 355,
    "start_time": "2022-01-05T02:57:49.450Z"
   },
   {
    "duration": 768,
    "start_time": "2022-01-05T02:58:20.283Z"
   },
   {
    "duration": 156,
    "start_time": "2022-01-05T02:58:21.054Z"
   },
   {
    "duration": 1466,
    "start_time": "2022-01-05T02:58:21.213Z"
   },
   {
    "duration": 3,
    "start_time": "2022-01-05T02:58:22.682Z"
   },
   {
    "duration": 280,
    "start_time": "2022-01-05T02:58:22.688Z"
   },
   {
    "duration": 878,
    "start_time": "2022-01-05T03:04:36.052Z"
   },
   {
    "duration": 145,
    "start_time": "2022-01-05T03:04:36.933Z"
   },
   {
    "duration": 1382,
    "start_time": "2022-01-05T03:04:37.081Z"
   },
   {
    "duration": 3,
    "start_time": "2022-01-05T03:04:38.466Z"
   },
   {
    "duration": 290,
    "start_time": "2022-01-05T03:04:38.472Z"
   },
   {
    "duration": 738,
    "start_time": "2022-01-05T03:08:38.532Z"
   },
   {
    "duration": 160,
    "start_time": "2022-01-05T03:08:39.272Z"
   },
   {
    "duration": 1471,
    "start_time": "2022-01-05T03:08:39.435Z"
   },
   {
    "duration": 3,
    "start_time": "2022-01-05T03:08:40.908Z"
   },
   {
    "duration": 283,
    "start_time": "2022-01-05T03:08:40.914Z"
   },
   {
    "duration": 744,
    "start_time": "2022-01-05T03:09:56.500Z"
   },
   {
    "duration": 176,
    "start_time": "2022-01-05T03:09:57.248Z"
   },
   {
    "duration": 1460,
    "start_time": "2022-01-05T03:09:57.428Z"
   },
   {
    "duration": 4,
    "start_time": "2022-01-05T03:09:58.891Z"
   },
   {
    "duration": 305,
    "start_time": "2022-01-05T03:09:58.897Z"
   },
   {
    "duration": 123,
    "start_time": "2022-01-05T03:14:56.697Z"
   },
   {
    "duration": 736,
    "start_time": "2022-01-05T03:16:22.124Z"
   },
   {
    "duration": 175,
    "start_time": "2022-01-05T03:16:22.863Z"
   },
   {
    "duration": 1585,
    "start_time": "2022-01-05T03:16:23.042Z"
   },
   {
    "duration": 3,
    "start_time": "2022-01-05T03:16:24.630Z"
   },
   {
    "duration": 289,
    "start_time": "2022-01-05T03:16:24.637Z"
   },
   {
    "duration": 1766,
    "start_time": "2022-01-05T03:18:13.692Z"
   },
   {
    "duration": 151,
    "start_time": "2022-01-05T03:18:15.460Z"
   },
   {
    "duration": 398,
    "start_time": "2022-01-05T03:18:15.623Z"
   },
   {
    "duration": -1350,
    "start_time": "2022-01-05T03:18:17.373Z"
   },
   {
    "duration": -1354,
    "start_time": "2022-01-05T03:18:17.379Z"
   },
   {
    "duration": 714,
    "start_time": "2022-01-05T03:18:38.242Z"
   },
   {
    "duration": 155,
    "start_time": "2022-01-05T03:18:38.959Z"
   },
   {
    "duration": 375,
    "start_time": "2022-01-05T03:18:39.124Z"
   },
   {
    "duration": -1355,
    "start_time": "2022-01-05T03:18:40.857Z"
   },
   {
    "duration": -1355,
    "start_time": "2022-01-05T03:18:40.859Z"
   },
   {
    "duration": 765,
    "start_time": "2022-01-05T03:20:10.191Z"
   },
   {
    "duration": 154,
    "start_time": "2022-01-05T03:20:10.958Z"
   },
   {
    "duration": 3354,
    "start_time": "2022-01-05T03:20:11.114Z"
   },
   {
    "duration": -1357,
    "start_time": "2022-01-05T03:20:15.828Z"
   },
   {
    "duration": -1358,
    "start_time": "2022-01-05T03:20:15.831Z"
   },
   {
    "duration": 768,
    "start_time": "2022-01-05T03:23:06.461Z"
   },
   {
    "duration": 163,
    "start_time": "2022-01-05T03:23:07.232Z"
   },
   {
    "duration": 1441,
    "start_time": "2022-01-05T03:23:07.398Z"
   },
   {
    "duration": 4,
    "start_time": "2022-01-05T03:23:08.842Z"
   },
   {
    "duration": 338,
    "start_time": "2022-01-05T03:23:08.848Z"
   },
   {
    "duration": 749,
    "start_time": "2022-01-05T03:25:59.490Z"
   },
   {
    "duration": 166,
    "start_time": "2022-01-05T03:26:00.242Z"
   },
   {
    "duration": 1434,
    "start_time": "2022-01-05T03:26:00.411Z"
   },
   {
    "duration": 3,
    "start_time": "2022-01-05T03:26:01.847Z"
   },
   {
    "duration": 328,
    "start_time": "2022-01-05T03:26:01.853Z"
   },
   {
    "duration": 751,
    "start_time": "2022-01-05T03:30:18.388Z"
   },
   {
    "duration": 145,
    "start_time": "2022-01-05T03:30:19.141Z"
   },
   {
    "duration": 1549,
    "start_time": "2022-01-05T03:30:19.289Z"
   },
   {
    "duration": 3,
    "start_time": "2022-01-05T03:30:20.841Z"
   },
   {
    "duration": 280,
    "start_time": "2022-01-05T03:30:20.846Z"
   },
   {
    "duration": 1631,
    "start_time": "2022-01-05T03:33:14.119Z"
   },
   {
    "duration": 158,
    "start_time": "2022-01-05T03:33:15.752Z"
   },
   {
    "duration": 102,
    "start_time": "2022-01-05T03:33:15.913Z"
   },
   {
    "duration": -1353,
    "start_time": "2022-01-05T03:33:17.370Z"
   },
   {
    "duration": -1353,
    "start_time": "2022-01-05T03:33:17.372Z"
   },
   {
    "duration": 786,
    "start_time": "2022-01-05T03:33:52.937Z"
   },
   {
    "duration": 146,
    "start_time": "2022-01-05T03:33:53.726Z"
   },
   {
    "duration": 1451,
    "start_time": "2022-01-05T03:33:53.875Z"
   },
   {
    "duration": 4,
    "start_time": "2022-01-05T03:33:55.328Z"
   },
   {
    "duration": 280,
    "start_time": "2022-01-05T03:33:55.334Z"
   },
   {
    "duration": 742,
    "start_time": "2022-01-05T03:48:00.745Z"
   },
   {
    "duration": 167,
    "start_time": "2022-01-05T03:48:01.490Z"
   },
   {
    "duration": 3,
    "start_time": "2022-01-05T03:48:01.660Z"
   },
   {
    "duration": 1489,
    "start_time": "2022-01-05T03:48:01.666Z"
   },
   {
    "duration": 286,
    "start_time": "2022-01-05T03:48:03.158Z"
   },
   {
    "duration": 748,
    "start_time": "2022-01-05T03:52:28.692Z"
   },
   {
    "duration": 158,
    "start_time": "2022-01-05T03:52:29.443Z"
   },
   {
    "duration": 4,
    "start_time": "2022-01-05T03:52:29.605Z"
   },
   {
    "duration": 1504,
    "start_time": "2022-01-05T03:52:29.613Z"
   },
   {
    "duration": 287,
    "start_time": "2022-01-05T03:52:31.119Z"
   },
   {
    "duration": 167,
    "start_time": "2022-01-05T03:56:48.372Z"
   },
   {
    "duration": 747,
    "start_time": "2022-01-05T03:57:19.540Z"
   },
   {
    "duration": 166,
    "start_time": "2022-01-05T03:57:20.290Z"
   },
   {
    "duration": 110,
    "start_time": "2022-01-05T03:57:20.459Z"
   },
   {
    "duration": 1466,
    "start_time": "2022-01-05T03:57:20.572Z"
   },
   {
    "duration": 6809,
    "start_time": "2022-01-05T03:57:22.040Z"
   },
   {
    "duration": 901,
    "start_time": "2022-01-05T03:58:49.324Z"
   },
   {
    "duration": 154,
    "start_time": "2022-01-05T03:58:50.229Z"
   },
   {
    "duration": 2366,
    "start_time": "2022-01-05T03:59:24.863Z"
   },
   {
    "duration": 170,
    "start_time": "2022-01-05T03:59:27.232Z"
   },
   {
    "duration": 3906,
    "start_time": "2022-01-05T04:00:14.889Z"
   },
   {
    "duration": 156,
    "start_time": "2022-01-05T04:00:18.798Z"
   },
   {
    "duration": 126,
    "start_time": "2022-01-05T04:00:18.957Z"
   },
   {
    "duration": 1676,
    "start_time": "2022-01-05T04:00:19.086Z"
   },
   {
    "duration": 7666,
    "start_time": "2022-01-05T04:00:20.764Z"
   },
   {
    "duration": 774,
    "start_time": "2022-01-05T04:29:29.398Z"
   },
   {
    "duration": 161,
    "start_time": "2022-01-05T04:29:30.175Z"
   },
   {
    "duration": 1262,
    "start_time": "2022-01-05T04:29:30.339Z"
   },
   {
    "duration": 948,
    "start_time": "2022-01-05T04:29:31.604Z"
   },
   {
    "duration": -1440,
    "start_time": "2022-01-05T04:29:33.996Z"
   },
   {
    "duration": 729,
    "start_time": "2022-01-05T04:30:39.245Z"
   },
   {
    "duration": 170,
    "start_time": "2022-01-05T04:30:39.977Z"
   },
   {
    "duration": 1193,
    "start_time": "2022-01-05T04:30:40.150Z"
   },
   {
    "duration": 946,
    "start_time": "2022-01-05T04:30:41.346Z"
   },
   {
    "duration": -1447,
    "start_time": "2022-01-05T04:30:43.742Z"
   },
   {
    "duration": 713,
    "start_time": "2022-01-05T04:31:35.171Z"
   },
   {
    "duration": 158,
    "start_time": "2022-01-05T04:31:35.886Z"
   },
   {
    "duration": 1184,
    "start_time": "2022-01-05T04:31:36.047Z"
   },
   {
    "duration": 921,
    "start_time": "2022-01-05T04:31:37.234Z"
   },
   {
    "duration": -1440,
    "start_time": "2022-01-05T04:31:39.598Z"
   },
   {
    "duration": 862,
    "start_time": "2022-01-05T04:34:09.472Z"
   },
   {
    "duration": 151,
    "start_time": "2022-01-05T04:34:10.337Z"
   },
   {
    "duration": 1232,
    "start_time": "2022-01-05T04:34:10.491Z"
   },
   {
    "duration": 1003,
    "start_time": "2022-01-05T04:34:11.726Z"
   },
   {
    "duration": -1443,
    "start_time": "2022-01-05T04:34:14.175Z"
   },
   {
    "duration": 1059,
    "start_time": "2022-01-05T04:41:17.581Z"
   },
   {
    "duration": 735,
    "start_time": "2022-01-05T04:41:27.119Z"
   },
   {
    "duration": 166,
    "start_time": "2022-01-05T04:41:27.857Z"
   },
   {
    "duration": 1282,
    "start_time": "2022-01-05T04:41:28.027Z"
   },
   {
    "duration": 976,
    "start_time": "2022-01-05T04:41:29.312Z"
   },
   {
    "duration": -1451,
    "start_time": "2022-01-05T04:41:31.742Z"
   },
   {
    "duration": 749,
    "start_time": "2022-01-05T04:43:48.276Z"
   },
   {
    "duration": 149,
    "start_time": "2022-01-05T04:43:49.028Z"
   },
   {
    "duration": 1331,
    "start_time": "2022-01-05T04:43:49.181Z"
   },
   {
    "duration": 1014,
    "start_time": "2022-01-05T04:43:50.516Z"
   },
   {
    "duration": -1460,
    "start_time": "2022-01-05T04:43:52.993Z"
   },
   {
    "duration": 874,
    "start_time": "2022-01-05T05:00:52.249Z"
   },
   {
    "duration": 147,
    "start_time": "2022-01-05T05:00:53.126Z"
   },
   {
    "duration": 905,
    "start_time": "2022-01-05T05:00:53.276Z"
   },
   {
    "duration": 7050,
    "start_time": "2022-01-05T05:00:54.183Z"
   },
   {
    "duration": -1492,
    "start_time": "2022-01-05T05:01:02.727Z"
   },
   {
    "duration": 785,
    "start_time": "2022-01-05T05:03:30.047Z"
   },
   {
    "duration": 159,
    "start_time": "2022-01-05T05:03:30.835Z"
   },
   {
    "duration": 1048,
    "start_time": "2022-01-05T05:03:30.996Z"
   },
   {
    "duration": 6901,
    "start_time": "2022-01-05T05:03:32.047Z"
   },
   {
    "duration": -1487,
    "start_time": "2022-01-05T05:03:40.437Z"
   },
   {
    "duration": 710,
    "start_time": "2022-01-05T05:16:58.951Z"
   },
   {
    "duration": 163,
    "start_time": "2022-01-05T05:16:59.664Z"
   },
   {
    "duration": 7905,
    "start_time": "2022-01-05T05:16:59.830Z"
   },
   {
    "duration": -1509,
    "start_time": "2022-01-05T05:17:09.246Z"
   },
   {
    "duration": -1517,
    "start_time": "2022-01-05T05:17:09.256Z"
   },
   {
    "duration": 817,
    "start_time": "2022-01-05T05:18:04.109Z"
   },
   {
    "duration": 159,
    "start_time": "2022-01-05T05:18:04.928Z"
   },
   {
    "duration": 7514,
    "start_time": "2022-01-05T05:18:05.090Z"
   },
   {
    "duration": -1499,
    "start_time": "2022-01-05T05:18:14.106Z"
   },
   {
    "duration": -1500,
    "start_time": "2022-01-05T05:18:14.109Z"
   },
   {
    "duration": 720,
    "start_time": "2022-01-05T05:18:44.930Z"
   },
   {
    "duration": 147,
    "start_time": "2022-01-05T05:18:45.653Z"
   },
   {
    "duration": 724,
    "start_time": "2022-01-05T05:18:47.060Z"
   },
   {
    "duration": 175,
    "start_time": "2022-01-05T05:18:47.787Z"
   },
   {
    "duration": 7170,
    "start_time": "2022-01-05T05:18:47.965Z"
   },
   {
    "duration": -1495,
    "start_time": "2022-01-05T05:18:56.633Z"
   },
   {
    "duration": -1495,
    "start_time": "2022-01-05T05:18:56.635Z"
   },
   {
    "duration": 729,
    "start_time": "2022-01-05T05:24:13.959Z"
   },
   {
    "duration": 168,
    "start_time": "2022-01-05T05:24:14.691Z"
   },
   {
    "duration": 110,
    "start_time": "2022-01-05T05:24:14.862Z"
   },
   {
    "duration": -1502,
    "start_time": "2022-01-05T05:24:16.478Z"
   },
   {
    "duration": -1504,
    "start_time": "2022-01-05T05:24:16.483Z"
   },
   {
    "duration": 746,
    "start_time": "2022-01-05T05:24:47.102Z"
   },
   {
    "duration": 152,
    "start_time": "2022-01-05T05:24:47.850Z"
   },
   {
    "duration": 470,
    "start_time": "2022-01-05T05:24:48.005Z"
   },
   {
    "duration": 8171,
    "start_time": "2022-01-05T05:24:48.478Z"
   },
   {
    "duration": -1502,
    "start_time": "2022-01-05T05:24:58.154Z"
   },
   {
    "duration": 740,
    "start_time": "2022-01-05T05:25:29.838Z"
   },
   {
    "duration": 168,
    "start_time": "2022-01-05T05:25:30.581Z"
   },
   {
    "duration": 7695,
    "start_time": "2022-01-05T05:25:30.752Z"
   },
   {
    "duration": -1514,
    "start_time": "2022-01-05T05:25:39.964Z"
   },
   {
    "duration": -1515,
    "start_time": "2022-01-05T05:25:39.967Z"
   },
   {
    "duration": 692,
    "start_time": "2022-01-05T05:26:21.260Z"
   },
   {
    "duration": 159,
    "start_time": "2022-01-05T05:26:21.954Z"
   },
   {
    "duration": 464,
    "start_time": "2022-01-05T05:26:22.116Z"
   },
   {
    "duration": 6812,
    "start_time": "2022-01-05T05:26:22.582Z"
   },
   {
    "duration": -1499,
    "start_time": "2022-01-05T05:26:30.897Z"
   },
   {
    "duration": 1008,
    "start_time": "2022-01-05T05:27:49.131Z"
   },
   {
    "duration": 167,
    "start_time": "2022-01-05T05:27:50.141Z"
   },
   {
    "duration": 12338,
    "start_time": "2022-01-05T05:27:50.312Z"
   },
   {
    "duration": -1502,
    "start_time": "2022-01-05T05:28:04.156Z"
   },
   {
    "duration": -1504,
    "start_time": "2022-01-05T05:28:04.160Z"
   },
   {
    "duration": 973,
    "start_time": "2022-01-05T05:28:44.579Z"
   },
   {
    "duration": 171,
    "start_time": "2022-01-05T05:28:45.556Z"
   },
   {
    "duration": 513,
    "start_time": "2022-01-05T05:28:45.731Z"
   },
   {
    "duration": 13246,
    "start_time": "2022-01-05T05:28:46.247Z"
   },
   {
    "duration": -1504,
    "start_time": "2022-01-05T05:29:01.000Z"
   },
   {
    "duration": 1370,
    "start_time": "2022-01-05T05:31:14.631Z"
   },
   {
    "duration": 177,
    "start_time": "2022-01-05T05:31:16.003Z"
   },
   {
    "duration": 12351,
    "start_time": "2022-01-05T05:31:16.183Z"
   },
   {
    "duration": -1506,
    "start_time": "2022-01-05T05:31:30.044Z"
   },
   {
    "duration": -1507,
    "start_time": "2022-01-05T05:31:30.048Z"
   },
   {
    "duration": 827,
    "start_time": "2022-01-05T05:32:30.302Z"
   },
   {
    "duration": 162,
    "start_time": "2022-01-05T05:32:31.131Z"
   },
   {
    "duration": 485,
    "start_time": "2022-01-05T05:32:31.298Z"
   },
   {
    "duration": 8944,
    "start_time": "2022-01-05T05:32:31.787Z"
   },
   {
    "duration": -1518,
    "start_time": "2022-01-05T05:32:42.252Z"
   },
   {
    "duration": 786,
    "start_time": "2022-01-05T05:36:38.393Z"
   },
   {
    "duration": 173,
    "start_time": "2022-01-05T05:36:39.182Z"
   },
   {
    "duration": 498,
    "start_time": "2022-01-05T05:36:39.358Z"
   },
   {
    "duration": 7695,
    "start_time": "2022-01-05T05:36:39.859Z"
   },
   {
    "duration": -1513,
    "start_time": "2022-01-05T05:36:49.070Z"
   },
   {
    "duration": 800,
    "start_time": "2022-01-05T05:37:54.600Z"
   },
   {
    "duration": 147,
    "start_time": "2022-01-05T05:37:55.423Z"
   },
   {
    "duration": 475,
    "start_time": "2022-01-05T05:37:55.573Z"
   },
   {
    "duration": 7413,
    "start_time": "2022-01-05T05:37:56.050Z"
   },
   {
    "duration": -1517,
    "start_time": "2022-01-05T05:38:04.983Z"
   },
   {
    "duration": 698,
    "start_time": "2022-01-05T05:39:23.359Z"
   },
   {
    "duration": 163,
    "start_time": "2022-01-05T05:39:24.060Z"
   },
   {
    "duration": 443,
    "start_time": "2022-01-05T05:39:24.226Z"
   },
   {
    "duration": 7732,
    "start_time": "2022-01-05T05:39:24.671Z"
   },
   {
    "duration": -1519,
    "start_time": "2022-01-05T05:39:33.925Z"
   },
   {
    "duration": 735,
    "start_time": "2022-01-05T06:42:44.343Z"
   },
   {
    "duration": 161,
    "start_time": "2022-01-05T06:42:45.081Z"
   },
   {
    "duration": 747,
    "start_time": "2022-01-05T06:42:45.245Z"
   },
   {
    "duration": -1610,
    "start_time": "2022-01-05T06:42:47.604Z"
   },
   {
    "duration": -1610,
    "start_time": "2022-01-05T06:42:47.606Z"
   },
   {
    "duration": 809,
    "start_time": "2022-01-05T06:44:21.047Z"
   },
   {
    "duration": 179,
    "start_time": "2022-01-05T06:44:21.859Z"
   },
   {
    "duration": 1581,
    "start_time": "2022-01-05T06:44:22.041Z"
   },
   {
    "duration": -1614,
    "start_time": "2022-01-05T06:44:25.240Z"
   },
   {
    "duration": -1614,
    "start_time": "2022-01-05T06:44:25.242Z"
   },
   {
    "duration": 729,
    "start_time": "2022-01-05T06:45:25.141Z"
   },
   {
    "duration": 161,
    "start_time": "2022-01-05T06:45:25.873Z"
   },
   {
    "duration": 1212,
    "start_time": "2022-01-05T06:45:26.037Z"
   },
   {
    "duration": 7078,
    "start_time": "2022-01-05T06:45:27.252Z"
   },
   {
    "duration": -1616,
    "start_time": "2022-01-05T06:45:35.948Z"
   },
   {
    "duration": 749,
    "start_time": "2022-01-05T06:48:52.882Z"
   },
   {
    "duration": 151,
    "start_time": "2022-01-05T06:48:53.633Z"
   },
   {
    "duration": 705,
    "start_time": "2022-01-05T06:48:53.787Z"
   },
   {
    "duration": -1607,
    "start_time": "2022-01-05T06:48:56.102Z"
   },
   {
    "duration": -1616,
    "start_time": "2022-01-05T06:48:56.112Z"
   },
   {
    "duration": -1619,
    "start_time": "2022-01-05T07:02:36.653Z"
   },
   {
    "duration": -1624,
    "start_time": "2022-01-05T07:02:36.660Z"
   },
   {
    "duration": -1625,
    "start_time": "2022-01-05T07:02:36.663Z"
   },
   {
    "duration": -1625,
    "start_time": "2022-01-05T07:02:36.665Z"
   },
   {
    "duration": -1625,
    "start_time": "2022-01-05T07:02:36.667Z"
   },
   {
    "duration": 789,
    "start_time": "2022-01-05T07:03:02.567Z"
   },
   {
    "duration": 154,
    "start_time": "2022-01-05T07:03:03.359Z"
   },
   {
    "duration": 742,
    "start_time": "2022-01-05T07:03:03.525Z"
   },
   {
    "duration": -1634,
    "start_time": "2022-01-05T07:03:05.904Z"
   },
   {
    "duration": -1635,
    "start_time": "2022-01-05T07:03:05.906Z"
   },
   {
    "duration": 789,
    "start_time": "2022-01-05T07:03:44.336Z"
   },
   {
    "duration": 154,
    "start_time": "2022-01-05T07:03:45.128Z"
   },
   {
    "duration": 1180,
    "start_time": "2022-01-05T07:03:45.285Z"
   },
   {
    "duration": -1634,
    "start_time": "2022-01-05T07:03:48.102Z"
   },
   {
    "duration": -1635,
    "start_time": "2022-01-05T07:03:48.105Z"
   },
   {
    "duration": 765,
    "start_time": "2022-01-05T07:13:16.660Z"
   },
   {
    "duration": 151,
    "start_time": "2022-01-05T07:13:17.428Z"
   },
   {
    "duration": 7455,
    "start_time": "2022-01-05T07:13:17.582Z"
   },
   {
    "duration": -1653,
    "start_time": "2022-01-05T07:13:26.693Z"
   },
   {
    "duration": -1658,
    "start_time": "2022-01-05T07:13:26.700Z"
   },
   {
    "duration": 735,
    "start_time": "2022-01-05T07:15:53.120Z"
   },
   {
    "duration": 151,
    "start_time": "2022-01-05T07:15:53.858Z"
   },
   {
    "duration": 7786,
    "start_time": "2022-01-05T07:15:54.023Z"
   },
   {
    "duration": -1661,
    "start_time": "2022-01-05T07:16:03.473Z"
   },
   {
    "duration": -1661,
    "start_time": "2022-01-05T07:16:03.475Z"
   },
   {
    "duration": 4587,
    "start_time": "2022-01-05T07:16:32.736Z"
   },
   {
    "duration": 160,
    "start_time": "2022-01-05T07:16:37.326Z"
   },
   {
    "duration": 3999,
    "start_time": "2022-01-05T07:16:37.491Z"
   },
   {
    "duration": 7442,
    "start_time": "2022-01-05T07:16:41.494Z"
   },
   {
    "duration": -1657,
    "start_time": "2022-01-05T07:16:50.596Z"
   },
   {
    "duration": 814,
    "start_time": "2022-01-05T07:17:50.509Z"
   },
   {
    "duration": 151,
    "start_time": "2022-01-05T07:17:51.326Z"
   },
   {
    "duration": 9721,
    "start_time": "2022-01-05T07:17:51.481Z"
   },
   {
    "duration": 9399,
    "start_time": "2022-01-05T07:18:01.206Z"
   },
   {
    "duration": -1644,
    "start_time": "2022-01-05T07:18:12.252Z"
   },
   {
    "duration": 961,
    "start_time": "2022-01-05T07:23:08.568Z"
   },
   {
    "duration": 179,
    "start_time": "2022-01-05T07:23:09.532Z"
   },
   {
    "duration": 10523,
    "start_time": "2022-01-05T07:23:09.714Z"
   },
   {
    "duration": 12347,
    "start_time": "2022-01-05T07:23:20.240Z"
   },
   {
    "duration": -1645,
    "start_time": "2022-01-05T07:23:34.234Z"
   },
   {
    "duration": 981,
    "start_time": "2022-01-05T07:27:43.220Z"
   },
   {
    "duration": 180,
    "start_time": "2022-01-05T07:27:44.204Z"
   },
   {
    "duration": 14554,
    "start_time": "2022-01-05T07:27:44.387Z"
   },
   {
    "duration": 11414,
    "start_time": "2022-01-05T07:27:58.944Z"
   },
   {
    "duration": -1672,
    "start_time": "2022-01-05T07:28:12.033Z"
   },
   {
    "duration": 1068,
    "start_time": "2022-01-05T07:30:42.590Z"
   },
   {
    "duration": 174,
    "start_time": "2022-01-05T07:30:43.662Z"
   },
   {
    "duration": 13924,
    "start_time": "2022-01-05T07:30:43.839Z"
   },
   {
    "duration": 9287,
    "start_time": "2022-01-05T07:30:57.765Z"
   },
   {
    "duration": -1679,
    "start_time": "2022-01-05T07:31:08.734Z"
   },
   {
    "duration": 730,
    "start_time": "2022-01-05T07:43:50.455Z"
   },
   {
    "duration": 153,
    "start_time": "2022-01-05T07:43:51.188Z"
   },
   {
    "duration": 13471,
    "start_time": "2022-01-05T07:43:51.344Z"
   },
   {
    "duration": 7012,
    "start_time": "2022-01-05T07:44:04.823Z"
   },
   {
    "duration": -1687,
    "start_time": "2022-01-05T07:44:13.524Z"
   },
   {
    "duration": 766,
    "start_time": "2022-01-05T07:48:31.377Z"
   },
   {
    "duration": 156,
    "start_time": "2022-01-05T07:48:32.145Z"
   },
   {
    "duration": 450,
    "start_time": "2022-01-05T07:48:32.304Z"
   },
   {
    "duration": 7261,
    "start_time": "2022-01-05T07:48:32.756Z"
   },
   {
    "duration": -1698,
    "start_time": "2022-01-05T07:48:41.718Z"
   },
   {
    "duration": 756,
    "start_time": "2022-01-05T07:51:51.622Z"
   },
   {
    "duration": 175,
    "start_time": "2022-01-05T07:51:52.381Z"
   },
   {
    "duration": 460,
    "start_time": "2022-01-05T07:51:52.560Z"
   },
   {
    "duration": 8013,
    "start_time": "2022-01-05T07:51:53.023Z"
   },
   {
    "duration": -1734,
    "start_time": "2022-01-05T07:52:02.773Z"
   },
   {
    "duration": 734,
    "start_time": "2022-01-05T07:58:50.606Z"
   },
   {
    "duration": 157,
    "start_time": "2022-01-05T07:58:51.343Z"
   },
   {
    "duration": 106,
    "start_time": "2022-01-05T07:58:51.504Z"
   },
   {
    "duration": -1679,
    "start_time": "2022-01-05T07:58:53.292Z"
   },
   {
    "duration": -1682,
    "start_time": "2022-01-05T07:58:53.296Z"
   },
   {
    "duration": 798,
    "start_time": "2022-01-05T07:59:21.054Z"
   },
   {
    "duration": 177,
    "start_time": "2022-01-05T07:59:21.856Z"
   },
   {
    "duration": 7340,
    "start_time": "2022-01-05T07:59:22.037Z"
   },
   {
    "duration": -1692,
    "start_time": "2022-01-05T07:59:31.072Z"
   },
   {
    "duration": -1697,
    "start_time": "2022-01-05T07:59:31.078Z"
   },
   {
    "duration": 772,
    "start_time": "2022-01-05T08:17:35.677Z"
   },
   {
    "duration": 155,
    "start_time": "2022-01-05T08:17:36.451Z"
   },
   {
    "duration": 105,
    "start_time": "2022-01-05T08:17:36.609Z"
   },
   {
    "duration": -1699,
    "start_time": "2022-01-05T08:17:38.416Z"
   },
   {
    "duration": -1699,
    "start_time": "2022-01-05T08:17:38.418Z"
   },
   {
    "duration": 816,
    "start_time": "2022-01-05T08:17:57.451Z"
   },
   {
    "duration": 183,
    "start_time": "2022-01-05T08:17:58.269Z"
   },
   {
    "duration": 744,
    "start_time": "2022-01-05T08:17:58.457Z"
   },
   {
    "duration": -1706,
    "start_time": "2022-01-05T08:18:00.910Z"
   },
   {
    "duration": -1705,
    "start_time": "2022-01-05T08:18:00.912Z"
   },
   {
    "duration": 726,
    "start_time": "2022-01-05T08:24:34.397Z"
   },
   {
    "duration": 149,
    "start_time": "2022-01-05T08:24:35.126Z"
   },
   {
    "duration": 472,
    "start_time": "2022-01-05T08:24:35.278Z"
   },
   {
    "duration": 7192,
    "start_time": "2022-01-05T08:24:35.753Z"
   },
   {
    "duration": -1759,
    "start_time": "2022-01-05T08:24:44.706Z"
   },
   {
    "duration": 742,
    "start_time": "2022-01-05T08:25:51.027Z"
   },
   {
    "duration": 163,
    "start_time": "2022-01-05T08:25:51.773Z"
   },
   {
    "duration": 562,
    "start_time": "2022-01-05T08:25:51.939Z"
   },
   {
    "duration": 7156,
    "start_time": "2022-01-05T08:25:52.503Z"
   },
   {
    "duration": -1741,
    "start_time": "2022-01-05T08:26:01.402Z"
   },
   {
    "duration": 744,
    "start_time": "2022-01-05T08:29:27.103Z"
   },
   {
    "duration": 161,
    "start_time": "2022-01-05T08:29:27.851Z"
   },
   {
    "duration": 743,
    "start_time": "2022-01-05T08:29:28.015Z"
   },
   {
    "duration": -1732,
    "start_time": "2022-01-05T08:29:30.493Z"
   },
   {
    "duration": -1734,
    "start_time": "2022-01-05T08:29:30.496Z"
   },
   {
    "duration": 6770,
    "start_time": "2022-01-05T08:29:51.425Z"
   },
   {
    "duration": 1686,
    "start_time": "2022-01-05T13:45:21.995Z"
   },
   {
    "duration": 175,
    "start_time": "2022-01-05T13:45:23.684Z"
   },
   {
    "duration": 608,
    "start_time": "2022-01-05T13:45:23.868Z"
   },
   {
    "duration": 8180,
    "start_time": "2022-01-05T13:45:24.479Z"
   },
   {
    "duration": -378,
    "start_time": "2022-01-05T13:45:33.041Z"
   },
   {
    "duration": 824,
    "start_time": "2022-01-05T13:51:28.403Z"
   },
   {
    "duration": 194,
    "start_time": "2022-01-05T13:51:29.231Z"
   },
   {
    "duration": 1434,
    "start_time": "2022-01-05T13:51:29.428Z"
   },
   {
    "duration": -383,
    "start_time": "2022-01-05T13:51:31.248Z"
   },
   {
    "duration": -396,
    "start_time": "2022-01-05T13:51:31.262Z"
   },
   {
    "duration": 851,
    "start_time": "2022-01-05T13:53:49.217Z"
   },
   {
    "duration": 163,
    "start_time": "2022-01-05T13:53:50.071Z"
   },
   {
    "duration": 576,
    "start_time": "2022-01-05T13:53:50.237Z"
   },
   {
    "duration": 6580,
    "start_time": "2022-01-05T13:53:50.815Z"
   },
   {
    "duration": -403,
    "start_time": "2022-01-05T13:53:57.800Z"
   },
   {
    "duration": 831,
    "start_time": "2022-01-05T13:59:45.003Z"
   },
   {
    "duration": 184,
    "start_time": "2022-01-05T13:59:45.840Z"
   },
   {
    "duration": 739,
    "start_time": "2022-01-05T13:59:46.028Z"
   },
   {
    "duration": -406,
    "start_time": "2022-01-05T13:59:47.177Z"
   },
   {
    "duration": -405,
    "start_time": "2022-01-05T13:59:47.179Z"
   },
   {
    "duration": 839,
    "start_time": "2022-01-05T14:00:33.746Z"
   },
   {
    "duration": 168,
    "start_time": "2022-01-05T14:00:34.588Z"
   },
   {
    "duration": 580,
    "start_time": "2022-01-05T14:00:34.759Z"
   },
   {
    "duration": 7309,
    "start_time": "2022-01-05T14:00:35.341Z"
   },
   {
    "duration": -401,
    "start_time": "2022-01-05T14:00:43.054Z"
   },
   {
    "duration": 850,
    "start_time": "2022-01-05T14:05:10.044Z"
   },
   {
    "duration": 266,
    "start_time": "2022-01-05T14:05:10.896Z"
   },
   {
    "duration": 7429,
    "start_time": "2022-01-05T14:05:11.170Z"
   },
   {
    "duration": -416,
    "start_time": "2022-01-05T14:05:19.018Z"
   },
   {
    "duration": -421,
    "start_time": "2022-01-05T14:05:19.026Z"
   },
   {
    "duration": 871,
    "start_time": "2022-01-05T14:06:37.204Z"
   },
   {
    "duration": 172,
    "start_time": "2022-01-05T14:06:38.079Z"
   },
   {
    "duration": 7306,
    "start_time": "2022-01-05T14:06:38.254Z"
   },
   {
    "duration": -415,
    "start_time": "2022-01-05T14:06:45.979Z"
   },
   {
    "duration": -418,
    "start_time": "2022-01-05T14:06:45.983Z"
   },
   {
    "duration": 902,
    "start_time": "2022-01-05T14:07:23.730Z"
   },
   {
    "duration": 179,
    "start_time": "2022-01-05T14:07:24.635Z"
   },
   {
    "duration": 109,
    "start_time": "2022-01-05T14:07:24.817Z"
   },
   {
    "duration": -402,
    "start_time": "2022-01-05T14:07:25.330Z"
   },
   {
    "duration": -407,
    "start_time": "2022-01-05T14:07:25.337Z"
   },
   {
    "duration": 835,
    "start_time": "2022-01-05T14:07:51.209Z"
   },
   {
    "duration": 178,
    "start_time": "2022-01-05T14:07:52.048Z"
   },
   {
    "duration": 102,
    "start_time": "2022-01-05T14:07:52.229Z"
   },
   {
    "duration": -391,
    "start_time": "2022-01-05T14:07:52.725Z"
   },
   {
    "duration": -399,
    "start_time": "2022-01-05T14:07:52.735Z"
   },
   {
    "duration": 880,
    "start_time": "2022-01-05T14:08:21.200Z"
   },
   {
    "duration": 173,
    "start_time": "2022-01-05T14:08:22.083Z"
   },
   {
    "duration": 7394,
    "start_time": "2022-01-05T14:08:22.259Z"
   },
   {
    "duration": -417,
    "start_time": "2022-01-05T14:08:30.074Z"
   },
   {
    "duration": -420,
    "start_time": "2022-01-05T14:08:30.080Z"
   },
   {
    "duration": 863,
    "start_time": "2022-01-05T14:11:55.981Z"
   },
   {
    "duration": 198,
    "start_time": "2022-01-05T14:11:56.846Z"
   },
   {
    "duration": 674,
    "start_time": "2022-01-05T14:11:57.048Z"
   },
   {
    "duration": -431,
    "start_time": "2022-01-05T14:11:58.157Z"
   },
   {
    "duration": -431,
    "start_time": "2022-01-05T14:11:58.159Z"
   },
   {
    "duration": 898,
    "start_time": "2022-01-05T14:12:39.971Z"
   },
   {
    "duration": 207,
    "start_time": "2022-01-05T14:12:40.873Z"
   },
   {
    "duration": 569,
    "start_time": "2022-01-05T14:12:41.083Z"
   },
   {
    "duration": 6915,
    "start_time": "2022-01-05T14:12:41.655Z"
   },
   {
    "duration": -409,
    "start_time": "2022-01-05T14:12:48.981Z"
   },
   {
    "duration": 812,
    "start_time": "2022-01-05T14:13:47.979Z"
   },
   {
    "duration": 186,
    "start_time": "2022-01-05T14:13:48.794Z"
   },
   {
    "duration": 602,
    "start_time": "2022-01-05T14:13:48.983Z"
   },
   {
    "duration": 7937,
    "start_time": "2022-01-05T14:13:49.588Z"
   },
   {
    "duration": -417,
    "start_time": "2022-01-05T14:13:57.945Z"
   },
   {
    "duration": 805,
    "start_time": "2022-01-05T14:15:55.792Z"
   },
   {
    "duration": 176,
    "start_time": "2022-01-05T14:15:56.600Z"
   },
   {
    "duration": 613,
    "start_time": "2022-01-05T14:15:56.779Z"
   },
   {
    "duration": 8842,
    "start_time": "2022-01-05T14:15:57.394Z"
   },
   {
    "duration": -431,
    "start_time": "2022-01-05T14:16:06.671Z"
   },
   {
    "duration": 816,
    "start_time": "2022-01-05T14:16:52.510Z"
   },
   {
    "duration": 186,
    "start_time": "2022-01-05T14:16:53.328Z"
   },
   {
    "duration": 657,
    "start_time": "2022-01-05T14:16:53.517Z"
   },
   {
    "duration": 7361,
    "start_time": "2022-01-05T14:16:54.176Z"
   },
   {
    "duration": -431,
    "start_time": "2022-01-05T14:17:01.972Z"
   },
   {
    "duration": 811,
    "start_time": "2022-01-05T14:17:24.397Z"
   },
   {
    "duration": 182,
    "start_time": "2022-01-05T14:17:25.211Z"
   },
   {
    "duration": 587,
    "start_time": "2022-01-05T14:17:25.396Z"
   },
   {
    "duration": 7114,
    "start_time": "2022-01-05T14:17:25.985Z"
   },
   {
    "duration": -433,
    "start_time": "2022-01-05T14:17:33.534Z"
   },
   {
    "duration": 883,
    "start_time": "2022-01-05T14:18:07.589Z"
   },
   {
    "duration": 172,
    "start_time": "2022-01-05T14:18:08.475Z"
   },
   {
    "duration": 586,
    "start_time": "2022-01-05T14:18:08.650Z"
   },
   {
    "duration": 6999,
    "start_time": "2022-01-05T14:18:09.238Z"
   },
   {
    "duration": -424,
    "start_time": "2022-01-05T14:18:16.664Z"
   },
   {
    "duration": 849,
    "start_time": "2022-01-05T14:19:31.820Z"
   },
   {
    "duration": 169,
    "start_time": "2022-01-05T14:19:32.672Z"
   },
   {
    "duration": 592,
    "start_time": "2022-01-05T14:19:32.844Z"
   },
   {
    "duration": 7226,
    "start_time": "2022-01-05T14:19:33.438Z"
   },
   {
    "duration": -415,
    "start_time": "2022-01-05T14:19:41.082Z"
   },
   {
    "duration": 879,
    "start_time": "2022-01-05T14:20:00.810Z"
   },
   {
    "duration": 189,
    "start_time": "2022-01-05T14:20:01.691Z"
   },
   {
    "duration": 587,
    "start_time": "2022-01-05T14:20:01.883Z"
   },
   {
    "duration": 7495,
    "start_time": "2022-01-05T14:20:02.473Z"
   },
   {
    "duration": -435,
    "start_time": "2022-01-05T14:20:10.406Z"
   },
   {
    "duration": 940,
    "start_time": "2022-01-05T14:23:31.255Z"
   },
   {
    "duration": 180,
    "start_time": "2022-01-05T14:23:32.197Z"
   },
   {
    "duration": 600,
    "start_time": "2022-01-05T14:23:32.379Z"
   },
   {
    "duration": 7052,
    "start_time": "2022-01-05T14:23:32.981Z"
   },
   {
    "duration": -428,
    "start_time": "2022-01-05T14:23:40.465Z"
   },
   {
    "duration": 816,
    "start_time": "2022-01-05T14:30:48.406Z"
   },
   {
    "duration": 193,
    "start_time": "2022-01-05T14:30:49.226Z"
   },
   {
    "duration": 584,
    "start_time": "2022-01-05T14:30:49.422Z"
   },
   {
    "duration": 7822,
    "start_time": "2022-01-05T14:30:50.009Z"
   },
   {
    "duration": -447,
    "start_time": "2022-01-05T14:30:58.281Z"
   },
   {
    "duration": 867,
    "start_time": "2022-01-05T14:32:00.905Z"
   },
   {
    "duration": 175,
    "start_time": "2022-01-05T14:32:01.775Z"
   },
   {
    "duration": 362,
    "start_time": "2022-01-05T14:32:01.952Z"
   },
   {
    "duration": -458,
    "start_time": "2022-01-05T14:32:02.776Z"
   },
   {
    "duration": -459,
    "start_time": "2022-01-05T14:32:02.779Z"
   },
   {
    "duration": 871,
    "start_time": "2022-01-05T14:32:27.420Z"
   },
   {
    "duration": 189,
    "start_time": "2022-01-05T14:32:28.294Z"
   },
   {
    "duration": 292,
    "start_time": "2022-01-05T14:32:28.486Z"
   },
   {
    "duration": -443,
    "start_time": "2022-01-05T14:32:29.223Z"
   },
   {
    "duration": -450,
    "start_time": "2022-01-05T14:32:29.232Z"
   },
   {
    "duration": 838,
    "start_time": "2022-01-05T14:33:19.475Z"
   },
   {
    "duration": 184,
    "start_time": "2022-01-05T14:33:20.316Z"
   },
   {
    "duration": 500,
    "start_time": "2022-01-05T14:33:20.503Z"
   },
   {
    "duration": 6690,
    "start_time": "2022-01-05T14:33:21.006Z"
   },
   {
    "duration": -448,
    "start_time": "2022-01-05T14:33:28.146Z"
   },
   {
    "duration": 809,
    "start_time": "2022-01-05T14:34:36.801Z"
   },
   {
    "duration": 186,
    "start_time": "2022-01-05T14:34:37.613Z"
   },
   {
    "duration": 8169,
    "start_time": "2022-01-05T14:34:37.801Z"
   },
   {
    "duration": -449,
    "start_time": "2022-01-05T14:34:46.422Z"
   },
   {
    "duration": -450,
    "start_time": "2022-01-05T14:34:46.424Z"
   },
   {
    "duration": 1046,
    "start_time": "2022-01-05T14:35:31.424Z"
   },
   {
    "duration": 214,
    "start_time": "2022-01-05T14:35:32.474Z"
   },
   {
    "duration": 503,
    "start_time": "2022-01-05T14:35:32.692Z"
   },
   {
    "duration": 6793,
    "start_time": "2022-01-05T14:35:33.199Z"
   },
   {
    "duration": -494,
    "start_time": "2022-01-05T14:35:40.488Z"
   },
   {
    "duration": 812,
    "start_time": "2022-01-05T14:37:10.022Z"
   },
   {
    "duration": 183,
    "start_time": "2022-01-05T14:37:10.836Z"
   },
   {
    "duration": 624,
    "start_time": "2022-01-05T14:37:11.022Z"
   },
   {
    "duration": 7027,
    "start_time": "2022-01-05T14:37:11.649Z"
   },
   {
    "duration": -465,
    "start_time": "2022-01-05T14:37:19.144Z"
   },
   {
    "duration": 858,
    "start_time": "2022-01-05T14:38:39.541Z"
   },
   {
    "duration": 175,
    "start_time": "2022-01-05T14:38:40.402Z"
   },
   {
    "duration": 661,
    "start_time": "2022-01-05T14:38:40.580Z"
   },
   {
    "duration": 6834,
    "start_time": "2022-01-05T14:38:41.243Z"
   },
   {
    "duration": -455,
    "start_time": "2022-01-05T14:38:48.535Z"
   },
   {
    "duration": 825,
    "start_time": "2022-01-05T14:40:47.642Z"
   },
   {
    "duration": 163,
    "start_time": "2022-01-05T14:40:48.470Z"
   },
   {
    "duration": 681,
    "start_time": "2022-01-05T14:40:48.635Z"
   },
   {
    "duration": 7933,
    "start_time": "2022-01-05T14:40:49.319Z"
   },
   {
    "duration": -459,
    "start_time": "2022-01-05T14:40:57.714Z"
   },
   {
    "duration": 858,
    "start_time": "2022-01-05T14:42:08.320Z"
   },
   {
    "duration": 162,
    "start_time": "2022-01-05T14:42:09.181Z"
   },
   {
    "duration": 647,
    "start_time": "2022-01-05T14:42:09.346Z"
   },
   {
    "duration": 6735,
    "start_time": "2022-01-05T14:42:09.996Z"
   },
   {
    "duration": -507,
    "start_time": "2022-01-05T14:42:17.241Z"
   },
   {
    "duration": 832,
    "start_time": "2022-01-05T14:42:39.615Z"
   },
   {
    "duration": 176,
    "start_time": "2022-01-05T14:42:40.468Z"
   },
   {
    "duration": 701,
    "start_time": "2022-01-05T14:42:40.648Z"
   },
   {
    "duration": 7145,
    "start_time": "2022-01-05T14:42:41.352Z"
   },
   {
    "duration": -463,
    "start_time": "2022-01-05T14:42:48.962Z"
   },
   {
    "duration": 782,
    "start_time": "2022-01-05T14:43:52.950Z"
   },
   {
    "duration": 183,
    "start_time": "2022-01-05T14:43:53.734Z"
   },
   {
    "duration": 668,
    "start_time": "2022-01-05T14:43:53.920Z"
   },
   {
    "duration": 7377,
    "start_time": "2022-01-05T14:43:54.591Z"
   },
   {
    "duration": -464,
    "start_time": "2022-01-05T14:44:02.435Z"
   },
   {
    "duration": 882,
    "start_time": "2022-01-05T14:45:05.116Z"
   },
   {
    "duration": 176,
    "start_time": "2022-01-05T14:45:06.001Z"
   },
   {
    "duration": 643,
    "start_time": "2022-01-05T14:45:06.180Z"
   },
   {
    "duration": 6878,
    "start_time": "2022-01-05T14:45:06.825Z"
   },
   {
    "duration": -471,
    "start_time": "2022-01-05T14:45:14.177Z"
   },
   {
    "duration": 818,
    "start_time": "2022-01-05T14:46:03.580Z"
   },
   {
    "duration": 176,
    "start_time": "2022-01-05T14:46:04.401Z"
   },
   {
    "duration": 687,
    "start_time": "2022-01-05T14:46:04.580Z"
   },
   {
    "duration": 6630,
    "start_time": "2022-01-05T14:46:05.269Z"
   },
   {
    "duration": -466,
    "start_time": "2022-01-05T14:46:12.368Z"
   },
   {
    "duration": 913,
    "start_time": "2022-01-05T14:48:31.361Z"
   },
   {
    "duration": 172,
    "start_time": "2022-01-05T14:48:32.278Z"
   },
   {
    "duration": 707,
    "start_time": "2022-01-05T14:48:32.454Z"
   },
   {
    "duration": 7540,
    "start_time": "2022-01-05T14:48:33.169Z"
   },
   {
    "duration": -489,
    "start_time": "2022-01-05T14:48:41.201Z"
   },
   {
    "duration": 824,
    "start_time": "2022-01-05T14:49:28.816Z"
   },
   {
    "duration": 205,
    "start_time": "2022-01-05T14:49:29.644Z"
   },
   {
    "duration": 688,
    "start_time": "2022-01-05T14:49:29.853Z"
   },
   {
    "duration": -456,
    "start_time": "2022-01-05T14:49:31.000Z"
   },
   {
    "duration": -464,
    "start_time": "2022-01-05T14:49:31.009Z"
   },
   {
    "duration": 852,
    "start_time": "2022-01-05T14:49:52.127Z"
   },
   {
    "duration": 168,
    "start_time": "2022-01-05T14:49:52.982Z"
   },
   {
    "duration": 636,
    "start_time": "2022-01-05T14:49:53.153Z"
   },
   {
    "duration": 8259,
    "start_time": "2022-01-05T14:49:53.791Z"
   },
   {
    "duration": -470,
    "start_time": "2022-01-05T14:50:02.523Z"
   },
   {
    "duration": 836,
    "start_time": "2022-01-05T14:51:48.253Z"
   },
   {
    "duration": 182,
    "start_time": "2022-01-05T14:51:49.092Z"
   },
   {
    "duration": 667,
    "start_time": "2022-01-05T14:51:49.277Z"
   },
   {
    "duration": 7162,
    "start_time": "2022-01-05T14:51:49.947Z"
   },
   {
    "duration": -470,
    "start_time": "2022-01-05T14:51:57.582Z"
   },
   {
    "duration": -464,
    "start_time": "2022-01-05T15:01:34.761Z"
   },
   {
    "duration": -468,
    "start_time": "2022-01-05T15:01:34.767Z"
   },
   {
    "duration": -469,
    "start_time": "2022-01-05T15:01:34.770Z"
   },
   {
    "duration": -470,
    "start_time": "2022-01-05T15:01:34.772Z"
   },
   {
    "duration": -470,
    "start_time": "2022-01-05T15:01:34.774Z"
   },
   {
    "duration": 819,
    "start_time": "2022-01-05T15:02:00.248Z"
   },
   {
    "duration": 160,
    "start_time": "2022-01-05T15:02:01.070Z"
   },
   {
    "duration": 624,
    "start_time": "2022-01-05T15:02:01.233Z"
   },
   {
    "duration": 6691,
    "start_time": "2022-01-05T15:02:01.868Z"
   },
   {
    "duration": -506,
    "start_time": "2022-01-05T15:02:09.067Z"
   },
   {
    "duration": 816,
    "start_time": "2022-01-05T15:03:44.767Z"
   },
   {
    "duration": 172,
    "start_time": "2022-01-05T15:03:45.586Z"
   },
   {
    "duration": 622,
    "start_time": "2022-01-05T15:03:45.761Z"
   },
   {
    "duration": 6484,
    "start_time": "2022-01-05T15:03:46.386Z"
   },
   {
    "duration": -509,
    "start_time": "2022-01-05T15:03:53.381Z"
   },
   {
    "duration": 780,
    "start_time": "2022-01-05T16:00:02.652Z"
   },
   {
    "duration": 177,
    "start_time": "2022-01-05T16:00:03.434Z"
   },
   {
    "duration": 875,
    "start_time": "2022-01-05T16:00:03.614Z"
   },
   {
    "duration": -545,
    "start_time": "2022-01-05T16:00:05.037Z"
   },
   {
    "duration": -552,
    "start_time": "2022-01-05T16:00:05.046Z"
   },
   {
    "duration": 845,
    "start_time": "2022-01-05T16:01:38.675Z"
   },
   {
    "duration": 178,
    "start_time": "2022-01-05T16:01:39.524Z"
   },
   {
    "duration": 895,
    "start_time": "2022-01-05T16:01:39.705Z"
   },
   {
    "duration": -544,
    "start_time": "2022-01-05T16:01:41.148Z"
   },
   {
    "duration": -551,
    "start_time": "2022-01-05T16:01:41.156Z"
   },
   {
    "duration": 799,
    "start_time": "2022-01-05T16:04:12.216Z"
   },
   {
    "duration": 166,
    "start_time": "2022-01-05T16:04:13.017Z"
   },
   {
    "duration": 2772,
    "start_time": "2022-01-05T16:04:13.186Z"
   },
   {
    "duration": 6812,
    "start_time": "2022-01-05T16:04:15.968Z"
   },
   {
    "duration": -571,
    "start_time": "2022-01-05T16:04:23.354Z"
   },
   {
    "duration": 883,
    "start_time": "2022-01-05T16:09:14.226Z"
   },
   {
    "duration": 212,
    "start_time": "2022-01-05T16:09:15.113Z"
   },
   {
    "duration": 2741,
    "start_time": "2022-01-05T16:09:15.328Z"
   },
   {
    "duration": 8127,
    "start_time": "2022-01-05T16:09:18.073Z"
   },
   {
    "duration": -607,
    "start_time": "2022-01-05T16:09:26.810Z"
   },
   {
    "duration": 810,
    "start_time": "2022-01-05T16:12:12.470Z"
   },
   {
    "duration": 167,
    "start_time": "2022-01-05T16:12:13.283Z"
   },
   {
    "duration": 3853,
    "start_time": "2022-01-05T16:12:13.453Z"
   },
   {
    "duration": 6811,
    "start_time": "2022-01-05T16:12:17.309Z"
   },
   {
    "duration": -599,
    "start_time": "2022-01-05T16:12:24.721Z"
   },
   {
    "duration": 867,
    "start_time": "2022-01-05T16:13:30.764Z"
   },
   {
    "duration": 186,
    "start_time": "2022-01-05T16:13:31.634Z"
   },
   {
    "duration": 2727,
    "start_time": "2022-01-05T16:13:31.824Z"
   },
   {
    "duration": 7182,
    "start_time": "2022-01-05T16:13:34.554Z"
   },
   {
    "duration": -593,
    "start_time": "2022-01-05T16:13:42.332Z"
   },
   {
    "duration": 127,
    "start_time": "2022-01-05T16:15:56.888Z"
   },
   {
    "duration": 857,
    "start_time": "2022-01-05T16:16:15.593Z"
   },
   {
    "duration": 171,
    "start_time": "2022-01-05T16:16:16.468Z"
   },
   {
    "duration": 964,
    "start_time": "2022-01-05T16:16:16.643Z"
   },
   {
    "duration": -567,
    "start_time": "2022-01-05T16:16:18.177Z"
   },
   {
    "duration": -572,
    "start_time": "2022-01-05T16:16:18.183Z"
   },
   {
    "duration": 841,
    "start_time": "2022-01-05T16:16:48.592Z"
   },
   {
    "duration": 183,
    "start_time": "2022-01-05T16:16:49.436Z"
   },
   {
    "duration": 2644,
    "start_time": "2022-01-05T16:16:49.623Z"
   },
   {
    "duration": 8513,
    "start_time": "2022-01-05T16:16:52.270Z"
   },
   {
    "duration": -577,
    "start_time": "2022-01-05T16:17:01.364Z"
   },
   {
    "duration": 835,
    "start_time": "2022-01-05T16:17:29.087Z"
   },
   {
    "duration": 186,
    "start_time": "2022-01-05T16:17:29.926Z"
   },
   {
    "duration": 1000,
    "start_time": "2022-01-05T16:17:30.116Z"
   },
   {
    "duration": -561,
    "start_time": "2022-01-05T16:17:31.679Z"
   },
   {
    "duration": -573,
    "start_time": "2022-01-05T16:17:31.693Z"
   },
   {
    "duration": 881,
    "start_time": "2022-01-05T16:19:46.317Z"
   },
   {
    "duration": 245,
    "start_time": "2022-01-05T16:19:47.201Z"
   },
   {
    "duration": 3199,
    "start_time": "2022-01-05T16:19:47.450Z"
   },
   {
    "duration": 7481,
    "start_time": "2022-01-05T16:19:50.653Z"
   },
   {
    "duration": -610,
    "start_time": "2022-01-05T16:19:58.748Z"
   },
   {
    "duration": 789,
    "start_time": "2022-01-05T16:22:16.417Z"
   },
   {
    "duration": 173,
    "start_time": "2022-01-05T16:22:17.208Z"
   },
   {
    "duration": 2701,
    "start_time": "2022-01-05T16:22:17.384Z"
   },
   {
    "duration": 6840,
    "start_time": "2022-01-05T16:22:20.088Z"
   },
   {
    "duration": -594,
    "start_time": "2022-01-05T16:22:27.525Z"
   },
   {
    "duration": 814,
    "start_time": "2022-01-05T16:23:53.696Z"
   },
   {
    "duration": 192,
    "start_time": "2022-01-05T16:23:54.513Z"
   },
   {
    "duration": 969,
    "start_time": "2022-01-05T16:23:54.707Z"
   },
   {
    "duration": -573,
    "start_time": "2022-01-05T16:23:56.252Z"
   },
   {
    "duration": -580,
    "start_time": "2022-01-05T16:23:56.260Z"
   },
   {
    "duration": 872,
    "start_time": "2022-01-05T16:24:15.600Z"
   },
   {
    "duration": 176,
    "start_time": "2022-01-05T16:24:16.475Z"
   },
   {
    "duration": 869,
    "start_time": "2022-01-05T16:24:16.655Z"
   },
   {
    "duration": -568,
    "start_time": "2022-01-05T16:24:18.096Z"
   },
   {
    "duration": -582,
    "start_time": "2022-01-05T16:24:18.112Z"
   },
   {
    "duration": 780,
    "start_time": "2022-01-05T16:24:36.943Z"
   },
   {
    "duration": 180,
    "start_time": "2022-01-05T16:24:37.726Z"
   },
   {
    "duration": 2622,
    "start_time": "2022-01-05T16:24:37.909Z"
   },
   {
    "duration": 6980,
    "start_time": "2022-01-05T16:24:40.534Z"
   },
   {
    "duration": -606,
    "start_time": "2022-01-05T16:24:48.122Z"
   },
   {
    "duration": 1021,
    "start_time": "2022-01-05T16:25:25.278Z"
   },
   {
    "duration": 254,
    "start_time": "2022-01-05T16:25:26.303Z"
   },
   {
    "duration": 3847,
    "start_time": "2022-01-05T16:25:26.560Z"
   },
   {
    "duration": 6885,
    "start_time": "2022-01-05T16:25:30.410Z"
   },
   {
    "duration": -633,
    "start_time": "2022-01-05T16:25:37.931Z"
   },
   {
    "duration": 819,
    "start_time": "2022-01-05T16:26:44.382Z"
   },
   {
    "duration": 178,
    "start_time": "2022-01-05T16:26:45.203Z"
   },
   {
    "duration": 2582,
    "start_time": "2022-01-05T16:26:45.385Z"
   },
   {
    "duration": 7292,
    "start_time": "2022-01-05T16:26:47.970Z"
   },
   {
    "duration": -756,
    "start_time": "2022-01-05T16:26:56.021Z"
   },
   {
    "duration": 846,
    "start_time": "2022-01-05T16:38:02.567Z"
   },
   {
    "duration": 251,
    "start_time": "2022-01-05T16:38:03.415Z"
   },
   {
    "duration": 2484,
    "start_time": "2022-01-05T16:38:03.671Z"
   },
   {
    "duration": 6840,
    "start_time": "2022-01-05T16:38:06.157Z"
   },
   {
    "duration": -586,
    "start_time": "2022-01-05T16:38:13.586Z"
   },
   {
    "duration": 782,
    "start_time": "2022-01-05T16:45:01.623Z"
   },
   {
    "duration": 183,
    "start_time": "2022-01-05T16:45:02.408Z"
   },
   {
    "duration": 5055,
    "start_time": "2022-01-05T16:45:02.594Z"
   },
   {
    "duration": 6739,
    "start_time": "2022-01-05T16:45:07.652Z"
   },
   {
    "duration": -609,
    "start_time": "2022-01-05T16:45:15.002Z"
   },
   {
    "duration": 986,
    "start_time": "2022-01-05T16:49:04.035Z"
   },
   {
    "duration": 217,
    "start_time": "2022-01-05T16:49:05.024Z"
   },
   {
    "duration": 3405,
    "start_time": "2022-01-05T16:49:05.244Z"
   },
   {
    "duration": 7096,
    "start_time": "2022-01-05T16:49:08.652Z"
   },
   {
    "duration": -619,
    "start_time": "2022-01-05T16:49:16.370Z"
   },
   {
    "duration": 807,
    "start_time": "2022-01-05T16:51:18.408Z"
   },
   {
    "duration": 195,
    "start_time": "2022-01-05T16:51:19.218Z"
   },
   {
    "duration": 3377,
    "start_time": "2022-01-05T16:51:19.417Z"
   },
   {
    "duration": 6471,
    "start_time": "2022-01-05T16:51:22.798Z"
   },
   {
    "duration": -677,
    "start_time": "2022-01-05T16:51:29.948Z"
   },
   {
    "duration": 814,
    "start_time": "2022-01-05T16:58:40.923Z"
   },
   {
    "duration": 197,
    "start_time": "2022-01-05T16:58:41.740Z"
   },
   {
    "duration": 4039,
    "start_time": "2022-01-05T16:58:41.940Z"
   },
   {
    "duration": 6691,
    "start_time": "2022-01-05T16:58:45.982Z"
   },
   {
    "duration": -657,
    "start_time": "2022-01-05T16:58:53.333Z"
   },
   {
    "duration": 842,
    "start_time": "2022-01-05T17:33:50.150Z"
   },
   {
    "duration": 239,
    "start_time": "2022-01-05T17:33:50.995Z"
   },
   {
    "duration": 3496,
    "start_time": "2022-01-05T17:33:51.239Z"
   },
   {
    "duration": 7399,
    "start_time": "2022-01-05T17:33:54.738Z"
   },
   {
    "duration": -681,
    "start_time": "2022-01-05T17:34:02.822Z"
   },
   {
    "duration": 1018,
    "start_time": "2022-01-05T18:27:11.075Z"
   },
   {
    "duration": 182,
    "start_time": "2022-01-05T18:27:12.096Z"
   },
   {
    "duration": 3723,
    "start_time": "2022-01-05T18:27:12.282Z"
   },
   {
    "duration": 263,
    "start_time": "2022-01-05T18:27:15.745Z"
   },
   {
    "duration": 252,
    "start_time": "2022-01-05T18:27:15.757Z"
   },
   {
    "duration": 765,
    "start_time": "2022-01-05T18:27:56.180Z"
   },
   {
    "duration": 178,
    "start_time": "2022-01-05T18:27:56.948Z"
   },
   {
    "duration": 3610,
    "start_time": "2022-01-05T18:27:57.129Z"
   },
   {
    "duration": 261,
    "start_time": "2022-01-05T18:28:00.481Z"
   },
   {
    "duration": 250,
    "start_time": "2022-01-05T18:28:00.494Z"
   },
   {
    "duration": 808,
    "start_time": "2022-01-05T18:29:08.171Z"
   },
   {
    "duration": 170,
    "start_time": "2022-01-05T18:29:08.983Z"
   },
   {
    "duration": 3372,
    "start_time": "2022-01-05T18:29:09.155Z"
   },
   {
    "duration": 6674,
    "start_time": "2022-01-05T18:29:12.529Z"
   },
   {
    "duration": 209,
    "start_time": "2022-01-05T18:29:18.998Z"
   },
   {
    "duration": 791,
    "start_time": "2022-01-05T18:30:02.330Z"
   },
   {
    "duration": 178,
    "start_time": "2022-01-05T18:30:03.124Z"
   },
   {
    "duration": 3343,
    "start_time": "2022-01-05T18:30:03.305Z"
   },
   {
    "duration": 7441,
    "start_time": "2022-01-05T18:30:06.651Z"
   },
   {
    "duration": 236,
    "start_time": "2022-01-05T18:30:13.859Z"
   },
   {
    "duration": 805,
    "start_time": "2022-01-05T18:30:34.402Z"
   },
   {
    "duration": 188,
    "start_time": "2022-01-05T18:30:35.210Z"
   },
   {
    "duration": 3385,
    "start_time": "2022-01-05T18:30:35.401Z"
   },
   {
    "duration": 7163,
    "start_time": "2022-01-05T18:30:38.789Z"
   },
   {
    "duration": 203,
    "start_time": "2022-01-05T18:30:45.751Z"
   },
   {
    "duration": 811,
    "start_time": "2022-01-05T18:33:17.662Z"
   },
   {
    "duration": 164,
    "start_time": "2022-01-05T18:33:18.475Z"
   },
   {
    "duration": 3339,
    "start_time": "2022-01-05T18:33:18.642Z"
   },
   {
    "duration": 6491,
    "start_time": "2022-01-05T18:33:21.983Z"
   },
   {
    "duration": 232,
    "start_time": "2022-01-05T18:33:28.245Z"
   },
   {
    "duration": 788,
    "start_time": "2022-01-05T18:33:52.806Z"
   },
   {
    "duration": 172,
    "start_time": "2022-01-05T18:33:53.597Z"
   },
   {
    "duration": 3341,
    "start_time": "2022-01-05T18:33:53.772Z"
   },
   {
    "duration": 8257,
    "start_time": "2022-01-05T18:33:57.116Z"
   },
   {
    "duration": 220,
    "start_time": "2022-01-05T18:34:05.155Z"
   },
   {
    "duration": 789,
    "start_time": "2022-01-05T18:38:04.208Z"
   },
   {
    "duration": 186,
    "start_time": "2022-01-05T18:38:05.001Z"
   },
   {
    "duration": 3329,
    "start_time": "2022-01-05T18:38:05.190Z"
   },
   {
    "duration": 6896,
    "start_time": "2022-01-05T18:38:08.521Z"
   },
   {
    "duration": 242,
    "start_time": "2022-01-05T18:38:15.178Z"
   },
   {
    "duration": 905,
    "start_time": "2022-01-05T18:38:39.822Z"
   },
   {
    "duration": 167,
    "start_time": "2022-01-05T18:38:40.730Z"
   },
   {
    "duration": 3524,
    "start_time": "2022-01-05T18:38:40.900Z"
   },
   {
    "duration": 7463,
    "start_time": "2022-01-05T18:38:44.426Z"
   },
   {
    "duration": 151,
    "start_time": "2022-01-05T18:38:51.740Z"
   },
   {
    "duration": 783,
    "start_time": "2022-01-05T18:39:38.695Z"
   },
   {
    "duration": 172,
    "start_time": "2022-01-05T18:39:39.481Z"
   },
   {
    "duration": 3369,
    "start_time": "2022-01-05T18:39:39.668Z"
   },
   {
    "duration": 6979,
    "start_time": "2022-01-05T18:39:43.040Z"
   },
   {
    "duration": 212,
    "start_time": "2022-01-05T18:39:49.810Z"
   },
   {
    "duration": 832,
    "start_time": "2022-01-05T18:42:48.851Z"
   },
   {
    "duration": 182,
    "start_time": "2022-01-05T18:42:49.686Z"
   },
   {
    "duration": 3548,
    "start_time": "2022-01-05T18:42:49.871Z"
   },
   {
    "duration": 6766,
    "start_time": "2022-01-05T18:42:53.422Z"
   },
   {
    "duration": 166,
    "start_time": "2022-01-05T18:43:00.026Z"
   },
   {
    "duration": 809,
    "start_time": "2022-01-05T18:51:32.696Z"
   },
   {
    "duration": 187,
    "start_time": "2022-01-05T18:51:33.509Z"
   },
   {
    "duration": 3302,
    "start_time": "2022-01-05T18:51:33.699Z"
   },
   {
    "duration": 6470,
    "start_time": "2022-01-05T18:51:37.003Z"
   },
   {
    "duration": 201,
    "start_time": "2022-01-05T18:51:43.275Z"
   },
   {
    "duration": 776,
    "start_time": "2022-01-05T18:55:22.410Z"
   },
   {
    "duration": 172,
    "start_time": "2022-01-05T18:55:23.189Z"
   },
   {
    "duration": 3344,
    "start_time": "2022-01-05T18:55:23.368Z"
   },
   {
    "duration": 6842,
    "start_time": "2022-01-05T18:55:26.716Z"
   },
   {
    "duration": 197,
    "start_time": "2022-01-05T18:55:33.364Z"
   },
   {
    "duration": 870,
    "start_time": "2022-01-05T18:58:13.057Z"
   },
   {
    "duration": 174,
    "start_time": "2022-01-05T18:58:13.930Z"
   },
   {
    "duration": 3480,
    "start_time": "2022-01-05T18:58:14.107Z"
   },
   {
    "duration": 6652,
    "start_time": "2022-01-05T18:58:17.589Z"
   },
   {
    "duration": 209,
    "start_time": "2022-01-05T18:58:24.035Z"
   },
   {
    "duration": 886,
    "start_time": "2022-01-05T19:08:23.694Z"
   },
   {
    "duration": 184,
    "start_time": "2022-01-05T19:08:24.583Z"
   },
   {
    "duration": 3869,
    "start_time": "2022-01-05T19:08:24.770Z"
   },
   {
    "duration": 1059,
    "start_time": "2022-01-05T19:08:28.642Z"
   },
   {
    "duration": 162,
    "start_time": "2022-01-05T19:08:29.543Z"
   },
   {
    "duration": 846,
    "start_time": "2022-01-05T19:11:12.937Z"
   },
   {
    "duration": 169,
    "start_time": "2022-01-05T19:11:13.785Z"
   },
   {
    "duration": 3728,
    "start_time": "2022-01-05T19:11:13.957Z"
   },
   {
    "duration": 966,
    "start_time": "2022-01-05T19:11:17.688Z"
   },
   {
    "duration": 191,
    "start_time": "2022-01-05T19:11:18.476Z"
   },
   {
    "duration": 797,
    "start_time": "2022-01-05T19:15:55.873Z"
   },
   {
    "duration": 169,
    "start_time": "2022-01-05T19:15:56.673Z"
   },
   {
    "duration": 3828,
    "start_time": "2022-01-05T19:15:56.845Z"
   },
   {
    "duration": 1010,
    "start_time": "2022-01-05T19:16:00.676Z"
   },
   {
    "duration": 145,
    "start_time": "2022-01-05T19:16:01.544Z"
   },
   {
    "duration": 1689,
    "start_time": "2022-01-05T19:23:38.222Z"
   },
   {
    "duration": 193,
    "start_time": "2022-01-05T19:23:39.913Z"
   },
   {
    "duration": 3718,
    "start_time": "2022-01-05T19:23:40.115Z"
   },
   {
    "duration": 1190,
    "start_time": "2022-01-05T19:23:43.836Z"
   },
   {
    "duration": 184,
    "start_time": "2022-01-05T19:23:44.845Z"
   },
   {
    "duration": 964,
    "start_time": "2022-01-05T19:27:19.129Z"
   },
   {
    "duration": 193,
    "start_time": "2022-01-05T19:27:20.096Z"
   },
   {
    "duration": 4153,
    "start_time": "2022-01-05T19:27:20.293Z"
   },
   {
    "duration": 974,
    "start_time": "2022-01-05T19:27:24.449Z"
   },
   {
    "duration": 171,
    "start_time": "2022-01-05T19:27:25.255Z"
   },
   {
    "duration": 784,
    "start_time": "2022-01-05T19:28:27.643Z"
   },
   {
    "duration": 196,
    "start_time": "2022-01-05T19:28:28.431Z"
   },
   {
    "duration": 4270,
    "start_time": "2022-01-05T19:28:28.631Z"
   },
   {
    "duration": 1027,
    "start_time": "2022-01-05T19:28:32.903Z"
   },
   {
    "duration": 182,
    "start_time": "2022-01-05T19:28:33.751Z"
   },
   {
    "duration": 793,
    "start_time": "2022-01-05T19:30:00.545Z"
   },
   {
    "duration": 191,
    "start_time": "2022-01-05T19:30:01.341Z"
   },
   {
    "duration": 4163,
    "start_time": "2022-01-05T19:30:01.535Z"
   },
   {
    "duration": 927,
    "start_time": "2022-01-05T19:30:05.701Z"
   },
   {
    "duration": 166,
    "start_time": "2022-01-05T19:30:06.465Z"
   },
   {
    "duration": 782,
    "start_time": "2022-01-05T19:35:32.827Z"
   },
   {
    "duration": 183,
    "start_time": "2022-01-05T19:35:33.612Z"
   },
   {
    "duration": 4097,
    "start_time": "2022-01-05T19:35:33.798Z"
   },
   {
    "duration": 1013,
    "start_time": "2022-01-05T19:35:37.898Z"
   },
   {
    "duration": 168,
    "start_time": "2022-01-05T19:35:38.745Z"
   },
   {
    "duration": 803,
    "start_time": "2022-01-05T19:36:33.202Z"
   },
   {
    "duration": 174,
    "start_time": "2022-01-05T19:36:34.008Z"
   },
   {
    "duration": 8699,
    "start_time": "2022-01-05T19:36:34.185Z"
   },
   {
    "duration": 148,
    "start_time": "2022-01-05T19:36:42.739Z"
   },
   {
    "duration": 145,
    "start_time": "2022-01-05T19:36:42.743Z"
   },
   {
    "duration": 823,
    "start_time": "2022-01-05T19:48:18.380Z"
   },
   {
    "duration": 182,
    "start_time": "2022-01-05T19:48:19.206Z"
   },
   {
    "duration": 7305,
    "start_time": "2022-01-05T19:48:19.391Z"
   },
   {
    "duration": 86,
    "start_time": "2022-01-05T19:48:26.613Z"
   },
   {
    "duration": 84,
    "start_time": "2022-01-05T19:48:26.617Z"
   },
   {
    "duration": 796,
    "start_time": "2022-01-05T19:56:26.210Z"
   },
   {
    "duration": 184,
    "start_time": "2022-01-05T19:56:27.008Z"
   },
   {
    "duration": 4242,
    "start_time": "2022-01-05T19:56:27.195Z"
   },
   {
    "duration": 968,
    "start_time": "2022-01-05T19:56:31.440Z"
   },
   {
    "duration": 139,
    "start_time": "2022-01-05T19:56:32.272Z"
   },
   {
    "duration": 836,
    "start_time": "2022-01-05T20:04:28.193Z"
   },
   {
    "duration": 192,
    "start_time": "2022-01-05T20:04:29.032Z"
   },
   {
    "duration": 4771,
    "start_time": "2022-01-05T20:04:29.227Z"
   },
   {
    "duration": 134,
    "start_time": "2022-01-05T20:04:33.868Z"
   },
   {
    "duration": 126,
    "start_time": "2022-01-05T20:04:33.877Z"
   },
   {
    "duration": 894,
    "start_time": "2022-01-05T20:08:04.348Z"
   },
   {
    "duration": 178,
    "start_time": "2022-01-05T20:08:05.244Z"
   },
   {
    "duration": 4230,
    "start_time": "2022-01-05T20:08:05.425Z"
   },
   {
    "duration": 119,
    "start_time": "2022-01-05T20:08:09.539Z"
   },
   {
    "duration": 107,
    "start_time": "2022-01-05T20:08:09.553Z"
   },
   {
    "duration": 799,
    "start_time": "2022-01-05T20:09:15.827Z"
   },
   {
    "duration": 180,
    "start_time": "2022-01-05T20:09:16.629Z"
   },
   {
    "duration": 4130,
    "start_time": "2022-01-05T20:09:16.812Z"
   },
   {
    "duration": 108,
    "start_time": "2022-01-05T20:09:20.837Z"
   },
   {
    "duration": 108,
    "start_time": "2022-01-05T20:09:20.839Z"
   },
   {
    "duration": 831,
    "start_time": "2022-01-05T20:18:11.313Z"
   },
   {
    "duration": 185,
    "start_time": "2022-01-05T20:18:12.147Z"
   },
   {
    "duration": 3776,
    "start_time": "2022-01-05T20:18:12.335Z"
   },
   {
    "duration": 128,
    "start_time": "2022-01-05T20:18:15.986Z"
   },
   {
    "duration": 121,
    "start_time": "2022-01-05T20:18:15.995Z"
   },
   {
    "duration": 866,
    "start_time": "2022-01-05T20:19:34.542Z"
   },
   {
    "duration": 198,
    "start_time": "2022-01-05T20:19:35.411Z"
   },
   {
    "duration": 4177,
    "start_time": "2022-01-05T20:19:35.612Z"
   },
   {
    "duration": 130,
    "start_time": "2022-01-05T20:19:39.662Z"
   },
   {
    "duration": 130,
    "start_time": "2022-01-05T20:19:39.664Z"
   },
   {
    "duration": 1071,
    "start_time": "2022-01-05T20:21:16.773Z"
   },
   {
    "duration": 189,
    "start_time": "2022-01-05T20:21:17.847Z"
   },
   {
    "duration": 3895,
    "start_time": "2022-01-05T20:21:18.040Z"
   },
   {
    "duration": 275,
    "start_time": "2022-01-05T20:21:21.938Z"
   },
   {
    "duration": 129,
    "start_time": "2022-01-05T20:21:22.087Z"
   },
   {
    "duration": 3,
    "start_time": "2022-01-05T20:21:48.888Z"
   },
   {
    "duration": 825,
    "start_time": "2022-01-05T20:23:07.091Z"
   },
   {
    "duration": 272,
    "start_time": "2022-01-05T20:23:07.920Z"
   },
   {
    "duration": 3660,
    "start_time": "2022-01-05T20:23:08.195Z"
   },
   {
    "duration": 122,
    "start_time": "2022-01-05T20:23:11.736Z"
   },
   {
    "duration": 121,
    "start_time": "2022-01-05T20:23:11.739Z"
   },
   {
    "duration": 812,
    "start_time": "2022-01-05T20:24:40.601Z"
   },
   {
    "duration": 191,
    "start_time": "2022-01-05T20:24:41.416Z"
   },
   {
    "duration": 3685,
    "start_time": "2022-01-05T20:24:41.610Z"
   },
   {
    "duration": 129,
    "start_time": "2022-01-05T20:24:45.169Z"
   },
   {
    "duration": 116,
    "start_time": "2022-01-05T20:24:45.184Z"
   },
   {
    "duration": 817,
    "start_time": "2022-01-05T20:25:27.928Z"
   },
   {
    "duration": 161,
    "start_time": "2022-01-05T20:25:28.768Z"
   },
   {
    "duration": 5692,
    "start_time": "2022-01-05T20:25:28.932Z"
   },
   {
    "duration": 3,
    "start_time": "2022-01-05T20:25:34.627Z"
   },
   {
    "duration": 7172,
    "start_time": "2022-01-05T20:25:34.633Z"
   },
   {
    "duration": 904,
    "start_time": "2022-01-05T20:27:25.621Z"
   },
   {
    "duration": 210,
    "start_time": "2022-01-05T20:27:26.528Z"
   },
   {
    "duration": 4568,
    "start_time": "2022-01-05T20:27:26.742Z"
   },
   {
    "duration": 14,
    "start_time": "2022-01-05T20:27:31.298Z"
   },
   {
    "duration": 11,
    "start_time": "2022-01-05T20:27:31.303Z"
   },
   {
    "duration": 810,
    "start_time": "2022-01-05T20:28:03.061Z"
   },
   {
    "duration": 173,
    "start_time": "2022-01-05T20:28:03.874Z"
   },
   {
    "duration": 3821,
    "start_time": "2022-01-05T20:28:04.051Z"
   },
   {
    "duration": 28,
    "start_time": "2022-01-05T20:28:07.847Z"
   },
   {
    "duration": 28,
    "start_time": "2022-01-05T20:28:07.849Z"
   },
   {
    "duration": 802,
    "start_time": "2022-01-05T20:29:13.492Z"
   },
   {
    "duration": 185,
    "start_time": "2022-01-05T20:29:14.298Z"
   },
   {
    "duration": 3636,
    "start_time": "2022-01-05T20:29:14.486Z"
   },
   {
    "duration": 119,
    "start_time": "2022-01-05T20:29:18.006Z"
   },
   {
    "duration": 114,
    "start_time": "2022-01-05T20:29:18.013Z"
   },
   {
    "duration": 853,
    "start_time": "2022-01-05T20:29:46.330Z"
   },
   {
    "duration": 171,
    "start_time": "2022-01-05T20:29:47.185Z"
   },
   {
    "duration": 5220,
    "start_time": "2022-01-05T20:29:47.360Z"
   },
   {
    "duration": 2,
    "start_time": "2022-01-05T20:29:52.583Z"
   },
   {
    "duration": 7871,
    "start_time": "2022-01-05T20:29:52.588Z"
   },
   {
    "duration": 812,
    "start_time": "2022-01-05T20:33:36.334Z"
   },
   {
    "duration": 163,
    "start_time": "2022-01-05T20:33:37.168Z"
   },
   {
    "duration": 3571,
    "start_time": "2022-01-05T20:33:37.334Z"
   },
   {
    "duration": 95,
    "start_time": "2022-01-05T20:33:40.813Z"
   },
   {
    "duration": 90,
    "start_time": "2022-01-05T20:33:40.820Z"
   },
   {
    "duration": 812,
    "start_time": "2022-01-05T20:34:30.333Z"
   },
   {
    "duration": 184,
    "start_time": "2022-01-05T20:34:31.147Z"
   },
   {
    "duration": 3304,
    "start_time": "2022-01-05T20:34:31.334Z"
   },
   {
    "duration": 28,
    "start_time": "2022-01-05T20:34:34.641Z"
   },
   {
    "duration": 8844,
    "start_time": "2022-01-05T20:34:34.672Z"
   },
   {
    "duration": 863,
    "start_time": "2022-01-05T20:35:56.804Z"
   },
   {
    "duration": 173,
    "start_time": "2022-01-05T20:35:57.670Z"
   },
   {
    "duration": 3735,
    "start_time": "2022-01-05T20:35:57.847Z"
   },
   {
    "duration": 3,
    "start_time": "2022-01-05T20:36:01.585Z"
   },
   {
    "duration": 6781,
    "start_time": "2022-01-05T20:36:01.590Z"
   },
   {
    "duration": 897,
    "start_time": "2022-01-05T20:37:35.225Z"
   },
   {
    "duration": 191,
    "start_time": "2022-01-05T20:37:36.126Z"
   },
   {
    "duration": 3495,
    "start_time": "2022-01-05T20:37:36.320Z"
   },
   {
    "duration": 4,
    "start_time": "2022-01-05T20:37:39.817Z"
   },
   {
    "duration": 6870,
    "start_time": "2022-01-05T20:37:39.824Z"
   },
   {
    "duration": 811,
    "start_time": "2022-01-05T20:41:17.406Z"
   },
   {
    "duration": 183,
    "start_time": "2022-01-05T20:41:18.220Z"
   },
   {
    "duration": 4302,
    "start_time": "2022-01-05T20:41:18.406Z"
   },
   {
    "duration": 109,
    "start_time": "2022-01-05T20:41:22.601Z"
   },
   {
    "duration": 100,
    "start_time": "2022-01-05T20:41:22.612Z"
   },
   {
    "duration": 823,
    "start_time": "2022-01-05T20:42:40.979Z"
   },
   {
    "duration": 189,
    "start_time": "2022-01-05T20:42:41.805Z"
   },
   {
    "duration": 3665,
    "start_time": "2022-01-05T20:42:41.997Z"
   },
   {
    "duration": 68,
    "start_time": "2022-01-05T20:42:45.598Z"
   },
   {
    "duration": 64,
    "start_time": "2022-01-05T20:42:45.605Z"
   },
   {
    "duration": 2851,
    "start_time": "2022-01-05T20:44:07.033Z"
   },
   {
    "duration": 244,
    "start_time": "2022-01-05T20:44:09.888Z"
   },
   {
    "duration": 3354,
    "start_time": "2022-01-05T20:44:10.136Z"
   },
   {
    "duration": 4,
    "start_time": "2022-01-05T20:44:13.492Z"
   },
   {
    "duration": 7347,
    "start_time": "2022-01-05T20:44:13.498Z"
   },
   {
    "duration": 547,
    "start_time": "2022-01-05T20:44:58.014Z"
   },
   {
    "duration": 938,
    "start_time": "2022-01-05T20:45:01.529Z"
   },
   {
    "duration": 176,
    "start_time": "2022-01-05T20:45:02.470Z"
   },
   {
    "duration": 4112,
    "start_time": "2022-01-05T20:45:02.649Z"
   },
   {
    "duration": 4,
    "start_time": "2022-01-05T20:45:06.768Z"
   },
   {
    "duration": 7645,
    "start_time": "2022-01-05T20:45:06.775Z"
   },
   {
    "duration": 839,
    "start_time": "2022-01-05T20:46:16.767Z"
   },
   {
    "duration": 181,
    "start_time": "2022-01-05T20:46:17.609Z"
   },
   {
    "duration": 3765,
    "start_time": "2022-01-05T20:46:17.793Z"
   },
   {
    "duration": 3,
    "start_time": "2022-01-05T20:46:21.568Z"
   },
   {
    "duration": 6805,
    "start_time": "2022-01-05T20:46:21.575Z"
   },
   {
    "duration": 814,
    "start_time": "2022-01-05T20:47:31.278Z"
   },
   {
    "duration": 181,
    "start_time": "2022-01-05T20:47:32.095Z"
   },
   {
    "duration": 110,
    "start_time": "2022-01-05T20:47:32.279Z"
   },
   {
    "duration": 103,
    "start_time": "2022-01-05T20:47:32.288Z"
   },
   {
    "duration": 94,
    "start_time": "2022-01-05T20:47:32.299Z"
   },
   {
    "duration": 906,
    "start_time": "2022-01-05T20:47:51.861Z"
   },
   {
    "duration": 164,
    "start_time": "2022-01-05T20:47:52.770Z"
   },
   {
    "duration": 3952,
    "start_time": "2022-01-05T20:47:52.937Z"
   },
   {
    "duration": 102,
    "start_time": "2022-01-05T20:47:56.790Z"
   },
   {
    "duration": 102,
    "start_time": "2022-01-05T20:47:56.793Z"
   },
   {
    "duration": 794,
    "start_time": "2022-01-05T21:01:37.833Z"
   },
   {
    "duration": 177,
    "start_time": "2022-01-05T21:01:38.630Z"
   },
   {
    "duration": 3651,
    "start_time": "2022-01-05T21:01:38.811Z"
   },
   {
    "duration": 63,
    "start_time": "2022-01-05T21:01:42.402Z"
   },
   {
    "duration": 61,
    "start_time": "2022-01-05T21:01:42.405Z"
   },
   {
    "duration": 827,
    "start_time": "2022-01-05T21:02:06.568Z"
   },
   {
    "duration": 175,
    "start_time": "2022-01-05T21:02:07.398Z"
   },
   {
    "duration": 10312,
    "start_time": "2022-01-05T21:02:07.576Z"
   },
   {
    "duration": 45,
    "start_time": "2022-01-05T21:02:17.846Z"
   },
   {
    "duration": 44,
    "start_time": "2022-01-05T21:02:17.848Z"
   },
   {
    "duration": 787,
    "start_time": "2022-01-05T21:03:24.703Z"
   },
   {
    "duration": 185,
    "start_time": "2022-01-05T21:03:25.493Z"
   },
   {
    "duration": 10128,
    "start_time": "2022-01-05T21:03:25.681Z"
   },
   {
    "duration": 33,
    "start_time": "2022-01-05T21:03:35.779Z"
   },
   {
    "duration": 31,
    "start_time": "2022-01-05T21:03:35.784Z"
   },
   {
    "duration": 841,
    "start_time": "2022-01-05T21:04:34.813Z"
   },
   {
    "duration": 187,
    "start_time": "2022-01-05T21:04:35.669Z"
   },
   {
    "duration": 10361,
    "start_time": "2022-01-05T21:04:35.867Z"
   },
   {
    "duration": 19,
    "start_time": "2022-01-05T21:04:46.211Z"
   },
   {
    "duration": 16,
    "start_time": "2022-01-05T21:04:46.217Z"
   },
   {
    "duration": 986,
    "start_time": "2022-01-05T21:05:18.508Z"
   },
   {
    "duration": 190,
    "start_time": "2022-01-05T21:05:19.497Z"
   },
   {
    "duration": 11861,
    "start_time": "2022-01-05T21:05:19.692Z"
   },
   {
    "duration": 44,
    "start_time": "2022-01-05T21:05:31.512Z"
   },
   {
    "duration": 42,
    "start_time": "2022-01-05T21:05:31.517Z"
   },
   {
    "duration": 849,
    "start_time": "2022-01-05T21:07:20.618Z"
   },
   {
    "duration": 160,
    "start_time": "2022-01-05T21:07:21.470Z"
   },
   {
    "duration": 3679,
    "start_time": "2022-01-05T21:07:21.633Z"
   },
   {
    "duration": 3,
    "start_time": "2022-01-05T21:07:25.315Z"
   },
   {
    "duration": 7028,
    "start_time": "2022-01-05T21:07:25.320Z"
   },
   {
    "duration": 782,
    "start_time": "2022-01-05T21:08:12.056Z"
   },
   {
    "duration": 184,
    "start_time": "2022-01-05T21:08:12.841Z"
   },
   {
    "duration": 3662,
    "start_time": "2022-01-05T21:08:13.028Z"
   },
   {
    "duration": 3,
    "start_time": "2022-01-05T21:08:16.693Z"
   },
   {
    "duration": 12984,
    "start_time": "2022-01-05T21:08:16.698Z"
   },
   {
    "duration": 809,
    "start_time": "2022-01-05T21:10:26.815Z"
   },
   {
    "duration": 181,
    "start_time": "2022-01-05T21:10:27.627Z"
   },
   {
    "duration": 4074,
    "start_time": "2022-01-05T21:10:27.811Z"
   },
   {
    "duration": 3,
    "start_time": "2022-01-05T21:10:31.888Z"
   },
   {
    "duration": 6649,
    "start_time": "2022-01-05T21:10:31.893Z"
   },
   {
    "duration": 813,
    "start_time": "2022-01-05T21:11:46.156Z"
   },
   {
    "duration": 176,
    "start_time": "2022-01-05T21:11:46.972Z"
   },
   {
    "duration": 3712,
    "start_time": "2022-01-05T21:11:47.151Z"
   },
   {
    "duration": 4,
    "start_time": "2022-01-05T21:11:50.867Z"
   },
   {
    "duration": 6682,
    "start_time": "2022-01-05T21:11:50.873Z"
   },
   {
    "duration": 863,
    "start_time": "2022-01-05T21:13:06.373Z"
   },
   {
    "duration": 204,
    "start_time": "2022-01-05T21:13:07.240Z"
   },
   {
    "duration": 3842,
    "start_time": "2022-01-05T21:13:07.448Z"
   },
   {
    "duration": 68,
    "start_time": "2022-01-05T21:13:11.224Z"
   },
   {
    "duration": 53,
    "start_time": "2022-01-05T21:13:11.241Z"
   },
   {
    "duration": 836,
    "start_time": "2022-01-05T21:16:03.359Z"
   },
   {
    "duration": 178,
    "start_time": "2022-01-05T21:16:04.198Z"
   },
   {
    "duration": 3748,
    "start_time": "2022-01-05T21:16:04.379Z"
   },
   {
    "duration": 3,
    "start_time": "2022-01-05T21:16:08.130Z"
   },
   {
    "duration": 7528,
    "start_time": "2022-01-05T21:16:08.136Z"
   },
   {
    "duration": 810,
    "start_time": "2022-01-05T21:16:47.102Z"
   },
   {
    "duration": 179,
    "start_time": "2022-01-05T21:16:47.915Z"
   },
   {
    "duration": 3677,
    "start_time": "2022-01-05T21:16:48.097Z"
   },
   {
    "duration": 3,
    "start_time": "2022-01-05T21:16:51.776Z"
   },
   {
    "duration": 7338,
    "start_time": "2022-01-05T21:16:51.782Z"
   },
   {
    "duration": 804,
    "start_time": "2022-01-05T21:17:41.117Z"
   },
   {
    "duration": 190,
    "start_time": "2022-01-05T21:17:41.925Z"
   },
   {
    "duration": 3815,
    "start_time": "2022-01-05T21:17:42.119Z"
   },
   {
    "duration": 54,
    "start_time": "2022-01-05T21:17:45.883Z"
   },
   {
    "duration": 47,
    "start_time": "2022-01-05T21:17:45.892Z"
   },
   {
    "duration": 788,
    "start_time": "2022-01-05T21:20:56.914Z"
   },
   {
    "duration": 174,
    "start_time": "2022-01-05T21:20:57.705Z"
   },
   {
    "duration": 3869,
    "start_time": "2022-01-05T21:20:57.881Z"
   },
   {
    "duration": 3,
    "start_time": "2022-01-05T21:21:01.753Z"
   },
   {
    "duration": 7183,
    "start_time": "2022-01-05T21:21:01.759Z"
   },
   {
    "duration": 2794,
    "start_time": "2022-01-05T21:24:00.575Z"
   },
   {
    "duration": 164,
    "start_time": "2022-01-05T21:24:03.372Z"
   },
   {
    "duration": 4433,
    "start_time": "2022-01-05T21:24:03.540Z"
   },
   {
    "duration": 3,
    "start_time": "2022-01-05T21:24:07.976Z"
   },
   {
    "duration": 11136,
    "start_time": "2022-01-05T21:24:07.982Z"
   },
   {
    "duration": 853,
    "start_time": "2022-01-05T21:26:56.874Z"
   },
   {
    "duration": 171,
    "start_time": "2022-01-05T21:26:57.730Z"
   },
   {
    "duration": 4270,
    "start_time": "2022-01-05T21:26:57.905Z"
   },
   {
    "duration": 3,
    "start_time": "2022-01-05T21:27:02.177Z"
   },
   {
    "duration": 6862,
    "start_time": "2022-01-05T21:27:02.188Z"
   },
   {
    "duration": 830,
    "start_time": "2022-01-05T21:28:08.057Z"
   },
   {
    "duration": 191,
    "start_time": "2022-01-05T21:28:08.890Z"
   },
   {
    "duration": 123,
    "start_time": "2022-01-05T21:28:09.084Z"
   },
   {
    "duration": -1062,
    "start_time": "2022-01-05T21:28:10.271Z"
   },
   {
    "duration": -1064,
    "start_time": "2022-01-05T21:28:10.275Z"
   },
   {
    "duration": 882,
    "start_time": "2022-01-05T21:30:05.127Z"
   },
   {
    "duration": 179,
    "start_time": "2022-01-05T21:30:06.012Z"
   },
   {
    "duration": 102,
    "start_time": "2022-01-05T21:30:06.194Z"
   },
   {
    "duration": 47,
    "start_time": "2022-01-05T21:30:06.252Z"
   },
   {
    "duration": 39,
    "start_time": "2022-01-05T21:30:06.262Z"
   },
   {
    "duration": 800,
    "start_time": "2022-01-05T21:30:26.431Z"
   },
   {
    "duration": 194,
    "start_time": "2022-01-05T21:30:27.235Z"
   },
   {
    "duration": 103,
    "start_time": "2022-01-05T21:30:27.432Z"
   },
   {
    "duration": 54,
    "start_time": "2022-01-05T21:30:27.483Z"
   },
   {
    "duration": 47,
    "start_time": "2022-01-05T21:30:27.492Z"
   },
   {
    "duration": 784,
    "start_time": "2022-01-05T21:30:45.150Z"
   },
   {
    "duration": 173,
    "start_time": "2022-01-05T21:30:45.936Z"
   },
   {
    "duration": 113,
    "start_time": "2022-01-05T21:30:46.112Z"
   },
   {
    "duration": 55,
    "start_time": "2022-01-05T21:30:46.173Z"
   },
   {
    "duration": 43,
    "start_time": "2022-01-05T21:30:46.186Z"
   },
   {
    "duration": 1128,
    "start_time": "2022-01-05T21:34:37.642Z"
   },
   {
    "duration": 166,
    "start_time": "2022-01-05T21:34:38.773Z"
   },
   {
    "duration": 4332,
    "start_time": "2022-01-05T21:34:38.942Z"
   },
   {
    "duration": 3,
    "start_time": "2022-01-05T21:34:43.277Z"
   },
   {
    "duration": 7027,
    "start_time": "2022-01-05T21:34:43.283Z"
   },
   {
    "duration": 917,
    "start_time": "2022-01-05T21:35:53.319Z"
   },
   {
    "duration": 203,
    "start_time": "2022-01-05T21:35:54.239Z"
   },
   {
    "duration": 4066,
    "start_time": "2022-01-05T21:35:54.445Z"
   },
   {
    "duration": 4,
    "start_time": "2022-01-05T21:35:58.514Z"
   },
   {
    "duration": 7600,
    "start_time": "2022-01-05T21:35:58.522Z"
   },
   {
    "duration": 786,
    "start_time": "2022-01-05T21:43:09.463Z"
   },
   {
    "duration": 162,
    "start_time": "2022-01-05T21:43:10.268Z"
   },
   {
    "duration": 3796,
    "start_time": "2022-01-05T21:43:10.434Z"
   },
   {
    "duration": 3,
    "start_time": "2022-01-05T21:43:14.233Z"
   },
   {
    "duration": 8182,
    "start_time": "2022-01-05T21:43:14.239Z"
   },
   {
    "duration": 802,
    "start_time": "2022-01-05T21:44:19.615Z"
   },
   {
    "duration": 182,
    "start_time": "2022-01-05T21:44:20.420Z"
   },
   {
    "duration": 3917,
    "start_time": "2022-01-05T21:44:20.606Z"
   },
   {
    "duration": 4,
    "start_time": "2022-01-05T21:44:24.526Z"
   },
   {
    "duration": 8857,
    "start_time": "2022-01-05T21:44:24.532Z"
   },
   {
    "duration": 781,
    "start_time": "2022-01-05T21:46:24.465Z"
   },
   {
    "duration": 167,
    "start_time": "2022-01-05T21:46:25.268Z"
   },
   {
    "duration": 3600,
    "start_time": "2022-01-05T21:46:25.439Z"
   },
   {
    "duration": 19,
    "start_time": "2022-01-05T21:46:29.023Z"
   },
   {
    "duration": 12,
    "start_time": "2022-01-05T21:46:29.031Z"
   },
   {
    "duration": 796,
    "start_time": "2022-01-05T21:47:40.986Z"
   },
   {
    "duration": 166,
    "start_time": "2022-01-05T21:47:41.785Z"
   },
   {
    "duration": 3930,
    "start_time": "2022-01-05T21:47:41.954Z"
   },
   {
    "duration": 3,
    "start_time": "2022-01-05T21:47:45.887Z"
   },
   {
    "duration": 6930,
    "start_time": "2022-01-05T21:47:45.893Z"
   },
   {
    "duration": 834,
    "start_time": "2022-01-05T21:51:26.807Z"
   },
   {
    "duration": 183,
    "start_time": "2022-01-05T21:51:27.644Z"
   },
   {
    "duration": 3873,
    "start_time": "2022-01-05T21:51:27.830Z"
   },
   {
    "duration": -12,
    "start_time": "2022-01-05T21:51:31.719Z"
   },
   {
    "duration": -12,
    "start_time": "2022-01-05T21:51:31.721Z"
   },
   {
    "duration": 783,
    "start_time": "2022-01-05T21:55:03.049Z"
   },
   {
    "duration": 184,
    "start_time": "2022-01-05T21:55:03.835Z"
   },
   {
    "duration": 4072,
    "start_time": "2022-01-05T21:55:04.022Z"
   },
   {
    "duration": 17,
    "start_time": "2022-01-05T21:55:08.080Z"
   },
   {
    "duration": 16,
    "start_time": "2022-01-05T21:55:08.083Z"
   },
   {
    "duration": 903,
    "start_time": "2022-01-05T21:56:36.592Z"
   },
   {
    "duration": 183,
    "start_time": "2022-01-05T21:56:37.497Z"
   },
   {
    "duration": 3847,
    "start_time": "2022-01-05T21:56:37.683Z"
   },
   {
    "duration": 3,
    "start_time": "2022-01-05T21:56:41.534Z"
   },
   {
    "duration": 7266,
    "start_time": "2022-01-05T21:56:41.539Z"
   },
   {
    "duration": 793,
    "start_time": "2022-01-05T21:57:39.182Z"
   },
   {
    "duration": 179,
    "start_time": "2022-01-05T21:57:39.978Z"
   },
   {
    "duration": 3943,
    "start_time": "2022-01-05T21:57:40.168Z"
   },
   {
    "duration": 4,
    "start_time": "2022-01-05T21:57:44.113Z"
   },
   {
    "duration": 7415,
    "start_time": "2022-01-05T21:57:44.119Z"
   },
   {
    "duration": 784,
    "start_time": "2022-01-05T22:00:01.437Z"
   },
   {
    "duration": 182,
    "start_time": "2022-01-05T22:00:02.223Z"
   },
   {
    "duration": 3928,
    "start_time": "2022-01-05T22:00:02.408Z"
   },
   {
    "duration": 4,
    "start_time": "2022-01-05T22:00:06.338Z"
   },
   {
    "duration": 7948,
    "start_time": "2022-01-05T22:00:06.344Z"
   },
   {
    "duration": 861,
    "start_time": "2022-01-05T22:00:28.012Z"
   },
   {
    "duration": 176,
    "start_time": "2022-01-05T22:00:28.877Z"
   },
   {
    "duration": 3972,
    "start_time": "2022-01-05T22:00:29.057Z"
   },
   {
    "duration": 3,
    "start_time": "2022-01-05T22:00:33.032Z"
   },
   {
    "duration": 7767,
    "start_time": "2022-01-05T22:00:33.038Z"
   },
   {
    "duration": 810,
    "start_time": "2022-01-05T22:04:30.896Z"
   },
   {
    "duration": 190,
    "start_time": "2022-01-05T22:04:31.709Z"
   },
   {
    "duration": 3685,
    "start_time": "2022-01-05T22:04:31.902Z"
   },
   {
    "duration": 3,
    "start_time": "2022-01-05T22:04:35.586Z"
   },
   {
    "duration": -13,
    "start_time": "2022-01-05T22:04:35.604Z"
   },
   {
    "duration": 831,
    "start_time": "2022-01-05T22:13:11.973Z"
   },
   {
    "duration": 179,
    "start_time": "2022-01-05T22:13:12.806Z"
   },
   {
    "duration": 4033,
    "start_time": "2022-01-05T22:13:12.988Z"
   },
   {
    "duration": 3,
    "start_time": "2022-01-05T22:13:17.023Z"
   },
   {
    "duration": 6994,
    "start_time": "2022-01-05T22:13:17.028Z"
   },
   {
    "duration": 843,
    "start_time": "2022-01-05T22:19:22.725Z"
   },
   {
    "duration": 170,
    "start_time": "2022-01-05T22:19:23.571Z"
   },
   {
    "duration": 4403,
    "start_time": "2022-01-05T22:19:23.746Z"
   },
   {
    "duration": 5,
    "start_time": "2022-01-05T22:19:28.152Z"
   },
   {
    "duration": 6594,
    "start_time": "2022-01-05T22:19:28.168Z"
   },
   {
    "duration": 872,
    "start_time": "2022-01-05T22:20:38.620Z"
   },
   {
    "duration": 187,
    "start_time": "2022-01-05T22:20:39.495Z"
   },
   {
    "duration": 4273,
    "start_time": "2022-01-05T22:20:39.685Z"
   },
   {
    "duration": 4,
    "start_time": "2022-01-05T22:20:43.967Z"
   },
   {
    "duration": 7149,
    "start_time": "2022-01-05T22:20:43.974Z"
   },
   {
    "duration": 769,
    "start_time": "2022-01-05T22:21:12.571Z"
   },
   {
    "duration": 167,
    "start_time": "2022-01-05T22:21:13.343Z"
   },
   {
    "duration": 4123,
    "start_time": "2022-01-05T22:21:13.514Z"
   },
   {
    "duration": 4,
    "start_time": "2022-01-05T22:21:17.639Z"
   },
   {
    "duration": 7053,
    "start_time": "2022-01-05T22:21:17.645Z"
   },
   {
    "duration": 820,
    "start_time": "2022-01-05T22:21:52.994Z"
   },
   {
    "duration": 185,
    "start_time": "2022-01-05T22:21:53.816Z"
   },
   {
    "duration": 4215,
    "start_time": "2022-01-05T22:21:54.005Z"
   },
   {
    "duration": 4,
    "start_time": "2022-01-05T22:21:58.223Z"
   },
   {
    "duration": 7856,
    "start_time": "2022-01-05T22:21:58.231Z"
   },
   {
    "duration": 813,
    "start_time": "2022-01-05T22:24:00.311Z"
   },
   {
    "duration": 184,
    "start_time": "2022-01-05T22:24:01.127Z"
   },
   {
    "duration": 4197,
    "start_time": "2022-01-05T22:24:01.314Z"
   },
   {
    "duration": 3,
    "start_time": "2022-01-05T22:24:05.513Z"
   },
   {
    "duration": 7275,
    "start_time": "2022-01-05T22:24:05.519Z"
   },
   {
    "duration": 1224,
    "start_time": "2022-01-05T22:25:40.286Z"
   },
   {
    "duration": 285,
    "start_time": "2022-01-05T22:25:41.514Z"
   },
   {
    "duration": 5777,
    "start_time": "2022-01-05T22:25:41.803Z"
   },
   {
    "duration": 4,
    "start_time": "2022-01-05T22:25:47.583Z"
   },
   {
    "duration": 7305,
    "start_time": "2022-01-05T22:25:47.590Z"
   },
   {
    "duration": 900,
    "start_time": "2022-01-05T22:40:10.267Z"
   },
   {
    "duration": 182,
    "start_time": "2022-01-05T22:40:11.171Z"
   },
   {
    "duration": 104,
    "start_time": "2022-01-05T22:40:11.367Z"
   },
   {
    "duration": -50,
    "start_time": "2022-01-05T22:40:11.524Z"
   },
   {
    "duration": -53,
    "start_time": "2022-01-05T22:40:11.529Z"
   },
   {
    "duration": 9616,
    "start_time": "2022-01-05T22:41:18.872Z"
   },
   {
    "duration": 814,
    "start_time": "2022-01-05T22:41:29.692Z"
   },
   {
    "duration": 174,
    "start_time": "2022-01-05T22:41:30.509Z"
   },
   {
    "duration": 11141,
    "start_time": "2022-01-05T22:41:30.686Z"
   },
   {
    "duration": -64,
    "start_time": "2022-01-05T22:41:41.893Z"
   },
   {
    "duration": -64,
    "start_time": "2022-01-05T22:41:41.895Z"
   },
   {
    "duration": 790,
    "start_time": "2022-01-05T22:43:00.322Z"
   },
   {
    "duration": 179,
    "start_time": "2022-01-05T22:43:01.115Z"
   },
   {
    "duration": 104,
    "start_time": "2022-01-05T22:43:01.298Z"
   },
   {
    "duration": -32,
    "start_time": "2022-01-05T22:43:01.436Z"
   },
   {
    "duration": -35,
    "start_time": "2022-01-05T22:43:01.441Z"
   },
   {
    "duration": 798,
    "start_time": "2022-01-05T22:43:37.273Z"
   },
   {
    "duration": 169,
    "start_time": "2022-01-05T22:43:38.074Z"
   },
   {
    "duration": 10628,
    "start_time": "2022-01-05T22:43:38.246Z"
   },
   {
    "duration": -63,
    "start_time": "2022-01-05T22:43:48.940Z"
   },
   {
    "duration": -64,
    "start_time": "2022-01-05T22:43:48.942Z"
   },
   {
    "duration": 824,
    "start_time": "2022-01-05T22:44:44.209Z"
   },
   {
    "duration": 217,
    "start_time": "2022-01-05T22:44:45.036Z"
   },
   {
    "duration": 11283,
    "start_time": "2022-01-05T22:44:45.257Z"
   },
   {
    "duration": -66,
    "start_time": "2022-01-05T22:44:56.609Z"
   },
   {
    "duration": -72,
    "start_time": "2022-01-05T22:44:56.617Z"
   },
   {
    "duration": 790,
    "start_time": "2022-01-05T22:46:04.134Z"
   },
   {
    "duration": 197,
    "start_time": "2022-01-05T22:46:04.928Z"
   },
   {
    "duration": 4181,
    "start_time": "2022-01-05T22:46:05.130Z"
   },
   {
    "duration": 3,
    "start_time": "2022-01-05T22:46:09.314Z"
   },
   {
    "duration": 6699,
    "start_time": "2022-01-05T22:46:09.319Z"
   },
   {
    "duration": 794,
    "start_time": "2022-01-05T22:49:45.506Z"
   },
   {
    "duration": 179,
    "start_time": "2022-01-05T22:49:46.302Z"
   },
   {
    "duration": 4102,
    "start_time": "2022-01-05T22:49:46.485Z"
   },
   {
    "duration": 3,
    "start_time": "2022-01-05T22:49:50.591Z"
   },
   {
    "duration": 7354,
    "start_time": "2022-01-05T22:49:50.597Z"
   },
   {
    "duration": 784,
    "start_time": "2022-01-05T22:51:43.919Z"
   },
   {
    "duration": 177,
    "start_time": "2022-01-05T22:51:44.705Z"
   },
   {
    "duration": 4003,
    "start_time": "2022-01-05T22:51:44.886Z"
   },
   {
    "duration": 3,
    "start_time": "2022-01-05T22:51:48.892Z"
   },
   {
    "duration": 7546,
    "start_time": "2022-01-05T22:51:48.897Z"
   },
   {
    "duration": 755,
    "start_time": "2022-01-05T22:56:13.482Z"
   },
   {
    "duration": 190,
    "start_time": "2022-01-05T22:56:14.241Z"
   },
   {
    "duration": 4744,
    "start_time": "2022-01-05T22:56:14.434Z"
   },
   {
    "duration": 6665,
    "start_time": "2022-01-05T22:56:19.181Z"
   },
   {
    "duration": 760,
    "start_time": "2022-01-05T23:03:33.746Z"
   },
   {
    "duration": 175,
    "start_time": "2022-01-05T23:03:34.509Z"
   },
   {
    "duration": 11658,
    "start_time": "2022-01-05T23:03:34.687Z"
   },
   {
    "duration": -64,
    "start_time": "2022-01-05T23:03:46.412Z"
   },
   {
    "duration": 808,
    "start_time": "2022-01-05T23:04:54.096Z"
   },
   {
    "duration": 184,
    "start_time": "2022-01-05T23:04:54.907Z"
   },
   {
    "duration": 4803,
    "start_time": "2022-01-05T23:04:55.094Z"
   },
   {
    "duration": 7603,
    "start_time": "2022-01-05T23:04:59.900Z"
   },
   {
    "duration": 801,
    "start_time": "2022-01-05T23:06:23.006Z"
   },
   {
    "duration": 185,
    "start_time": "2022-01-05T23:06:23.810Z"
   },
   {
    "duration": 4585,
    "start_time": "2022-01-05T23:06:23.999Z"
   },
   {
    "duration": 7726,
    "start_time": "2022-01-05T23:06:28.587Z"
   },
   {
    "duration": 758,
    "start_time": "2022-01-05T23:08:33.947Z"
   },
   {
    "duration": 179,
    "start_time": "2022-01-05T23:08:34.708Z"
   },
   {
    "duration": 4682,
    "start_time": "2022-01-05T23:08:34.890Z"
   },
   {
    "duration": 7893,
    "start_time": "2022-01-05T23:08:39.575Z"
   },
   {
    "duration": 795,
    "start_time": "2022-01-05T23:09:25.083Z"
   },
   {
    "duration": 174,
    "start_time": "2022-01-05T23:09:25.881Z"
   },
   {
    "duration": 4970,
    "start_time": "2022-01-05T23:09:26.067Z"
   },
   {
    "duration": 6916,
    "start_time": "2022-01-05T23:09:31.041Z"
   },
   {
    "duration": 762,
    "start_time": "2022-01-05T23:10:10.172Z"
   },
   {
    "duration": 177,
    "start_time": "2022-01-05T23:10:10.937Z"
   },
   {
    "duration": 4937,
    "start_time": "2022-01-05T23:10:11.118Z"
   },
   {
    "duration": 7230,
    "start_time": "2022-01-05T23:10:16.058Z"
   },
   {
    "duration": 798,
    "start_time": "2022-01-05T23:13:29.534Z"
   },
   {
    "duration": 177,
    "start_time": "2022-01-05T23:13:30.335Z"
   },
   {
    "duration": 4987,
    "start_time": "2022-01-05T23:13:30.515Z"
   },
   {
    "duration": 6659,
    "start_time": "2022-01-05T23:13:35.504Z"
   },
   {
    "duration": 796,
    "start_time": "2022-01-05T23:14:06.837Z"
   },
   {
    "duration": 181,
    "start_time": "2022-01-05T23:14:07.636Z"
   },
   {
    "duration": 5347,
    "start_time": "2022-01-05T23:14:07.820Z"
   },
   {
    "duration": 7503,
    "start_time": "2022-01-05T23:14:13.170Z"
   },
   {
    "duration": 849,
    "start_time": "2022-01-05T23:14:59.284Z"
   },
   {
    "duration": 187,
    "start_time": "2022-01-05T23:15:00.136Z"
   },
   {
    "duration": 4928,
    "start_time": "2022-01-05T23:15:00.326Z"
   },
   {
    "duration": 6932,
    "start_time": "2022-01-05T23:15:05.256Z"
   },
   {
    "duration": 821,
    "start_time": "2022-01-05T23:15:43.690Z"
   },
   {
    "duration": 196,
    "start_time": "2022-01-05T23:15:44.514Z"
   },
   {
    "duration": 5182,
    "start_time": "2022-01-05T23:15:44.713Z"
   },
   {
    "duration": 6930,
    "start_time": "2022-01-05T23:15:49.897Z"
   },
   {
    "duration": 1640,
    "start_time": "2022-01-05T23:16:28.242Z"
   },
   {
    "duration": 173,
    "start_time": "2022-01-05T23:16:29.885Z"
   },
   {
    "duration": 4886,
    "start_time": "2022-01-05T23:16:30.068Z"
   },
   {
    "duration": 6545,
    "start_time": "2022-01-05T23:16:34.956Z"
   },
   {
    "duration": 856,
    "start_time": "2022-01-05T23:17:00.649Z"
   },
   {
    "duration": 198,
    "start_time": "2022-01-05T23:17:01.509Z"
   },
   {
    "duration": 5167,
    "start_time": "2022-01-05T23:17:01.712Z"
   },
   {
    "duration": 8830,
    "start_time": "2022-01-05T23:17:06.883Z"
   },
   {
    "duration": 829,
    "start_time": "2022-01-05T23:17:59.674Z"
   },
   {
    "duration": 190,
    "start_time": "2022-01-05T23:18:00.506Z"
   },
   {
    "duration": 5012,
    "start_time": "2022-01-05T23:18:00.699Z"
   },
   {
    "duration": 8069,
    "start_time": "2022-01-05T23:18:05.714Z"
   },
   {
    "duration": 912,
    "start_time": "2022-01-05T23:19:04.704Z"
   },
   {
    "duration": 184,
    "start_time": "2022-01-05T23:19:05.619Z"
   },
   {
    "duration": 5033,
    "start_time": "2022-01-05T23:19:05.806Z"
   },
   {
    "duration": 6899,
    "start_time": "2022-01-05T23:19:10.842Z"
   },
   {
    "duration": 827,
    "start_time": "2022-01-05T23:19:40.566Z"
   },
   {
    "duration": 174,
    "start_time": "2022-01-05T23:19:41.396Z"
   },
   {
    "duration": 5027,
    "start_time": "2022-01-05T23:19:41.574Z"
   },
   {
    "duration": 7544,
    "start_time": "2022-01-05T23:19:46.604Z"
   },
   {
    "duration": 874,
    "start_time": "2022-01-05T23:20:03.021Z"
   },
   {
    "duration": 198,
    "start_time": "2022-01-05T23:20:03.899Z"
   },
   {
    "duration": 5005,
    "start_time": "2022-01-05T23:20:04.100Z"
   },
   {
    "duration": 7318,
    "start_time": "2022-01-05T23:20:09.108Z"
   },
   {
    "duration": 853,
    "start_time": "2022-01-05T23:20:31.174Z"
   },
   {
    "duration": 200,
    "start_time": "2022-01-05T23:20:32.030Z"
   },
   {
    "duration": 5192,
    "start_time": "2022-01-05T23:20:32.233Z"
   },
   {
    "duration": 7071,
    "start_time": "2022-01-05T23:20:37.427Z"
   },
   {
    "duration": 865,
    "start_time": "2022-01-05T23:21:49.604Z"
   },
   {
    "duration": 179,
    "start_time": "2022-01-05T23:21:50.472Z"
   },
   {
    "duration": 127,
    "start_time": "2022-01-05T23:21:50.655Z"
   },
   {
    "duration": -92,
    "start_time": "2022-01-05T23:21:50.876Z"
   },
   {
    "duration": 817,
    "start_time": "2022-01-05T23:22:42.466Z"
   },
   {
    "duration": 189,
    "start_time": "2022-01-05T23:22:43.287Z"
   },
   {
    "duration": 4905,
    "start_time": "2022-01-05T23:22:43.479Z"
   },
   {
    "duration": -127,
    "start_time": "2022-01-05T23:22:48.513Z"
   },
   {
    "duration": 770,
    "start_time": "2022-01-05T23:23:12.450Z"
   },
   {
    "duration": 175,
    "start_time": "2022-01-05T23:23:13.223Z"
   },
   {
    "duration": 4987,
    "start_time": "2022-01-05T23:23:13.400Z"
   },
   {
    "duration": 6661,
    "start_time": "2022-01-05T23:23:18.389Z"
   },
   {
    "duration": 834,
    "start_time": "2022-01-05T23:24:30.248Z"
   },
   {
    "duration": 172,
    "start_time": "2022-01-05T23:24:31.085Z"
   },
   {
    "duration": 4863,
    "start_time": "2022-01-05T23:24:31.260Z"
   },
   {
    "duration": 6587,
    "start_time": "2022-01-05T23:24:36.126Z"
   },
   {
    "duration": 830,
    "start_time": "2022-01-05T23:25:08.841Z"
   },
   {
    "duration": 167,
    "start_time": "2022-01-05T23:25:09.674Z"
   },
   {
    "duration": 5080,
    "start_time": "2022-01-05T23:25:09.845Z"
   },
   {
    "duration": 8123,
    "start_time": "2022-01-05T23:25:14.928Z"
   },
   {
    "duration": 799,
    "start_time": "2022-01-05T23:25:35.535Z"
   },
   {
    "duration": 174,
    "start_time": "2022-01-05T23:25:36.337Z"
   },
   {
    "duration": 5029,
    "start_time": "2022-01-05T23:25:36.514Z"
   },
   {
    "duration": 6643,
    "start_time": "2022-01-05T23:25:41.546Z"
   },
   {
    "duration": 837,
    "start_time": "2022-01-05T23:26:27.502Z"
   },
   {
    "duration": 194,
    "start_time": "2022-01-05T23:26:28.342Z"
   },
   {
    "duration": 4231,
    "start_time": "2022-01-05T23:26:28.539Z"
   },
   {
    "duration": 843,
    "start_time": "2022-01-05T23:26:32.773Z"
   },
   {
    "duration": 7118,
    "start_time": "2022-01-05T23:26:33.619Z"
   },
   {
    "duration": 937,
    "start_time": "2022-01-05T23:35:20.276Z"
   },
   {
    "duration": 186,
    "start_time": "2022-01-05T23:35:21.216Z"
   },
   {
    "duration": 4188,
    "start_time": "2022-01-05T23:35:21.405Z"
   },
   {
    "duration": 839,
    "start_time": "2022-01-05T23:35:25.596Z"
   },
   {
    "duration": 7065,
    "start_time": "2022-01-05T23:35:26.437Z"
   },
   {
    "duration": 360,
    "start_time": "2022-01-06T09:26:24.067Z"
   },
   {
    "duration": 1666,
    "start_time": "2022-01-06T09:26:27.208Z"
   },
   {
    "duration": 198,
    "start_time": "2022-01-06T09:26:28.877Z"
   },
   {
    "duration": 4088,
    "start_time": "2022-01-06T09:26:29.079Z"
   },
   {
    "duration": 959,
    "start_time": "2022-01-06T09:26:33.170Z"
   },
   {
    "duration": 6814,
    "start_time": "2022-01-06T09:26:34.132Z"
   },
   {
    "duration": 1136,
    "start_time": "2022-01-06T09:29:16.242Z"
   },
   {
    "duration": 944,
    "start_time": "2022-01-06T09:29:26.114Z"
   },
   {
    "duration": 795,
    "start_time": "2022-01-06T09:29:57.235Z"
   },
   {
    "duration": 161,
    "start_time": "2022-01-06T09:29:58.033Z"
   },
   {
    "duration": 3955,
    "start_time": "2022-01-06T09:29:58.197Z"
   },
   {
    "duration": 825,
    "start_time": "2022-01-06T09:30:02.154Z"
   },
   {
    "duration": 7369,
    "start_time": "2022-01-06T09:30:02.982Z"
   },
   {
    "duration": 827,
    "start_time": "2022-01-06T10:08:04.454Z"
   },
   {
    "duration": 180,
    "start_time": "2022-01-06T10:08:05.284Z"
   },
   {
    "duration": 4476,
    "start_time": "2022-01-06T10:08:05.467Z"
   },
   {
    "duration": 786,
    "start_time": "2022-01-06T10:08:09.946Z"
   },
   {
    "duration": 7444,
    "start_time": "2022-01-06T10:08:10.735Z"
   },
   {
    "duration": 849,
    "start_time": "2022-01-06T10:14:46.735Z"
   },
   {
    "duration": 186,
    "start_time": "2022-01-06T10:14:47.586Z"
   },
   {
    "duration": 4488,
    "start_time": "2022-01-06T10:14:47.775Z"
   },
   {
    "duration": 891,
    "start_time": "2022-01-06T10:14:52.265Z"
   },
   {
    "duration": 7992,
    "start_time": "2022-01-06T10:14:53.158Z"
   },
   {
    "duration": 852,
    "start_time": "2022-01-06T10:30:03.382Z"
   },
   {
    "duration": 184,
    "start_time": "2022-01-06T10:30:04.237Z"
   },
   {
    "duration": 4911,
    "start_time": "2022-01-06T10:30:04.424Z"
   },
   {
    "duration": 233,
    "start_time": "2022-01-06T10:30:09.104Z"
   },
   {
    "duration": 232,
    "start_time": "2022-01-06T10:30:09.107Z"
   },
   {
    "duration": 1035,
    "start_time": "2022-01-06T10:33:00.510Z"
   },
   {
    "duration": 173,
    "start_time": "2022-01-06T10:33:01.548Z"
   },
   {
    "duration": 4239,
    "start_time": "2022-01-06T10:33:01.725Z"
   },
   {
    "duration": 804,
    "start_time": "2022-01-06T10:33:05.966Z"
   },
   {
    "duration": 6821,
    "start_time": "2022-01-06T10:33:06.773Z"
   },
   {
    "duration": 831,
    "start_time": "2022-01-06T10:34:57.615Z"
   },
   {
    "duration": 191,
    "start_time": "2022-01-06T10:34:58.450Z"
   },
   {
    "duration": 4395,
    "start_time": "2022-01-06T10:34:58.644Z"
   },
   {
    "duration": 1060,
    "start_time": "2022-01-06T10:35:03.042Z"
   },
   {
    "duration": 7812,
    "start_time": "2022-01-06T10:35:04.104Z"
   },
   {
    "duration": 913,
    "start_time": "2022-01-06T10:35:29.654Z"
   },
   {
    "duration": 175,
    "start_time": "2022-01-06T10:35:30.570Z"
   },
   {
    "duration": 4065,
    "start_time": "2022-01-06T10:35:30.748Z"
   },
   {
    "duration": 891,
    "start_time": "2022-01-06T10:35:34.816Z"
   },
   {
    "duration": 8268,
    "start_time": "2022-01-06T10:35:35.716Z"
   },
   {
    "duration": 823,
    "start_time": "2022-01-06T10:37:22.396Z"
   },
   {
    "duration": 176,
    "start_time": "2022-01-06T10:37:23.221Z"
   },
   {
    "duration": 5816,
    "start_time": "2022-01-06T10:37:23.402Z"
   },
   {
    "duration": 963,
    "start_time": "2022-01-06T10:37:29.221Z"
   },
   {
    "duration": 7705,
    "start_time": "2022-01-06T10:37:30.187Z"
   },
   {
    "duration": 825,
    "start_time": "2022-01-06T10:41:50.441Z"
   },
   {
    "duration": 239,
    "start_time": "2022-01-06T10:41:51.269Z"
   },
   {
    "duration": 5785,
    "start_time": "2022-01-06T10:41:51.519Z"
   },
   {
    "duration": 1726,
    "start_time": "2022-01-06T10:41:57.307Z"
   },
   {
    "duration": 8047,
    "start_time": "2022-01-06T10:41:59.036Z"
   },
   {
    "duration": 876,
    "start_time": "2022-01-06T11:03:19.520Z"
   },
   {
    "duration": 186,
    "start_time": "2022-01-06T11:03:20.398Z"
   },
   {
    "duration": 174,
    "start_time": "2022-01-06T11:03:20.587Z"
   },
   {
    "duration": 201,
    "start_time": "2022-01-06T11:03:20.562Z"
   },
   {
    "duration": 192,
    "start_time": "2022-01-06T11:03:20.573Z"
   },
   {
    "duration": 829,
    "start_time": "2022-01-06T11:03:40.622Z"
   },
   {
    "duration": 168,
    "start_time": "2022-01-06T11:03:41.453Z"
   },
   {
    "duration": 3794,
    "start_time": "2022-01-06T11:03:41.624Z"
   },
   {
    "duration": -1012,
    "start_time": "2022-01-06T11:03:46.432Z"
   },
   {
    "duration": -1018,
    "start_time": "2022-01-06T11:03:46.440Z"
   },
   {
    "duration": 852,
    "start_time": "2022-01-06T11:07:47.665Z"
   },
   {
    "duration": 164,
    "start_time": "2022-01-06T11:07:48.520Z"
   },
   {
    "duration": 4160,
    "start_time": "2022-01-06T11:07:48.688Z"
   },
   {
    "duration": 826,
    "start_time": "2022-01-06T11:07:52.851Z"
   },
   {
    "duration": 6931,
    "start_time": "2022-01-06T11:07:53.680Z"
   },
   {
    "duration": 818,
    "start_time": "2022-01-06T11:09:12.471Z"
   },
   {
    "duration": 172,
    "start_time": "2022-01-06T11:09:13.292Z"
   },
   {
    "duration": 4170,
    "start_time": "2022-01-06T11:09:13.467Z"
   },
   {
    "duration": 909,
    "start_time": "2022-01-06T11:09:17.640Z"
   },
   {
    "duration": 7140,
    "start_time": "2022-01-06T11:09:18.552Z"
   },
   {
    "duration": 889,
    "start_time": "2022-01-06T11:12:16.533Z"
   },
   {
    "duration": 168,
    "start_time": "2022-01-06T11:12:17.425Z"
   },
   {
    "duration": 3643,
    "start_time": "2022-01-06T11:12:17.596Z"
   },
   {
    "duration": 185,
    "start_time": "2022-01-06T11:12:21.057Z"
   },
   {
    "duration": 179,
    "start_time": "2022-01-06T11:12:21.065Z"
   },
   {
    "duration": 1060,
    "start_time": "2022-01-06T11:19:03.197Z"
   },
   {
    "duration": 182,
    "start_time": "2022-01-06T11:19:04.259Z"
   },
   {
    "duration": 3616,
    "start_time": "2022-01-06T11:19:04.444Z"
   },
   {
    "duration": 178,
    "start_time": "2022-01-06T11:19:07.885Z"
   },
   {
    "duration": 175,
    "start_time": "2022-01-06T11:19:07.890Z"
   },
   {
    "duration": 818,
    "start_time": "2022-01-06T11:19:28.883Z"
   },
   {
    "duration": 154,
    "start_time": "2022-01-06T11:19:29.718Z"
   },
   {
    "duration": 3587,
    "start_time": "2022-01-06T11:19:29.876Z"
   },
   {
    "duration": 178,
    "start_time": "2022-01-06T11:19:33.288Z"
   },
   {
    "duration": 173,
    "start_time": "2022-01-06T11:19:33.294Z"
   },
   {
    "duration": 893,
    "start_time": "2022-01-06T11:37:18.344Z"
   },
   {
    "duration": 171,
    "start_time": "2022-01-06T11:37:19.240Z"
   },
   {
    "duration": 3623,
    "start_time": "2022-01-06T11:37:19.418Z"
   },
   {
    "duration": 154,
    "start_time": "2022-01-06T11:37:22.889Z"
   },
   {
    "duration": 148,
    "start_time": "2022-01-06T11:37:22.897Z"
   },
   {
    "duration": 806,
    "start_time": "2022-01-06T11:40:20.660Z"
   },
   {
    "duration": 185,
    "start_time": "2022-01-06T11:40:21.469Z"
   },
   {
    "duration": 3649,
    "start_time": "2022-01-06T11:40:21.657Z"
   },
   {
    "duration": 131,
    "start_time": "2022-01-06T11:40:25.178Z"
   },
   {
    "duration": 127,
    "start_time": "2022-01-06T11:40:25.183Z"
   },
   {
    "duration": 789,
    "start_time": "2022-01-06T11:56:01.785Z"
   },
   {
    "duration": 170,
    "start_time": "2022-01-06T11:56:02.577Z"
   },
   {
    "duration": 120,
    "start_time": "2022-01-06T11:56:02.750Z"
   },
   {
    "duration": 124,
    "start_time": "2022-01-06T11:56:02.748Z"
   },
   {
    "duration": 124,
    "start_time": "2022-01-06T11:56:02.750Z"
   },
   {
    "duration": 809,
    "start_time": "2022-01-06T11:56:15.633Z"
   },
   {
    "duration": 172,
    "start_time": "2022-01-06T11:56:16.444Z"
   },
   {
    "duration": 4042,
    "start_time": "2022-01-06T11:56:16.620Z"
   },
   {
    "duration": 832,
    "start_time": "2022-01-06T11:56:20.665Z"
   },
   {
    "duration": 7267,
    "start_time": "2022-01-06T11:56:21.500Z"
   },
   {
    "duration": 804,
    "start_time": "2022-01-06T11:56:58.160Z"
   },
   {
    "duration": 192,
    "start_time": "2022-01-06T11:56:58.967Z"
   },
   {
    "duration": 4361,
    "start_time": "2022-01-06T11:56:59.162Z"
   },
   {
    "duration": 1000,
    "start_time": "2022-01-06T11:57:03.525Z"
   },
   {
    "duration": 7661,
    "start_time": "2022-01-06T11:57:04.529Z"
   },
   {
    "duration": 822,
    "start_time": "2022-01-06T11:58:28.558Z"
   },
   {
    "duration": 195,
    "start_time": "2022-01-06T11:58:29.383Z"
   },
   {
    "duration": 4109,
    "start_time": "2022-01-06T11:58:29.582Z"
   },
   {
    "duration": 828,
    "start_time": "2022-01-06T11:58:33.694Z"
   },
   {
    "duration": 7343,
    "start_time": "2022-01-06T11:58:34.525Z"
   },
   {
    "duration": 857,
    "start_time": "2022-01-06T12:08:38.708Z"
   },
   {
    "duration": 175,
    "start_time": "2022-01-06T12:08:39.567Z"
   },
   {
    "duration": 4188,
    "start_time": "2022-01-06T12:08:39.745Z"
   },
   {
    "duration": 900,
    "start_time": "2022-01-06T12:08:43.936Z"
   },
   {
    "duration": 6864,
    "start_time": "2022-01-06T12:08:44.838Z"
   },
   {
    "duration": 859,
    "start_time": "2022-01-06T12:10:13.289Z"
   },
   {
    "duration": 170,
    "start_time": "2022-01-06T12:10:14.150Z"
   },
   {
    "duration": 4146,
    "start_time": "2022-01-06T12:10:14.323Z"
   },
   {
    "duration": 806,
    "start_time": "2022-01-06T12:10:18.472Z"
   },
   {
    "duration": 6897,
    "start_time": "2022-01-06T12:10:19.281Z"
   },
   {
    "duration": 916,
    "start_time": "2022-01-06T12:13:08.718Z"
   },
   {
    "duration": 187,
    "start_time": "2022-01-06T12:13:09.637Z"
   },
   {
    "duration": 4190,
    "start_time": "2022-01-06T12:13:09.827Z"
   },
   {
    "duration": 921,
    "start_time": "2022-01-06T12:13:14.020Z"
   },
   {
    "duration": 7492,
    "start_time": "2022-01-06T12:13:14.943Z"
   },
   {
    "duration": 832,
    "start_time": "2022-01-06T12:14:38.637Z"
   },
   {
    "duration": 181,
    "start_time": "2022-01-06T12:14:39.471Z"
   },
   {
    "duration": 3767,
    "start_time": "2022-01-06T12:14:39.655Z"
   },
   {
    "duration": 105,
    "start_time": "2022-01-06T12:14:43.320Z"
   },
   {
    "duration": 94,
    "start_time": "2022-01-06T12:14:43.333Z"
   },
   {
    "duration": 848,
    "start_time": "2022-01-06T12:15:26.475Z"
   },
   {
    "duration": 170,
    "start_time": "2022-01-06T12:15:27.325Z"
   },
   {
    "duration": 4161,
    "start_time": "2022-01-06T12:15:27.498Z"
   },
   {
    "duration": 834,
    "start_time": "2022-01-06T12:15:31.662Z"
   },
   {
    "duration": 6979,
    "start_time": "2022-01-06T12:15:32.507Z"
   },
   {
    "duration": 871,
    "start_time": "2022-01-06T12:16:58.898Z"
   },
   {
    "duration": 184,
    "start_time": "2022-01-06T12:16:59.771Z"
   },
   {
    "duration": 4163,
    "start_time": "2022-01-06T12:16:59.959Z"
   },
   {
    "duration": 810,
    "start_time": "2022-01-06T12:17:04.125Z"
   },
   {
    "duration": 7205,
    "start_time": "2022-01-06T12:17:04.938Z"
   },
   {
    "duration": 873,
    "start_time": "2022-01-06T12:17:26.104Z"
   },
   {
    "duration": 203,
    "start_time": "2022-01-06T12:17:26.980Z"
   },
   {
    "duration": 4075,
    "start_time": "2022-01-06T12:17:27.187Z"
   },
   {
    "duration": 845,
    "start_time": "2022-01-06T12:17:31.265Z"
   },
   {
    "duration": 6741,
    "start_time": "2022-01-06T12:17:32.112Z"
   },
   {
    "duration": 880,
    "start_time": "2022-01-06T12:20:19.286Z"
   },
   {
    "duration": 189,
    "start_time": "2022-01-06T12:20:20.168Z"
   },
   {
    "duration": 4200,
    "start_time": "2022-01-06T12:20:20.361Z"
   },
   {
    "duration": 801,
    "start_time": "2022-01-06T12:20:24.563Z"
   },
   {
    "duration": 7385,
    "start_time": "2022-01-06T12:20:25.367Z"
   },
   {
    "duration": 856,
    "start_time": "2022-01-06T12:22:13.603Z"
   },
   {
    "duration": 175,
    "start_time": "2022-01-06T12:22:14.461Z"
   },
   {
    "duration": 4221,
    "start_time": "2022-01-06T12:22:14.639Z"
   },
   {
    "duration": 841,
    "start_time": "2022-01-06T12:22:18.862Z"
   },
   {
    "duration": 8541,
    "start_time": "2022-01-06T12:22:19.706Z"
   },
   {
    "duration": 869,
    "start_time": "2022-01-06T12:22:58.498Z"
   },
   {
    "duration": 178,
    "start_time": "2022-01-06T12:22:59.370Z"
   },
   {
    "duration": 4603,
    "start_time": "2022-01-06T12:22:59.551Z"
   },
   {
    "duration": 820,
    "start_time": "2022-01-06T12:23:04.157Z"
   },
   {
    "duration": 7042,
    "start_time": "2022-01-06T12:23:04.979Z"
   },
   {
    "duration": 877,
    "start_time": "2022-01-06T12:25:44.631Z"
   },
   {
    "duration": 168,
    "start_time": "2022-01-06T12:25:45.510Z"
   },
   {
    "duration": 4467,
    "start_time": "2022-01-06T12:25:45.682Z"
   },
   {
    "duration": 810,
    "start_time": "2022-01-06T12:25:50.151Z"
   },
   {
    "duration": 7454,
    "start_time": "2022-01-06T12:25:50.964Z"
   },
   {
    "duration": 1008,
    "start_time": "2022-01-06T12:29:00.787Z"
   },
   {
    "duration": 189,
    "start_time": "2022-01-06T12:29:01.798Z"
   },
   {
    "duration": 4230,
    "start_time": "2022-01-06T12:29:01.990Z"
   },
   {
    "duration": 838,
    "start_time": "2022-01-06T12:29:06.223Z"
   },
   {
    "duration": 7204,
    "start_time": "2022-01-06T12:29:07.064Z"
   },
   {
    "duration": 542,
    "start_time": "2022-01-06T12:33:49.867Z"
   },
   {
    "duration": 933,
    "start_time": "2022-01-06T12:33:52.258Z"
   },
   {
    "duration": 181,
    "start_time": "2022-01-06T12:33:53.193Z"
   },
   {
    "duration": 4908,
    "start_time": "2022-01-06T12:33:53.377Z"
   },
   {
    "duration": 836,
    "start_time": "2022-01-06T12:33:58.288Z"
   },
   {
    "duration": 7329,
    "start_time": "2022-01-06T12:33:59.127Z"
   },
   {
    "duration": 572,
    "start_time": "2022-01-06T12:35:11.089Z"
   },
   {
    "duration": 799,
    "start_time": "2022-01-06T12:35:13.868Z"
   },
   {
    "duration": 198,
    "start_time": "2022-01-06T12:35:14.671Z"
   },
   {
    "duration": 4291,
    "start_time": "2022-01-06T12:35:14.872Z"
   },
   {
    "duration": 900,
    "start_time": "2022-01-06T12:35:19.165Z"
   },
   {
    "duration": 12534,
    "start_time": "2022-01-06T12:35:20.067Z"
   },
   {
    "duration": 954,
    "start_time": "2022-01-06T12:38:59.968Z"
   },
   {
    "duration": 178,
    "start_time": "2022-01-06T12:39:00.925Z"
   },
   {
    "duration": 4342,
    "start_time": "2022-01-06T12:39:01.119Z"
   },
   {
    "duration": 814,
    "start_time": "2022-01-06T12:39:05.463Z"
   },
   {
    "duration": 7262,
    "start_time": "2022-01-06T12:39:06.279Z"
   },
   {
    "duration": 844,
    "start_time": "2022-01-06T12:41:10.373Z"
   },
   {
    "duration": 164,
    "start_time": "2022-01-06T12:41:11.220Z"
   },
   {
    "duration": 4267,
    "start_time": "2022-01-06T12:41:11.388Z"
   },
   {
    "duration": 854,
    "start_time": "2022-01-06T12:41:15.657Z"
   },
   {
    "duration": 7098,
    "start_time": "2022-01-06T12:41:16.518Z"
   },
   {
    "duration": 891,
    "start_time": "2022-01-06T12:43:41.732Z"
   },
   {
    "duration": 172,
    "start_time": "2022-01-06T12:43:42.625Z"
   },
   {
    "duration": 4779,
    "start_time": "2022-01-06T12:43:42.801Z"
   },
   {
    "duration": 911,
    "start_time": "2022-01-06T12:43:47.583Z"
   },
   {
    "duration": 7124,
    "start_time": "2022-01-06T12:43:48.496Z"
   },
   {
    "duration": 810,
    "start_time": "2022-01-06T12:46:33.351Z"
   },
   {
    "duration": 176,
    "start_time": "2022-01-06T12:46:34.163Z"
   },
   {
    "duration": 4171,
    "start_time": "2022-01-06T12:46:34.342Z"
   },
   {
    "duration": 826,
    "start_time": "2022-01-06T12:46:38.517Z"
   },
   {
    "duration": 7800,
    "start_time": "2022-01-06T12:46:39.346Z"
   },
   {
    "duration": 813,
    "start_time": "2022-01-06T12:48:01.765Z"
   },
   {
    "duration": 171,
    "start_time": "2022-01-06T12:48:02.581Z"
   },
   {
    "duration": 4240,
    "start_time": "2022-01-06T12:48:02.755Z"
   },
   {
    "duration": 890,
    "start_time": "2022-01-06T12:48:06.997Z"
   },
   {
    "duration": 7799,
    "start_time": "2022-01-06T12:48:07.890Z"
   },
   {
    "duration": 870,
    "start_time": "2022-01-06T12:54:05.311Z"
   },
   {
    "duration": 179,
    "start_time": "2022-01-06T12:54:06.185Z"
   },
   {
    "duration": 3779,
    "start_time": "2022-01-06T12:54:06.367Z"
   },
   {
    "duration": 69,
    "start_time": "2022-01-06T12:54:10.080Z"
   },
   {
    "duration": 68,
    "start_time": "2022-01-06T12:54:10.082Z"
   },
   {
    "duration": 832,
    "start_time": "2022-01-06T12:54:35.638Z"
   },
   {
    "duration": 179,
    "start_time": "2022-01-06T12:54:36.473Z"
   },
   {
    "duration": 4578,
    "start_time": "2022-01-06T12:54:36.655Z"
   },
   {
    "duration": 58,
    "start_time": "2022-01-06T12:54:41.177Z"
   },
   {
    "duration": 52,
    "start_time": "2022-01-06T12:54:41.185Z"
   },
   {
    "duration": 871,
    "start_time": "2022-01-06T12:55:50.180Z"
   },
   {
    "duration": 183,
    "start_time": "2022-01-06T12:55:51.054Z"
   },
   {
    "duration": 4215,
    "start_time": "2022-01-06T12:55:51.240Z"
   },
   {
    "duration": 800,
    "start_time": "2022-01-06T12:55:55.458Z"
   },
   {
    "duration": 9528,
    "start_time": "2022-01-06T12:55:56.261Z"
   },
   {
    "duration": 919,
    "start_time": "2022-01-06T12:58:00.898Z"
   },
   {
    "duration": 179,
    "start_time": "2022-01-06T12:58:01.820Z"
   },
   {
    "duration": 4189,
    "start_time": "2022-01-06T12:58:02.003Z"
   },
   {
    "duration": 885,
    "start_time": "2022-01-06T12:58:06.195Z"
   },
   {
    "duration": 6876,
    "start_time": "2022-01-06T12:58:07.083Z"
   },
   {
    "duration": 861,
    "start_time": "2022-01-06T13:00:03.184Z"
   },
   {
    "duration": 181,
    "start_time": "2022-01-06T13:00:04.048Z"
   },
   {
    "duration": 4165,
    "start_time": "2022-01-06T13:00:04.232Z"
   },
   {
    "duration": 828,
    "start_time": "2022-01-06T13:00:08.400Z"
   },
   {
    "duration": 8125,
    "start_time": "2022-01-06T13:00:09.231Z"
   },
   {
    "duration": 857,
    "start_time": "2022-01-06T13:08:33.477Z"
   },
   {
    "duration": 166,
    "start_time": "2022-01-06T13:08:34.336Z"
   },
   {
    "duration": 5917,
    "start_time": "2022-01-06T13:08:34.506Z"
   },
   {
    "duration": 830,
    "start_time": "2022-01-06T13:08:40.427Z"
   },
   {
    "duration": 7198,
    "start_time": "2022-01-06T13:08:41.260Z"
   },
   {
    "duration": 874,
    "start_time": "2022-01-06T13:14:37.759Z"
   },
   {
    "duration": 171,
    "start_time": "2022-01-06T13:14:38.636Z"
   },
   {
    "duration": 4273,
    "start_time": "2022-01-06T13:14:38.819Z"
   },
   {
    "duration": 917,
    "start_time": "2022-01-06T13:14:43.095Z"
   },
   {
    "duration": 7316,
    "start_time": "2022-01-06T13:14:44.018Z"
   },
   {
    "duration": 870,
    "start_time": "2022-01-06T13:17:11.659Z"
   },
   {
    "duration": 174,
    "start_time": "2022-01-06T13:17:12.532Z"
   },
   {
    "duration": 4275,
    "start_time": "2022-01-06T13:17:12.709Z"
   },
   {
    "duration": 806,
    "start_time": "2022-01-06T13:17:16.987Z"
   },
   {
    "duration": 7791,
    "start_time": "2022-01-06T13:17:17.795Z"
   },
   {
    "duration": 834,
    "start_time": "2022-01-06T13:22:07.135Z"
   },
   {
    "duration": 181,
    "start_time": "2022-01-06T13:22:07.972Z"
   },
   {
    "duration": 4296,
    "start_time": "2022-01-06T13:22:08.156Z"
   },
   {
    "duration": 837,
    "start_time": "2022-01-06T13:22:12.454Z"
   },
   {
    "duration": 8912,
    "start_time": "2022-01-06T13:22:13.294Z"
   },
   {
    "duration": 858,
    "start_time": "2022-01-06T13:25:35.194Z"
   },
   {
    "duration": 184,
    "start_time": "2022-01-06T13:25:36.055Z"
   },
   {
    "duration": 4133,
    "start_time": "2022-01-06T13:25:36.242Z"
   },
   {
    "duration": 956,
    "start_time": "2022-01-06T13:25:40.378Z"
   },
   {
    "duration": 7920,
    "start_time": "2022-01-06T13:25:41.336Z"
   },
   {
    "duration": 830,
    "start_time": "2022-01-06T13:29:08.997Z"
   },
   {
    "duration": 165,
    "start_time": "2022-01-06T13:29:09.830Z"
   },
   {
    "duration": 10560,
    "start_time": "2022-01-06T13:29:09.998Z"
   },
   {
    "duration": 21,
    "start_time": "2022-01-06T13:29:20.540Z"
   },
   {
    "duration": 19,
    "start_time": "2022-01-06T13:29:20.543Z"
   },
   {
    "duration": 857,
    "start_time": "2022-01-06T13:30:45.460Z"
   },
   {
    "duration": 170,
    "start_time": "2022-01-06T13:30:46.320Z"
   },
   {
    "duration": 11755,
    "start_time": "2022-01-06T13:30:46.493Z"
   },
   {
    "duration": 19,
    "start_time": "2022-01-06T13:30:58.232Z"
   },
   {
    "duration": 18,
    "start_time": "2022-01-06T13:30:58.234Z"
   },
   {
    "duration": 852,
    "start_time": "2022-01-06T13:31:43.906Z"
   },
   {
    "duration": 186,
    "start_time": "2022-01-06T13:31:44.760Z"
   },
   {
    "duration": 11291,
    "start_time": "2022-01-06T13:31:44.949Z"
   },
   {
    "duration": 16,
    "start_time": "2022-01-06T13:31:56.226Z"
   },
   {
    "duration": 13,
    "start_time": "2022-01-06T13:31:56.230Z"
   },
   {
    "duration": 838,
    "start_time": "2022-01-06T13:32:36.289Z"
   },
   {
    "duration": 172,
    "start_time": "2022-01-06T13:32:37.129Z"
   },
   {
    "duration": 11094,
    "start_time": "2022-01-06T13:32:37.304Z"
   },
   {
    "duration": -26,
    "start_time": "2022-01-06T13:32:48.427Z"
   },
   {
    "duration": -33,
    "start_time": "2022-01-06T13:32:48.436Z"
   },
   {
    "duration": 853,
    "start_time": "2022-01-06T13:34:35.127Z"
   },
   {
    "duration": 175,
    "start_time": "2022-01-06T13:34:35.983Z"
   },
   {
    "duration": 4195,
    "start_time": "2022-01-06T13:34:36.161Z"
   },
   {
    "duration": 815,
    "start_time": "2022-01-06T13:34:40.358Z"
   },
   {
    "duration": 7158,
    "start_time": "2022-01-06T13:34:41.176Z"
   },
   {
    "duration": 908,
    "start_time": "2022-01-06T13:41:04.679Z"
   },
   {
    "duration": 174,
    "start_time": "2022-01-06T13:41:05.589Z"
   },
   {
    "duration": 4620,
    "start_time": "2022-01-06T13:41:05.767Z"
   },
   {
    "duration": 828,
    "start_time": "2022-01-06T13:41:10.390Z"
   },
   {
    "duration": 7519,
    "start_time": "2022-01-06T13:41:11.221Z"
   },
   {
    "duration": 921,
    "start_time": "2022-01-06T13:46:20.857Z"
   },
   {
    "duration": 179,
    "start_time": "2022-01-06T13:46:21.780Z"
   },
   {
    "duration": 3471,
    "start_time": "2022-01-06T13:46:21.962Z"
   },
   {
    "duration": 3,
    "start_time": "2022-01-06T13:46:25.433Z"
   },
   {
    "duration": 3,
    "start_time": "2022-01-06T13:46:25.435Z"
   },
   {
    "duration": 891,
    "start_time": "2022-01-06T13:47:15.737Z"
   },
   {
    "duration": 253,
    "start_time": "2022-01-06T13:47:16.631Z"
   },
   {
    "duration": 10522,
    "start_time": "2022-01-06T13:47:16.888Z"
   },
   {
    "duration": -2,
    "start_time": "2022-01-06T13:47:27.415Z"
   },
   {
    "duration": -3,
    "start_time": "2022-01-06T13:47:27.418Z"
   },
   {
    "duration": 869,
    "start_time": "2022-01-06T13:48:44.598Z"
   },
   {
    "duration": 189,
    "start_time": "2022-01-06T13:48:45.470Z"
   },
   {
    "duration": 4180,
    "start_time": "2022-01-06T13:48:45.663Z"
   },
   {
    "duration": 829,
    "start_time": "2022-01-06T13:48:49.846Z"
   },
   {
    "duration": 6949,
    "start_time": "2022-01-06T13:48:50.677Z"
   },
   {
    "duration": 837,
    "start_time": "2022-01-06T13:50:44.085Z"
   },
   {
    "duration": 176,
    "start_time": "2022-01-06T13:50:44.925Z"
   },
   {
    "duration": 4190,
    "start_time": "2022-01-06T13:50:45.104Z"
   },
   {
    "duration": 903,
    "start_time": "2022-01-06T13:50:49.297Z"
   },
   {
    "duration": 7319,
    "start_time": "2022-01-06T13:50:50.203Z"
   },
   {
    "duration": 951,
    "start_time": "2022-01-06T13:57:17.622Z"
   },
   {
    "duration": 188,
    "start_time": "2022-01-06T13:57:18.575Z"
   },
   {
    "duration": 4221,
    "start_time": "2022-01-06T13:57:18.767Z"
   },
   {
    "duration": 812,
    "start_time": "2022-01-06T13:57:22.990Z"
   },
   {
    "duration": 7206,
    "start_time": "2022-01-06T13:57:23.804Z"
   },
   {
    "duration": 967,
    "start_time": "2022-01-06T14:00:20.914Z"
   },
   {
    "duration": 177,
    "start_time": "2022-01-06T14:00:21.883Z"
   },
   {
    "duration": 4232,
    "start_time": "2022-01-06T14:00:22.064Z"
   },
   {
    "duration": 832,
    "start_time": "2022-01-06T14:00:26.298Z"
   },
   {
    "duration": 6890,
    "start_time": "2022-01-06T14:00:27.132Z"
   },
   {
    "duration": 808,
    "start_time": "2022-01-06T14:04:19.555Z"
   },
   {
    "duration": 913,
    "start_time": "2022-01-06T14:05:58.555Z"
   },
   {
    "duration": 201,
    "start_time": "2022-01-06T14:05:59.472Z"
   },
   {
    "duration": 4229,
    "start_time": "2022-01-06T14:05:59.676Z"
   },
   {
    "duration": 820,
    "start_time": "2022-01-06T14:06:03.907Z"
   },
   {
    "duration": 6823,
    "start_time": "2022-01-06T14:06:04.730Z"
   },
   {
    "duration": 800,
    "start_time": "2022-01-06T14:36:20.963Z"
   },
   {
    "duration": 829,
    "start_time": "2022-01-06T14:37:13.838Z"
   },
   {
    "duration": 188,
    "start_time": "2022-01-06T14:37:14.670Z"
   },
   {
    "duration": 4310,
    "start_time": "2022-01-06T14:37:14.862Z"
   },
   {
    "duration": 834,
    "start_time": "2022-01-06T14:37:19.175Z"
   },
   {
    "duration": 7419,
    "start_time": "2022-01-06T14:37:20.011Z"
   },
   {
    "duration": 851,
    "start_time": "2022-01-06T14:43:02.135Z"
   },
   {
    "duration": 180,
    "start_time": "2022-01-06T14:43:02.989Z"
   },
   {
    "duration": 4795,
    "start_time": "2022-01-06T14:43:03.172Z"
   },
   {
    "duration": 934,
    "start_time": "2022-01-06T14:43:07.970Z"
   },
   {
    "duration": 6913,
    "start_time": "2022-01-06T14:43:08.917Z"
   },
   {
    "duration": 428,
    "start_time": "2022-01-07T12:27:44.605Z"
   },
   {
    "duration": 2503,
    "start_time": "2022-01-07T12:27:56.658Z"
   },
   {
    "duration": 181,
    "start_time": "2022-01-07T12:27:59.164Z"
   },
   {
    "duration": 4197,
    "start_time": "2022-01-07T12:27:59.347Z"
   },
   {
    "duration": 836,
    "start_time": "2022-01-07T12:28:03.546Z"
   },
   {
    "duration": 702,
    "start_time": "2022-01-07T12:28:04.385Z"
   },
   {
    "duration": 944,
    "start_time": "2022-01-07T12:30:50.829Z"
   },
   {
    "duration": 163,
    "start_time": "2022-01-07T12:30:51.776Z"
   },
   {
    "duration": 4123,
    "start_time": "2022-01-07T12:30:51.942Z"
   },
   {
    "duration": 881,
    "start_time": "2022-01-07T12:30:56.068Z"
   },
   {
    "duration": 655,
    "start_time": "2022-01-07T12:30:56.951Z"
   },
   {
    "duration": 1394,
    "start_time": "2022-01-07T12:32:15.022Z"
   },
   {
    "duration": 1432,
    "start_time": "2022-01-07T12:32:21.683Z"
   },
   {
    "duration": 179,
    "start_time": "2022-01-07T12:32:23.118Z"
   },
   {
    "duration": 4055,
    "start_time": "2022-01-07T12:32:23.301Z"
   },
   {
    "duration": 811,
    "start_time": "2022-01-07T12:32:27.359Z"
   },
   {
    "duration": 638,
    "start_time": "2022-01-07T12:32:28.172Z"
   },
   {
    "duration": 867,
    "start_time": "2022-01-07T12:41:41.153Z"
   },
   {
    "duration": 172,
    "start_time": "2022-01-07T12:41:42.022Z"
   },
   {
    "duration": 4132,
    "start_time": "2022-01-07T12:41:42.197Z"
   },
   {
    "duration": 991,
    "start_time": "2022-01-07T12:41:46.331Z"
   },
   {
    "duration": 629,
    "start_time": "2022-01-07T12:41:47.324Z"
   },
   {
    "duration": 888,
    "start_time": "2022-01-07T12:44:10.173Z"
   },
   {
    "duration": 174,
    "start_time": "2022-01-07T12:44:11.064Z"
   },
   {
    "duration": 5359,
    "start_time": "2022-01-07T12:44:11.241Z"
   },
   {
    "duration": -558,
    "start_time": "2022-01-07T12:44:17.161Z"
   },
   {
    "duration": -562,
    "start_time": "2022-01-07T12:44:17.166Z"
   },
   {
    "duration": 903,
    "start_time": "2022-01-07T12:45:00.733Z"
   },
   {
    "duration": 178,
    "start_time": "2022-01-07T12:45:01.639Z"
   },
   {
    "duration": 3946,
    "start_time": "2022-01-07T12:45:01.820Z"
   },
   {
    "duration": 63,
    "start_time": "2022-01-07T12:45:05.706Z"
   },
   {
    "duration": 58,
    "start_time": "2022-01-07T12:45:05.712Z"
   },
   {
    "duration": 151,
    "start_time": "2022-01-07T12:46:43.056Z"
   },
   {
    "duration": 915,
    "start_time": "2022-01-07T12:46:45.467Z"
   },
   {
    "duration": 185,
    "start_time": "2022-01-07T12:46:46.385Z"
   },
   {
    "duration": 160,
    "start_time": "2022-01-07T12:46:46.573Z"
   },
   {
    "duration": 76,
    "start_time": "2022-01-07T12:46:46.659Z"
   },
   {
    "duration": 75,
    "start_time": "2022-01-07T12:46:46.662Z"
   },
   {
    "duration": 869,
    "start_time": "2022-01-07T12:47:18.595Z"
   },
   {
    "duration": 165,
    "start_time": "2022-01-07T12:47:19.467Z"
   },
   {
    "duration": 5593,
    "start_time": "2022-01-07T12:47:19.636Z"
   },
   {
    "duration": 74,
    "start_time": "2022-01-07T12:47:25.157Z"
   },
   {
    "duration": 69,
    "start_time": "2022-01-07T12:47:25.164Z"
   },
   {
    "duration": 960,
    "start_time": "2022-01-07T12:48:19.226Z"
   },
   {
    "duration": 163,
    "start_time": "2022-01-07T12:48:20.189Z"
   },
   {
    "duration": 5089,
    "start_time": "2022-01-07T12:48:20.360Z"
   },
   {
    "duration": 73,
    "start_time": "2022-01-07T12:48:25.378Z"
   },
   {
    "duration": 68,
    "start_time": "2022-01-07T12:48:25.385Z"
   },
   {
    "duration": 961,
    "start_time": "2022-01-07T12:53:04.381Z"
   },
   {
    "duration": 353,
    "start_time": "2022-01-07T12:53:05.345Z"
   },
   {
    "duration": 4171,
    "start_time": "2022-01-07T12:53:05.709Z"
   },
   {
    "duration": 77,
    "start_time": "2022-01-07T12:53:09.806Z"
   },
   {
    "duration": 69,
    "start_time": "2022-01-07T12:53:09.815Z"
   },
   {
    "duration": 904,
    "start_time": "2022-01-07T13:00:19.963Z"
   },
   {
    "duration": 179,
    "start_time": "2022-01-07T13:00:20.871Z"
   },
   {
    "duration": 4392,
    "start_time": "2022-01-07T13:00:21.061Z"
   },
   {
    "duration": 894,
    "start_time": "2022-01-07T13:00:25.456Z"
   },
   {
    "duration": 726,
    "start_time": "2022-01-07T13:00:26.352Z"
   },
   {
    "duration": 7,
    "start_time": "2022-01-07T13:06:38.077Z"
   },
   {
    "duration": 8,
    "start_time": "2022-01-07T13:06:51.625Z"
   },
   {
    "duration": 8,
    "start_time": "2022-01-07T13:06:56.033Z"
   },
   {
    "duration": 499,
    "start_time": "2022-01-07T13:07:59.369Z"
   },
   {
    "duration": 450,
    "start_time": "2022-01-07T13:08:03.440Z"
   },
   {
    "duration": 7,
    "start_time": "2022-01-07T13:08:18.024Z"
   },
   {
    "duration": 11,
    "start_time": "2022-01-07T13:19:33.858Z"
   },
   {
    "duration": 192,
    "start_time": "2022-01-07T13:38:32.934Z"
   },
   {
    "duration": 2798,
    "start_time": "2022-01-07T13:47:14.181Z"
   },
   {
    "duration": 165,
    "start_time": "2022-01-07T13:47:16.982Z"
   },
   {
    "duration": 4476,
    "start_time": "2022-01-07T13:47:17.158Z"
   },
   {
    "duration": 1005,
    "start_time": "2022-01-07T13:47:21.638Z"
   },
   {
    "duration": 14,
    "start_time": "2022-01-07T13:47:22.645Z"
   },
   {
    "duration": 146,
    "start_time": "2022-01-07T13:47:22.662Z"
   },
   {
    "duration": 15,
    "start_time": "2022-01-07T13:51:51.820Z"
   },
   {
    "duration": 15,
    "start_time": "2022-01-07T13:52:18.982Z"
   },
   {
    "duration": 44,
    "start_time": "2022-01-07T13:53:05.676Z"
   },
   {
    "duration": 68,
    "start_time": "2022-01-07T13:53:58.341Z"
   },
   {
    "duration": 1016,
    "start_time": "2022-01-07T13:54:14.853Z"
   },
   {
    "duration": 190,
    "start_time": "2022-01-07T13:54:15.872Z"
   },
   {
    "duration": 4807,
    "start_time": "2022-01-07T13:54:16.067Z"
   },
   {
    "duration": 914,
    "start_time": "2022-01-07T13:54:20.877Z"
   },
   {
    "duration": 8,
    "start_time": "2022-01-07T13:54:21.793Z"
   },
   {
    "duration": 80,
    "start_time": "2022-01-07T13:54:21.803Z"
   },
   {
    "duration": 1024,
    "start_time": "2022-01-07T14:01:59.266Z"
   },
   {
    "duration": 228,
    "start_time": "2022-01-07T14:02:00.292Z"
   },
   {
    "duration": 4665,
    "start_time": "2022-01-07T14:02:00.523Z"
   },
   {
    "duration": 1104,
    "start_time": "2022-01-07T14:02:05.191Z"
   },
   {
    "duration": 16,
    "start_time": "2022-01-07T14:02:06.298Z"
   },
   {
    "duration": 44,
    "start_time": "2022-01-07T14:02:06.317Z"
   },
   {
    "duration": 974,
    "start_time": "2022-01-07T14:08:38.965Z"
   },
   {
    "duration": 176,
    "start_time": "2022-01-07T14:08:39.959Z"
   },
   {
    "duration": 4604,
    "start_time": "2022-01-07T14:08:40.138Z"
   },
   {
    "duration": 891,
    "start_time": "2022-01-07T14:08:44.744Z"
   },
   {
    "duration": 28,
    "start_time": "2022-01-07T14:08:45.637Z"
   },
   {
    "duration": 15,
    "start_time": "2022-01-07T14:08:45.668Z"
   },
   {
    "duration": 21,
    "start_time": "2022-01-07T14:22:07.772Z"
   },
   {
    "duration": 15,
    "start_time": "2022-01-07T14:30:47.297Z"
   },
   {
    "duration": 15,
    "start_time": "2022-01-07T14:31:57.023Z"
   },
   {
    "duration": 16,
    "start_time": "2022-01-07T14:32:25.887Z"
   },
   {
    "duration": 15,
    "start_time": "2022-01-07T14:32:29.864Z"
   },
   {
    "duration": 931,
    "start_time": "2022-01-07T15:01:32.757Z"
   },
   {
    "duration": 194,
    "start_time": "2022-01-07T15:01:33.691Z"
   },
   {
    "duration": 4493,
    "start_time": "2022-01-07T15:01:33.888Z"
   },
   {
    "duration": 838,
    "start_time": "2022-01-07T15:01:38.383Z"
   },
   {
    "duration": 16,
    "start_time": "2022-01-07T15:01:39.223Z"
   },
   {
    "duration": 14,
    "start_time": "2022-01-07T15:01:39.260Z"
   },
   {
    "duration": 1015,
    "start_time": "2022-01-07T15:37:09.309Z"
   },
   {
    "duration": 190,
    "start_time": "2022-01-07T15:37:10.327Z"
   },
   {
    "duration": 4338,
    "start_time": "2022-01-07T15:37:10.521Z"
   },
   {
    "duration": 857,
    "start_time": "2022-01-07T15:37:14.861Z"
   },
   {
    "duration": 15,
    "start_time": "2022-01-07T15:37:15.721Z"
   },
   {
    "duration": 30,
    "start_time": "2022-01-07T15:37:15.739Z"
   },
   {
    "duration": 1580,
    "start_time": "2022-01-07T15:37:53.548Z"
   },
   {
    "duration": 172,
    "start_time": "2022-01-07T15:37:55.131Z"
   },
   {
    "duration": 4161,
    "start_time": "2022-01-07T15:37:55.306Z"
   },
   {
    "duration": 990,
    "start_time": "2022-01-07T15:37:59.469Z"
   },
   {
    "duration": 14,
    "start_time": "2022-01-07T15:38:00.462Z"
   },
   {
    "duration": 33,
    "start_time": "2022-01-07T15:38:00.478Z"
   },
   {
    "duration": 2460,
    "start_time": "2022-01-07T16:04:02.468Z"
   },
   {
    "duration": 185,
    "start_time": "2022-01-07T16:04:04.931Z"
   },
   {
    "duration": 4256,
    "start_time": "2022-01-07T16:04:05.122Z"
   },
   {
    "duration": 852,
    "start_time": "2022-01-07T16:04:09.380Z"
   },
   {
    "duration": 25,
    "start_time": "2022-01-07T16:04:10.235Z"
   },
   {
    "duration": 14,
    "start_time": "2022-01-07T16:04:10.262Z"
   },
   {
    "duration": 2222,
    "start_time": "2022-01-08T16:09:14.161Z"
   },
   {
    "duration": 190,
    "start_time": "2022-01-08T16:09:16.386Z"
   },
   {
    "duration": 4268,
    "start_time": "2022-01-08T16:09:16.579Z"
   },
   {
    "duration": 853,
    "start_time": "2022-01-08T16:09:20.849Z"
   },
   {
    "duration": 20,
    "start_time": "2022-01-08T16:09:21.705Z"
   },
   {
    "duration": 17,
    "start_time": "2022-01-08T16:09:21.727Z"
   },
   {
    "duration": 26,
    "start_time": "2022-01-08T16:21:11.154Z"
   },
   {
    "duration": 22,
    "start_time": "2022-01-08T16:21:18.131Z"
   },
   {
    "duration": 121,
    "start_time": "2022-01-08T18:59:09.366Z"
   },
   {
    "duration": 2345,
    "start_time": "2022-01-08T19:22:47.253Z"
   },
   {
    "duration": 177,
    "start_time": "2022-01-08T19:22:49.601Z"
   },
   {
    "duration": 4294,
    "start_time": "2022-01-08T19:22:49.782Z"
   },
   {
    "duration": 836,
    "start_time": "2022-01-08T19:22:54.079Z"
   },
   {
    "duration": 15,
    "start_time": "2022-01-08T19:22:54.918Z"
   },
   {
    "duration": 16,
    "start_time": "2022-01-08T19:22:54.959Z"
   },
   {
    "duration": 708,
    "start_time": "2022-01-08T19:24:38.224Z"
   },
   {
    "duration": 936,
    "start_time": "2022-01-08T19:24:48.081Z"
   },
   {
    "duration": 193,
    "start_time": "2022-01-08T19:24:49.020Z"
   },
   {
    "duration": 3443,
    "start_time": "2022-01-08T19:24:49.216Z"
   },
   {
    "duration": 843,
    "start_time": "2022-01-08T19:24:52.663Z"
   },
   {
    "duration": 842,
    "start_time": "2022-01-08T19:24:53.508Z"
   },
   {
    "duration": 20,
    "start_time": "2022-01-08T19:24:54.353Z"
   },
   {
    "duration": 17,
    "start_time": "2022-01-08T19:24:54.376Z"
   },
   {
    "duration": 913,
    "start_time": "2022-01-08T19:26:06.675Z"
   },
   {
    "duration": 186,
    "start_time": "2022-01-08T19:26:07.591Z"
   },
   {
    "duration": 3599,
    "start_time": "2022-01-08T19:26:07.781Z"
   },
   {
    "duration": 747,
    "start_time": "2022-01-08T19:26:11.383Z"
   },
   {
    "duration": 1041,
    "start_time": "2022-01-08T19:26:12.132Z"
   },
   {
    "duration": 17,
    "start_time": "2022-01-08T19:26:13.176Z"
   },
   {
    "duration": 14,
    "start_time": "2022-01-08T19:26:13.195Z"
   }
  ],
  "celltoolbar": "Отсутствует",
  "kernelspec": {
   "display_name": "Python 3 (ipykernel)",
   "language": "python",
   "name": "python3"
  },
  "language_info": {
   "codemirror_mode": {
    "name": "ipython",
    "version": 3
   },
   "file_extension": ".py",
   "mimetype": "text/x-python",
   "name": "python",
   "nbconvert_exporter": "python",
   "pygments_lexer": "ipython3",
   "version": "3.9.7"
  },
  "toc": {
   "base_numbering": 1,
   "nav_menu": {
    "height": "45px",
    "width": "160px"
   },
   "number_sections": true,
   "sideBar": true,
   "skip_h1_title": true,
   "title_cell": "Содержание",
   "title_sidebar": "Contents",
   "toc_cell": true,
   "toc_position": {
    "height": "calc(100% - 180px)",
    "left": "10px",
    "top": "150px",
    "width": "384px"
   },
   "toc_section_display": true,
   "toc_window_display": false
  }
 },
 "nbformat": 4,
 "nbformat_minor": 2
}
